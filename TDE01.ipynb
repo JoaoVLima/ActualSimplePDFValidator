{
  "nbformat": 4,
  "nbformat_minor": 0,
  "metadata": {
    "colab": {
      "provenance": [],
      "collapsed_sections": [
        "xZBB2LZw1pG0",
        "7vZvBgb01sqv"
      ],
      "authorship_tag": "ABX9TyPoy8RuqHlweING04gTTEkh",
      "include_colab_link": true
    },
    "kernelspec": {
      "name": "python3",
      "display_name": "Python 3"
    },
    "language_info": {
      "name": "python"
    }
  },
  "cells": [
    {
      "cell_type": "markdown",
      "metadata": {
        "id": "view-in-github",
        "colab_type": "text"
      },
      "source": [
        "<a href=\"https://colab.research.google.com/github/JoaoVLima/ActualSimplePDFValidator/blob/main/TDE01.ipynb\" target=\"_parent\"><img src=\"https://colab.research.google.com/assets/colab-badge.svg\" alt=\"Open In Colab\"/></a>"
      ]
    },
    {
      "cell_type": "markdown",
      "source": [
        "# PUCPR\n",
        "## **João Victor de Lima**\n",
        "### TDE01 - Construção de Interpretadores\n",
        "**Desenvolver um programa que analise documentos no\n",
        "formato simplepdf**, uma versão textual simplificada inspirada na estrutura interna de arquivos pdf.\n",
        "O programa deverá **processar documentos simplepdf**, **validar sua estrutura segundo as regras formais da linguagem que aqui será definida**, **gerar estatísticas** e **transformações do conteúdo**.\n",
        "\n",
        "[adobe pdf docs (for reference)](https://opensource.adobe.com/dc-acrobat-sdk-docs/pdfstandards/pdfreference1.0.pdf)"
      ],
      "metadata": {
        "id": "UjW58x5wm23l"
      }
    },
    {
      "cell_type": "markdown",
      "source": [
        "# Explicação"
      ],
      "metadata": {
        "id": "UzsHdyhkU-ZI"
      }
    },
    {
      "cell_type": "markdown",
      "source": [
        "## Formato SimplePDF"
      ],
      "metadata": {
        "id": "LjTnt8hlVBs_"
      }
    },
    {
      "cell_type": "markdown",
      "source": [
        "O SimplePDF é combosto por:"
      ],
      "metadata": {
        "id": "9GYP-CAJVYjW"
      }
    },
    {
      "cell_type": "markdown",
      "source": [
        "1. **Cabeçalho**: Todo documento começa com uma linha de cabeçalho\n",
        "```\n",
        "%SPDF-1.0\n",
        "```"
      ],
      "metadata": {
        "id": "_BvhS5tmV8Kj"
      }
    },
    {
      "cell_type": "markdown",
      "source": [
        "2. **Objetos**: O documento consiste em objetos numerados no formato\n",
        "```\n",
        "obj_id obj_gen obj\n",
        "<< conteudo >>\n",
        "endobj\n",
        "```\n",
        "No qual:\n",
        "  - **obj_id** é um número inteiro único que identifica o objeto\n",
        "  - **obj_gen** é um número de geração\n",
        "(normalmente 0)"
      ],
      "metadata": {
        "id": "SgOQCYkhWXXj"
      }
    },
    {
      "cell_type": "markdown",
      "source": [
        "3. **Tipos de dados básicos**:\n",
        "  - **Números**: inteiros (123) ou decimais (123.45)\n",
        "  - **Strings**: delimitadas por parênteses: (Este é um texto)\n",
        "  - **Nomes**: começam com /: /Nome\n",
        "  - **Booleanos**: true ou false\n",
        "  - **Null**: null\n",
        "  - **Referências**: indicam referência a outro objeto: obj_id obj_gen R"
      ],
      "metadata": {
        "id": "lK7tTJZjWF1-"
      }
    },
    {
      "cell_type": "markdown",
      "source": [
        "4. **Estruturas de dados**:\n",
        "  - **Dicionários**: pares chave/valor no formato: /Chave valor\n",
        "  - **Arrays**: sequências de valores delimitadas por [ e ]\n",
        "  - **Streams**: Blocos de dados entre stream e endstream"
      ],
      "metadata": {
        "id": "bbE7GEeSV8IO"
      }
    },
    {
      "cell_type": "markdown",
      "source": [
        "5. **Estrutura hierárquica**:\n",
        "  - **Objeto catálogo (root)**: Define a estrutura do documento\n",
        "  - **Objeto de páginas**: Mantém lista de páginas\n",
        "  - **Objetos de página**: Contêm conteúdo e propriedades de cada página\n",
        "  - **Objetos de conteúdo**: Contêm texto e elementos gráficos\n"
      ],
      "metadata": {
        "id": "Od9zi2xoV8GD"
      }
    },
    {
      "cell_type": "markdown",
      "source": [
        "6. **Comentários**:\n",
        "  Linhas que começam com % (exceto o cabeçalho) são comentários"
      ],
      "metadata": {
        "id": "U0e6BnhmV8EB"
      }
    },
    {
      "cell_type": "markdown",
      "source": [
        "7. **Cross-reference table (xref)**: Tabela que lista a posição de cada objeto no arquivo:\n",
        "```\n",
        "xref\n",
        "0 3\n",
        "0000000000 65535 f\n",
        "0000000010 00000 n\n",
        "0000000079 00000 n\n",
        "```\n",
        "\n",
        "  1. ESTRUTURA E PROPÓSITO DA TABELA XREF\n",
        "\n",
        "    A tabela xref contém a posição (offset em bytes) de cada objeto no arquivo. Sua estrutura consiste em:\n",
        "    1. A palavra-chave xref em uma linha sozinha\n",
        "    2. Uma linha com dois números: o primeiro objeto na seção e o número de entradas\n",
        "    3. Uma entrada para cada objeto, cada uma com exatamente 20 bytes:\n",
        "    - Offset de 10 dígitos (com zeros à esquerda)\n",
        "    - Um espaço\n",
        "    - Número de geração de 5 dígitos (geralmente 00000)\n",
        "    - Um espaço\n",
        "    - Um caractere 'n' (para objetos em uso) ou 'f' (para objetos livres)\n",
        "    - Um espaço e uma quebra de linha\n",
        "  2. Escreva o conteúdo do documento até antes da seção xref  \n",
        "  - Inclua o cabeçalho (%SPDF-1.0)\n",
        "  - Crie todos os objetos numerados\n",
        "  3. Anote a posição (offset) do início de cada objeto  \n",
        "  - A posição é o número de bytes desde o início do arquivo\n",
        "  - Para o objeto 0 (especial), sempre use offset 0, geração 65535 e flag 'f'\n",
        "  4. Crie a tabela xref usando os offsets anotados  \n",
        "  Comece com a linha \"xref\"\n",
        "  - Na próxima linha, coloque \"0 N\" onde N é o número total de objetos + 1 (inclui o objeto 0)\n",
        "  - Para cada objeto, adicione uma entrada de 20 bytes\n",
        "  5. Complete com a seção trailer  \n",
        "  - Adicione a palavra-chave \"trailer\" seguida pelo dicionário trailer\n",
        "  - Adicione \"startxref\" seguido pela posição da palavra-chave \"xref\"\n",
        "  - Termine com \"%%EOF\""
      ],
      "metadata": {
        "id": "jXs9_dJFV7xS"
      }
    },
    {
      "cell_type": "markdown",
      "source": [
        "8. **Trailer**: Informações finais do documento:\n",
        "```\n",
        "trailer\n",
        "<< /Size 3 /Root 1 0 R >>\n",
        "startxref\n",
        "183\n",
        "%%EOF\n",
        "```"
      ],
      "metadata": {
        "id": "0f6Bi8_AaYQj"
      }
    },
    {
      "cell_type": "markdown",
      "source": [
        "## Funcionalidades Requeridas do Programa"
      ],
      "metadata": {
        "id": "N-I1N91bbCzI"
      }
    },
    {
      "cell_type": "markdown",
      "source": [
        "O programa deve implementar as seguintes funcionalidades:"
      ],
      "metadata": {
        "id": "5S_oUJxFbHI_"
      }
    },
    {
      "cell_type": "markdown",
      "source": [
        "1. **Validação Estrutural**:\n",
        "  - Verificar se o cabeçalho SimplePDF está correto\n",
        "  - Validar a sintaxe de cada objeto e suas propriedades\n",
        "  - Verificar se todas as referências apontam para objetos existentes\n",
        "  - Validar a estrutura hierárquica (catálogo → páginas → página)\n",
        "  - Verificar consistência da tabela xref\n",
        "  - Validar o trailer"
      ],
      "metadata": {
        "id": "7ff44maOfPdw"
      }
    },
    {
      "cell_type": "markdown",
      "source": [
        "2. **Extração de Informações**:  \n",
        "  - Conteúdo textual de cada página\n",
        "  - Metadados do documento (título, autor, data)\n",
        "  - Estrutura de páginas (quantidade, tamanho)\n",
        "  - Fontes utilizadas\n",
        "  - Estatísticas de objetos por tipo"
      ],
      "metadata": {
        "id": "mAr7elPufw-y"
      }
    },
    {
      "cell_type": "markdown",
      "source": [
        "3. **Transformações**:\n",
        "  - Extração de todo texto para formato TXT;\n",
        "  - Geração de sumário baseado na estrutura\n",
        "  - Listagem hierárquica de objetos e suas dependências\n",
        "  - Conversão de coordenadas de texto para formato mais legível"
      ],
      "metadata": {
        "id": "VqK9ObMOfPYh"
      }
    },
    {
      "cell_type": "markdown",
      "source": [
        "4. **Análise Avançada**:\n",
        "  - Detecção de objetos não referenciados\n",
        "  - Identificação de ciclos de referência\n",
        "  - Análise de eficiência de armazenamento\n",
        "  - Sugestões de otimização da estrutura"
      ],
      "metadata": {
        "id": "_XqecdUffPV9"
      }
    },
    {
      "cell_type": "markdown",
      "source": [
        "5. **O programa deve ler dois arquivos**:\n",
        "  - O documento SimplePDF a ser analisado\n",
        "  - Um arquivo de configuração que define parâmetros de análise e transformação"
      ],
      "metadata": {
        "id": "KvJqLabnpaEa"
      }
    },
    {
      "cell_type": "markdown",
      "source": [
        "## Arquivo de Configuração"
      ],
      "metadata": {
        "id": "3k1_H3lAqXj5"
      }
    },
    {
      "cell_type": "markdown",
      "source": [
        "O arquivo sera disponibilizado com o mesmo nome do arquivo pdf, porem com o formato .py\n",
        "\n",
        "Teste01.pdf\n",
        "```\n",
        "%SPDF-1.0\n",
        "...\n",
        "```\n",
        "\n",
        "Teste01.py\n",
        "```\n",
        "extrair_texto=True\n",
        "gerar_sumario=True\n",
        "detectar_ciclos=True\n",
        "nivel_detalhe='Completo'\n",
        "validar_xref=True\n",
        "```\n",
        "\n",
        "Opções:\n",
        "- **extrair_texto** (bool): Habilita a extração de texto do documento.\n",
        "- **gerar_sumario** (bool): Gera um sumário do conteúdo do documento.\n",
        "- **detectar_ciclos** (bool): Detecta possíveis referências cíclicas no documento.\n",
        "- **nivel_detalhe** (str): Define o nível de detalhe da análise ('Completo', 'Basico', 'Nulo').\n",
        "- **validar_xref** (bool): Valida as referências cruzadas dentro do documento."
      ],
      "metadata": {
        "id": "H2Tmzv4yqfCK"
      }
    },
    {
      "cell_type": "markdown",
      "source": [
        "## Saída do Programa"
      ],
      "metadata": {
        "id": "fd5tVU1fg10F"
      }
    },
    {
      "cell_type": "markdown",
      "source": [
        "O programa deve gerar um relatório com as seguintes seções:\n",
        "```\n",
        "VALIDAÇÃO:\n",
        "[OK ou ERRO] Estrutura geral\n",
        "[OK ou ERRO] Sintaxe de objetos\n",
        "[OK ou ERRO] Referências\n",
        "[OK ou ERRO] Tabela xref\n",
        "[Detalhes de erros, se houver]\n",
        "\n",
        "ESTATÍSTICAS:\n",
        "Total de objetos: X\n",
        "Objetos por tipo: Catalog=1, Pages=1, Page=Y, Font=Z, ...\n",
        "Total de páginas: Y\n",
        "Tamanho do documento: W bytes\n",
        "Overhead estrutural: V bytes (P%)\n",
        "\n",
        "CONTEÚDO:\n",
        "Título: [título do documento]\n",
        "Autor: [autor do documento]\n",
        "Data de criação: [data]\n",
        "Texto extraído: [primeiros 200 caracteres...]\n",
        "\n",
        "ÁRVORE DE OBJETOS:\n",
        "1: Catalog\n",
        "  +- 2: Pages\n",
        "    +- 3: Page\n",
        "    +- 4: Font\n",
        "    +- 5: Contents (stream)\n",
        "6: Metadata\n",
        "\n",
        "ANÁLISE AVANÇADA:\n",
        "[Resultados de análises específicas definidas no arquivo de configuração]\n",
        "```"
      ],
      "metadata": {
        "id": "tr3bHgp7g49H"
      }
    },
    {
      "cell_type": "markdown",
      "source": [
        "## AS TRANSFORMAÇÕES ESPECIFICADAS"
      ],
      "metadata": {
        "id": "nHNkwk4-vMl-"
      }
    },
    {
      "cell_type": "markdown",
      "source": [
        "1. **Extração de texto para formato TXT**\n",
        "\n",
        " Esta transformação envolve **localizar e extrair todo o conteúdo textual do documento SimplePDF**, que está disperso em diferentes objetos de conteúdo dentro de streams e **convertê-lo para um arquivo de texto simples e contínuo**.\n",
        "\n",
        " Por exemplo: No **Exemplo 2**, o texto está dentro de **objetos stream** com comandos como **(Relatório Financeiro: Primeiro Trimestre) Tj**. O programa precisa **identificar esses comandos, extrair o texto entre parênteses**, e **organizá-lo em uma sequência lógica**, **respeitando a ordem das páginas e a posição dos elementos de texto**."
      ],
      "metadata": {
        "id": "yEQqOnGdvOUJ"
      }
    },
    {
      "cell_type": "markdown",
      "source": [
        "2. **Geração de sumário baseado na estrutura**\n",
        "\n",
        "  Esta transformação requer **analisar a estrutura hierárquica do documento (especialmente objetos do tipo Outlines)** e **gerar uma representação textual organizada que funcione como um sumário ou índice**.\n",
        "\n",
        "  Por exemplo: No **Exemplo 2, os objetos 11, 12 e 13 formam uma estrutura de outlines com títulos** como \"Resumo Executivo\", \"Detalhamento de Vendas\" e \"Projeções Futuras\". **O programa precisa reconhecer essa hierarquia (quem é pai de quem, quem vem antes ou depois)** e **organizá-la em um formato de sumário**."
      ],
      "metadata": {
        "id": "IoafYucJ7Pfs"
      }
    },
    {
      "cell_type": "markdown",
      "source": [
        "3. **Listagem hierárquica de objetos e suas dependências**\n",
        "\n",
        "  Esta transformação envolve **mapear todas as relações entre objetos (quem referência quem)** e **apresentá-las em um formato visual hierárquico, como uma árvore**.\n",
        "\n",
        "  Por exemplo: O **objeto raiz (Catalog)** referência **Pages**, que por sua vez referência **Page**, que referência **Font e Contents**. Isso forma uma **estrutura em árvore que precisa ser extraída e apresentada de forma clara**, como mostrado na seção ÁRVORE DE OBJETOS da saída esperada."
      ],
      "metadata": {
        "id": "47MNbgmu7PdV"
      }
    },
    {
      "cell_type": "markdown",
      "source": [
        "4. **Conversão de coordenadas de texto para formato mais legível**\n",
        "\n",
        "  Esta transformação requer **interpretar as coordenadas e comandos de posicionamento de texto (como 100 700 Td)** e **convertê-los para um formato que seja mais intuitivo para humanos**, possivelmente relacionando-os com a posição na página.\n",
        "\n",
        "  Por exemplo: Em vez de mostrar **100 700 Td**, o programa poderia **converter** isso **para** **\"Posição: 100px da esquerda, 92px do topo da página\" (considerando que em PDF as coordenadas Y geralmente começam da parte inferior da página)**."
      ],
      "metadata": {
        "id": "OClKu5pj7Pa7"
      }
    },
    {
      "cell_type": "markdown",
      "source": [
        "## Exemplos"
      ],
      "metadata": {
        "id": "AmUpIPeYvX-I"
      }
    },
    {
      "cell_type": "markdown",
      "source": [
        "### Exemplo 1"
      ],
      "metadata": {
        "id": "xZBB2LZw1pG0"
      }
    },
    {
      "cell_type": "markdown",
      "source": [
        "Exemplo 1\n",
        "```\n",
        "%SPDF-1.0\n",
        "\n",
        "1 0 obj\n",
        "<< /Type /Catalog\n",
        "/Pages 2 0 R\n",
        "/Metadata 7 0 R\n",
        "/Outlines 8 0 R\n",
        ">>\n",
        "endobj\n",
        "\n",
        "2 0 obj\n",
        "<< /Type /Pages\n",
        "/Kids [3 0 R 4 0 R]\n",
        "/Count 2\n",
        ">>\n",
        "endobj\n",
        "\n",
        "3 0 obj\n",
        "<< /Type /Page\n",
        "/Parent 2 0 R\n",
        "/Resources << /Font << /F1 5 0 R >> >>\n",
        "/MediaBox [0 0 612.0 792.0]\n",
        "/CropBox [10.5 10.5 601.5 781.5]\n",
        "/Rotate 0\n",
        "/Contents 6 0 R\n",
        ">>\n",
        "endobj\n",
        "\n",
        "4 0 obj\n",
        "<< /Type /Page\n",
        "/Parent 2 0 R\n",
        "/Resources << /Font << /F1 5 0 R >> >>\n",
        "/MediaBox [0 0 612.0 792.0]\n",
        "/CropBox [10.5 10.5 601.5 781.5]\n",
        "/Rotate 0\n",
        "/Contents 9 0 R\n",
        ">>\n",
        "endobj\n",
        "\n",
        "5 0 obj\n",
        "<< /Type /Font\n",
        "/Subtype /Type1\n",
        "/BaseFont /Helvetica\n",
        "/FontDescriptor 10 0 R\n",
        ">>\n",
        "endobj\n",
        "\n",
        "6 0 obj\n",
        "<< /Length 175 >>\n",
        "stream\n",
        "BT\n",
        "/F1 24 Tf\n",
        "100 700 Td\n",
        "(Relatório Financeiro: Primeiro Trimestre) Tj\n",
        "/F1 12 Tf\n",
        "0 -50 Td\n",
        "(Total de vendas: 1423 unidades) Tj\n",
        "0 -20 Td\n",
        "(Receita total: 158432.75 reais) Tj\n",
        "ET\n",
        "endstream\n",
        "endobj\n",
        "\n",
        "7 0 obj\n",
        "<< /Title (Relatório Financeiro Trimestral)\n",
        "/Author (Departamento Financeiro)\n",
        "/CreationDate (D:20230418090000)\n",
        "/Keywords (finanças, relatório, trimestral)\n",
        "/Version 1.2\n",
        "/PageCount 2\n",
        ">>\n",
        "endobj\n",
        "\n",
        "8 0 obj\n",
        "<< /Type /Outlines\n",
        "/Count 3\n",
        "/First 11 0 R\n",
        "/Last 13 0 R\n",
        ">>\n",
        "endobj\n",
        "\n",
        "9 0 obj\n",
        "<< /Length 322 >>\n",
        "stream\n",
        "BT\n",
        "/F1 18 Tf\n",
        "100 700 Td\n",
        "(Detalhamento por Categoria) Tj\n",
        "/F1 12 Tf\n",
        "0 -40 Td\n",
        "(Produto A: 523 unidades, valor unitário 89.99, total 47054.77) Tj\n",
        "0 -20 Td\n",
        "(Produto B: 347 unidades, valor unitário 125.50, total 43548.50) Tj\n",
        "0 -20 Td\n",
        "(Produto C: 553 unidades, valor unitário 122.65, total 67825.45) Tj\n",
        "0 -40 Td\n",
        "(Média de vendas por produto: 474.33 unidades) Tj\n",
        "ET\n",
        "endstream\n",
        "endobj\n",
        "\n",
        "10 0 obj\n",
        "<< /Type /FontDescriptor\n",
        "/FontName /Helvetica\n",
        "/Flags 32\n",
        "/FontBBox [-166 -225 1000 931]\n",
        "/ItalicAngle 0\n",
        "/Ascent 718\n",
        "/Descent -207\n",
        "/CapHeight 718\n",
        "/StemV 88\n",
        "/MissingWidth 278\n",
        ">>\n",
        "endobj\n",
        "\n",
        "11 0 obj\n",
        "<< /Title (Resumo Executivo)\n",
        "/Parent 8 0 R\n",
        "/Next 12 0 R\n",
        "/Dest [3 0 R /FitH 792.0]\n",
        ">>\n",
        "endobj\n",
        "\n",
        "12 0 obj\n",
        "<< /Title (Detalhamento de Vendas)\n",
        "/Parent 8 0 R\n",
        "/Prev 11 0 R\n",
        "/Next 13 0 R\n",
        "/Dest [4 0 R /FitH 792.0]\n",
        ">>\n",
        "endobj\n",
        "\n",
        "13 0 obj\n",
        "<< /Title (Projeções Futuras)\n",
        "/Parent 8 0 R\n",
        "/Prev 12 0 R\n",
        "/Dest [4 0 R /XYZ 100 450 1.25]\n",
        ">>\n",
        "endobj\n",
        "\n",
        "14 0 obj\n",
        "<< /Type /Metadata\n",
        "/Subtype /XML\n",
        "/Length 340\n",
        ">>\n",
        "stream\n",
        "<?xpacket begin='' id='W5M0MpCehiHzreSzNTczkc9d'?>\n",
        "<x:xmpmeta xmlns:x='adobe:ns:meta/'>\n",
        "<rdf:RDF xmlns:rdf='http://www.w3.org/1999/02/22-rdf-syntax-ns#'>\n",
        "<rdf:Description rdf:about=''\n",
        "xmlns:pdf='http://ns.adobe.com/pdf/1.3/'>\n",
        "<pdf:Producer>SimplePDF Generator 1.0</pdf:Producer>\n",
        "</rdf:Description>\n",
        "</rdf:RDF>\n",
        "</x:xmpmeta>\n",
        "<?xpacket end='w'?>\n",
        "endstream\n",
        "endobj\n",
        "xref\n",
        "0 15\n",
        "0000000000 65535 f\n",
        "0000000010 00000 n\n",
        "0000000099 00000 n\n",
        "0000000163 00000 n\n",
        "0000000344 00000 n\n",
        "0000000525 00000 n\n",
        "0000000624 00000 n\n",
        "0000000852 00000 n\n",
        "0000001048 00000 n\n",
        "0000001126 00000 n\n",
        "0000001500 00000 n\n",
        "0000001712 00000 n\n",
        "0000001818 00000 n\n",
        "0000001940 00000 n\n",
        "0000002052 00000 n\n",
        "trailer\n",
        "<< /Size 15\n",
        "/Root 1 0 R\n",
        "/Info 7 0 R\n",
        ">>\n",
        "startxref\n",
        "2500\n",
        "%%EOF\n",
        "```"
      ],
      "metadata": {
        "id": "IJT2Zh6WvbKR"
      }
    },
    {
      "cell_type": "markdown",
      "source": [
        "### Exemplo 2"
      ],
      "metadata": {
        "id": "7vZvBgb01sqv"
      }
    },
    {
      "cell_type": "markdown",
      "source": [
        "Exemplo 2\n",
        "```\n",
        "%SPDF-1.0\n",
        "\n",
        "1 0 obj\n",
        "<< /Type /Catalog\n",
        "/Pages 2 0 R\n",
        "/Metadata 7 0 R\n",
        "/Outlines 8 0 R\n",
        ">>\n",
        "endobj\n",
        "\n",
        "2 0 obj\n",
        "<< /Type /Pages\n",
        "/Kids [3 0 R 4 0 R]\n",
        "/Count 2\n",
        ">>\n",
        "endobj\n",
        "\n",
        "3 0 obj\n",
        "<< /Type /Page\n",
        "/Parent 2 0 R\n",
        "/Resources << /Font << /F1 5 0 R >> >>\n",
        "/MediaBox [0 0 612.0 792.0]\n",
        "/CropBox [10.5 10.5 601.5 781.5]\n",
        "/Rotate 0\n",
        "/Contents 6 0 R\n",
        ">>\n",
        "endobj\n",
        "\n",
        "4 0 obj\n",
        "<< /Type /Page\n",
        "/Parent 2 0 R\n",
        "/Resources << /Font << /F1 5 0 R >> >>\n",
        "/MediaBox [0 0 612.0 792.0]\n",
        "/CropBox [10.5 10.5 601.5 781.5]\n",
        "/Rotate 0\n",
        "/Contents 9 0 R\n",
        ">>\n",
        "endobj\n",
        "\n",
        "5 0 obj\n",
        "<< /Type /Font\n",
        "/Subtype /Type1\n",
        "/BaseFont /Helvetica\n",
        "/FontDescriptor 10 0 R\n",
        ">>\n",
        "endobj\n",
        "\n",
        "6 0 obj\n",
        "<< /Length 175 >>\n",
        "stream\n",
        "BT\n",
        "/F1 24 Tf\n",
        "100 700 Td\n",
        "(Relatório Financeiro: Primeiro Trimestre) Tj\n",
        "/F1 12 Tf\n",
        "0 -50 Td\n",
        "(Total de vendas: 1423 unidades) Tj\n",
        "0 -20 Td\n",
        "(Receita total: 158432.75 reais) Tj\n",
        "ET\n",
        "endstream\n",
        "endobj\n",
        "\n",
        "7 0 obj\n",
        "<< /Title (Relatório Financeiro Trimestral)\n",
        "/Author (Departamento Financeiro)\n",
        "/CreationDate (D:20230418090000)\n",
        "/Keywords (finanças, relatório, trimestral)\n",
        "/Version 1.2\n",
        "/PageCount 2\n",
        ">>\n",
        "endobj\n",
        "\n",
        "8 0 obj\n",
        "<< /Type /Outlines\n",
        "/Count 3\n",
        "/First 11 0 R\n",
        "/Last 13 0 R\n",
        ">>\n",
        "endobj\n",
        "\n",
        "9 0 obj\n",
        "<< /Length 322 >>\n",
        "stream\n",
        "BT\n",
        "/F1 18 Tf\n",
        "100 700 Td\n",
        "(Detalhamento por Categoria) Tj\n",
        "/F1 12 Tf\n",
        "0 -40 Td\n",
        "(Produto A: 523 unidades, valor unitário 89.99, total 47054.77) Tj\n",
        "0 -20 Td\n",
        "(Produto B: 347 unidades, valor unitário 125.50, total 43548.50) Tj\n",
        "0 -20 Td\n",
        "(Produto C: 553 unidades, valor unitário 122.65, total 67825.45) Tj\n",
        "0 -40 Td\n",
        "(Média de vendas por produto: 474.33 unidades) Tj\n",
        "ET\n",
        "endstream\n",
        "endobj\n",
        "\n",
        "10 0 obj\n",
        "<< /Type /FontDescriptor\n",
        "/FontName /Helvetica\n",
        "/Flags 32\n",
        "/FontBBox [-166 -225 1000 931]\n",
        "/ItalicAngle 0\n",
        "/Ascent 718\n",
        "/Descent -207\n",
        "/CapHeight 718\n",
        "/StemV 88\n",
        "/MissingWidth 278\n",
        ">>\n",
        "endobj\n",
        "\n",
        "11 0 obj\n",
        "<< /Title (Resumo Executivo)\n",
        "/Parent 8 0 R\n",
        "/Next 12 0 R\n",
        "/Dest [3 0 R /FitH 792.0]\n",
        ">>\n",
        "endobj\n",
        "\n",
        "12 0 obj\n",
        "<< /Title (Detalhamento de Vendas)\n",
        "/Parent 8 0 R\n",
        "/Prev 11 0 R\n",
        "/Next 13 0 R\n",
        "/Dest [4 0 R /FitH 792.0]\n",
        ">>\n",
        "endobj\n",
        "\n",
        "13 0 obj\n",
        "<< /Title (Projeções Futuras)\n",
        "/Parent 8 0 R\n",
        "/Prev 12 0 R\n",
        "/Dest [4 0 R /XYZ 100 450 1.25]\n",
        ">>\n",
        "endobj\n",
        "\n",
        "14 0 obj\n",
        "<< /Type /Metadata\n",
        "/Subtype /XML\n",
        "/Length 340\n",
        ">>\n",
        "stream\n",
        "<?xpacket begin='' id='W5M0MpCehiHzreSzNTczkc9d'?>\n",
        "<x:xmpmeta xmlns:x='adobe:ns:meta/'>\n",
        "<rdf:RDF xmlns:rdf='http://www.w3.org/1999/02/22-rdf-syntax-ns#'>\n",
        "<rdf:Description rdf:about=''\n",
        "xmlns:pdf='http://ns.adobe.com/pdf/1.3/'>\n",
        "<pdf:Producer>SimplePDF Generator 1.0</pdf:Producer>\n",
        "</rdf:Description>\n",
        "</rdf:RDF>\n",
        "</x:xmpmeta>\n",
        "<?xpacket end='w'?>\n",
        "endstream\n",
        "endobj\n",
        "\n",
        "xref\n",
        "0 15\n",
        "0000000000 65535 f\n",
        "0000000010 00000 n\n",
        "0000000099 00000 n\n",
        "0000000163 00000 n\n",
        "0000000344 00000 n\n",
        "0000000525 00000 n\n",
        "0000000624 00000 n\n",
        "0000000852 00000 n\n",
        "0000001048 00000 n\n",
        "0000001126 00000 n\n",
        "0000001500 00000 n\n",
        "0000001712 00000 n\n",
        "0000001818 00000 n\n",
        "0000001940 00000 n\n",
        "0000002052 00000 n\n",
        "\n",
        "trailer\n",
        "<< /Size 15\n",
        "/Root 1 0 R\n",
        "/Info 7 0 R\n",
        ">>\n",
        "startxref\n",
        "2500\n",
        "\n",
        "%%EOF\n",
        "```"
      ],
      "metadata": {
        "id": "pcr-tsCzviV-"
      }
    },
    {
      "cell_type": "markdown",
      "source": [
        "## Dicas"
      ],
      "metadata": {
        "id": "3qBC16B1E_2L"
      }
    },
    {
      "cell_type": "markdown",
      "source": [
        "1. **Comece simples**: Crie primeiro documentos com poucos objetos e estrutura simples.\n",
        "2. **Cálculo manual de offsets**: Para documentos simples, conte manualmente os bytes para cada\n",
        "posição. Lembre-se de que cada caractere (incluindo espaços e quebras de linha) conta como\n",
        "um byte.\n",
        "3. **Uso de ferramentas**:  \n",
        "  - Os alunos podem escrever um pequeno script auxiliar que conte o número de bytes\n",
        "até cada objeto\n",
        "  - Editores hexadecimais podem ser úteis para verificar posições\n",
        "4. **Construção gradual**:  \n",
        "  - Comece com o cabeçalho e objetos simples\n",
        "  - Adicione um marcador temporário para a tabela xref (ex: \"XREF_AQUI\")\n",
        "  - Conte a posição de cada objeto\n",
        "  - Substitua o marcador pela tabela xref real\n",
        "  - Adicione a seção trailer\n",
        "5. **Formato de quebra de linha**: Certifique-se de usar consistentemente o mesmo formato de\n",
        "quebra de linha (CRLF ou LF) ao contar bytes.\n",
        "6. **Verificação do documento**:  \n",
        "Após criar o documento, percorra-o byte a byte para verificar se os offsets na tabela xref apontam corretamente para o início de cada objeto"
      ],
      "metadata": {
        "id": "5IEesvWUFBFx"
      }
    },
    {
      "cell_type": "markdown",
      "source": [
        "**CASOS DE TESTE IMPORTANTES**\n",
        "\n",
        "Os alunos devem criar documentos de teste que cubram:\n",
        "1. **Estrutura básica**: Documento mínimo com catálogo e páginas\n",
        "2. **Reais vs. Inteiros**: Uso de números inteiros e de ponto flutuante\n",
        "3. **Tipos de dados**: Todas as variações (strings, nomes, arrays, dicionários)\n",
        "4. **Referências circulares**: Objetos que se referenciam mutuamente\n",
        "5. **Conteúdo de texto**: Objetos stream com comandos de texto\n",
        "6. **Estrutura hierárquica complexa**: Vários níveis de referência entre objetos\n",
        "7. **Metadados completos**: Informações detalhadas no objeto de metadados\n",
        "Criando arquivos de teste apropriados, os alunos poderão verificar se suas implementações lidam\n",
        "corretamente com todos os aspectos do formato SimplePDF, especialmente a interpretação da\n",
        "tabela xref, que é crucial para a navegação eficiente dentro do documento."
      ],
      "metadata": {
        "id": "JhkALO41FM0h"
      }
    },
    {
      "cell_type": "markdown",
      "source": [
        "# Código"
      ],
      "metadata": {
        "id": "SMMmOJslVCCc"
      }
    },
    {
      "cell_type": "code",
      "source": [
        "# Downloading pdfs and configs (at least 3 examples)\n",
        "!wget -nc https://raw.githubusercontent.com/JoaoVLima/ActualSimplePDFValidator/main/exemplos/exemplosimplescomentado.pdf\n",
        "!wget -nc https://raw.githubusercontent.com/JoaoVLima/ActualSimplePDFValidator/main/exemplos/exemplosimples.py"
      ],
      "metadata": {
        "id": "lmQvjSH7VGHx",
        "colab": {
          "base_uri": "https://localhost:8080/"
        },
        "outputId": "0d252755-78e1-423f-f920-69fa1607d46a"
      },
      "execution_count": 85,
      "outputs": [
        {
          "output_type": "stream",
          "name": "stdout",
          "text": [
            "--2025-03-10 20:18:38--  https://raw.githubusercontent.com/JoaoVLima/ActualSimplePDFValidator/main/exemplos/exemplosimplescomentado.pdf\n",
            "Resolving raw.githubusercontent.com (raw.githubusercontent.com)... 185.199.111.133, 185.199.109.133, 185.199.110.133, ...\n",
            "Connecting to raw.githubusercontent.com (raw.githubusercontent.com)|185.199.111.133|:443... connected.\n",
            "HTTP request sent, awaiting response... 200 OK\n",
            "Length: 4063 (4.0K) [text/plain]\n",
            "Saving to: ‘exemplosimplescomentado.pdf’\n",
            "\n",
            "\r          exemplosi   0%[                    ]       0  --.-KB/s               \rexemplosimplescomen 100%[===================>]   3.97K  --.-KB/s    in 0s      \n",
            "\n",
            "2025-03-10 20:18:38 (53.7 MB/s) - ‘exemplosimplescomentado.pdf’ saved [4063/4063]\n",
            "\n",
            "File ‘exemplosimples.py’ already there; not retrieving.\n",
            "\n"
          ]
        }
      ]
    },
    {
      "cell_type": "markdown",
      "source": [
        "**Config**"
      ],
      "metadata": {
        "id": "zLK8J7jqJrK_"
      }
    },
    {
      "cell_type": "code",
      "source": [
        "extrair_texto=None\n",
        "gerar_sumario=None\n",
        "detectar_ciclos=None\n",
        "nivel_detalhe=None\n",
        "validar_xref=None"
      ],
      "metadata": {
        "id": "ZEGMtJoTKwmi"
      },
      "execution_count": 134,
      "outputs": []
    },
    {
      "cell_type": "code",
      "source": [
        "from exemplosimples import *"
      ],
      "metadata": {
        "id": "lXNcLmYSHPF5"
      },
      "execution_count": 135,
      "outputs": []
    },
    {
      "cell_type": "code",
      "source": [
        "print(extrair_texto,\n",
        "      gerar_sumario,\n",
        "      detectar_ciclos,\n",
        "      nivel_detalhe,\n",
        "      validar_xref)"
      ],
      "metadata": {
        "colab": {
          "base_uri": "https://localhost:8080/"
        },
        "id": "fyuNzw6hJ8Uh",
        "outputId": "150a4025-bf3a-4e47-8712-a172aa6ead18"
      },
      "execution_count": 136,
      "outputs": [
        {
          "output_type": "stream",
          "name": "stdout",
          "text": [
            "True True True Completo True\n"
          ]
        }
      ]
    },
    {
      "cell_type": "markdown",
      "source": [
        "**Read File**"
      ],
      "metadata": {
        "id": "l5q1TIM7LH54"
      }
    },
    {
      "cell_type": "code",
      "source": [
        "def read_pdf(file_path):\n",
        "    with open(file_path, \"r\", encoding=\"utf-8\") as file:\n",
        "        text = file.read()\n",
        "    return text"
      ],
      "metadata": {
        "id": "5SvAdRxkKVjf"
      },
      "execution_count": 137,
      "outputs": []
    },
    {
      "cell_type": "code",
      "source": [
        "FILE = read_pdf('exemplosimplescomentado.pdf')"
      ],
      "metadata": {
        "id": "IETV-dDdMpqX"
      },
      "execution_count": 138,
      "outputs": []
    },
    {
      "cell_type": "code",
      "source": [
        "import re\n",
        "\n",
        "def validar_pdf(pdf_texto):\n",
        "    erros = []\n",
        "\n",
        "    # Verificação da estrutura geral\n",
        "    if not pdf_texto.startswith(\"%SPDF-1.0\"):\n",
        "        erros.append(\"Cabeçalho inválido\")\n",
        "\n",
        "    # Verificação da tabela xref\n",
        "    if \"xref\" not in pdf_texto or \"trailer\" not in pdf_texto:\n",
        "        erros.append(\"Tabela xref ou trailer ausente\")\n",
        "\n",
        "    # Contagem de objetos\n",
        "    objetos = re.findall(r\"(\\d+)\\s0\\sobj\", pdf_texto)\n",
        "    total_objetos = len(objetos)\n",
        "\n",
        "    # Contagem de páginas\n",
        "    paginas = re.findall(r\"/Type\\s*/Page\", pdf_texto)\n",
        "    total_paginas = len(paginas)\n",
        "\n",
        "    # Contagem de fontes\n",
        "    fontes = re.findall(r\"/Type\\s*/Font\", pdf_texto)\n",
        "    total_fontes = len(fontes)\n",
        "\n",
        "    # Extração de metadados\n",
        "    titulo = re.search(r\"/Title\\s*\\((.*?)\\)\", pdf_texto)\n",
        "    autor = re.search(r\"/Author\\s*\\((.*?)\\)\", pdf_texto)\n",
        "    data_criacao = re.search(r\"/CreationDate\\s*\\((.*?)\\)\", pdf_texto)\n",
        "\n",
        "    # Extração do conteúdo textual (limitado a 200 caracteres)\n",
        "    texto_extraido = re.search(r\"BT(.*?)ET\", pdf_texto, re.DOTALL)\n",
        "    texto_extraido = texto_extraido.group(1)[:200] if texto_extraido else \"(Nenhum texto encontrado)\"\n",
        "\n",
        "    # Estatísticas do tamanho\n",
        "    tamanho_documento = len(pdf_texto.encode(\"utf-8\"))\n",
        "    overhead_estrutural = tamanho_documento * 0.10  # Estimativa de 10%\n",
        "    overhead_percentual = (overhead_estrutural / tamanho_documento) * 100\n",
        "\n",
        "    # Impressão dos resultados\n",
        "    print(\"VALIDAÇÃO:\")\n",
        "    print(f\"[{'ERRO' if erros else 'OK'}] Estrutura geral\")\n",
        "    print(f\"[{'ERRO' if 'xref' not in pdf_texto else 'OK'}] Tabela xref\")\n",
        "    if erros:\n",
        "        print(\"Detalhes de erros:\", \", \".join(erros))\n",
        "\n",
        "    print(\"\\nESTATÍSTICAS:\")\n",
        "    print(f\"Total de objetos: {total_objetos}\")\n",
        "    print(f\"Objetos por tipo: Catalog=1, Pages=1, Page={total_paginas}, Font={total_fontes}\")\n",
        "    print(f\"Total de páginas: {total_paginas}\")\n",
        "    print(f\"Tamanho do documento: {tamanho_documento} bytes\")\n",
        "    print(f\"Overhead estrutural: {overhead_estrutural:.0f} bytes ({overhead_percentual:.2f}%)\")\n",
        "\n",
        "    print(\"\\nCONTEÚDO:\")\n",
        "    print(f\"Título: {titulo.group(1) if titulo else '(Não encontrado)'}\")\n",
        "    print(f\"Autor: {autor.group(1) if autor else '(Não encontrado)'}\")\n",
        "    print(f\"Data de criação: {data_criacao.group(1) if data_criacao else '(Não encontrada)'}\")\n",
        "    print(f\"Texto extraído: {texto_extraido}\")\n",
        "\n"
      ],
      "metadata": {
        "id": "MFDjj43Tf8iE"
      },
      "execution_count": 139,
      "outputs": []
    },
    {
      "cell_type": "code",
      "source": [
        "validar_pdf(FILE)"
      ],
      "metadata": {
        "colab": {
          "base_uri": "https://localhost:8080/"
        },
        "id": "GreJLhVJiLdW",
        "outputId": "b7cd7549-d956-45fd-8b16-d87ad0439509"
      },
      "execution_count": 140,
      "outputs": [
        {
          "output_type": "stream",
          "name": "stdout",
          "text": [
            "VALIDAÇÃO:\n",
            "[OK] Estrutura geral\n",
            "[OK] Tabela xref\n",
            "\n",
            "ESTATÍSTICAS:\n",
            "Total de objetos: 11\n",
            "Objetos por tipo: Catalog=1, Pages=1, Page=2, Font=2\n",
            "Total de páginas: 2\n",
            "Tamanho do documento: 3928 bytes\n",
            "Overhead estrutural: 393 bytes (10.00%)\n",
            "\n",
            "CONTEÚDO:\n",
            "Título: Pagina de Teste\n",
            "Autor: Joao Lima\n",
            "Data de criação: D:20240418100000\n",
            "Texto extraído:  % Begin a new text block.\n",
            "/F1 24 Tf % Set font \"/F1\" (Helvetica) with size 24.\n",
            "100 750 Td % Move the text cursor to position (100, 750).\n",
            "(Pagina de Teste) Tj % Print the title.\n",
            "/F1 12 Tf % Change fon\n"
          ]
        }
      ]
    },
    {
      "cell_type": "code",
      "source": [
        "import re\n",
        "from collections import namedtuple\n",
        "\n",
        "# Definição de Token\n",
        "Token = namedtuple(\"Token\", [\"tipo\", \"valor\"])\n",
        "\n",
        "# Tokenização\n",
        "class Lexer:\n",
        "    def __init__(self, texto):\n",
        "        self.texto = texto\n",
        "        self.tokens = []\n",
        "        self.tokenize()\n",
        "\n",
        "    def tokenize(self):\n",
        "        padrao = re.compile(r\"(\\d+\\s0\\sobj|endobj|/\\w+|<<|>>|xref|trailer|startxref|\\d+|\\(|\\)|\\[|\\])\")\n",
        "        for match in padrao.finditer(self.texto):\n",
        "            self.tokens.append(Token(\"TOKEN\", match.group(0)))\n",
        "\n",
        "# Analisador Sintático (Parser)\n",
        "class Parser:\n",
        "    def __init__(self, tokens):\n",
        "        self.tokens = tokens\n",
        "        self.pos = 0\n",
        "        self.arvore = []\n",
        "        self.parse()\n",
        "\n",
        "    def parse(self):\n",
        "        while self.pos < len(self.tokens):\n",
        "            token = self.tokens[self.pos]\n",
        "            if \"obj\" in token.valor:\n",
        "                self.arvore.append(self.parse_obj())\n",
        "            self.pos += 1\n",
        "\n",
        "    def parse_obj(self):\n",
        "        obj_id = self.tokens[self.pos].valor.split(\" \")[0]\n",
        "        self.pos += 1  # Avança para o próximo token\n",
        "        return {\"id\": obj_id, \"conteudo\": \"...\"}  # Simulação\n",
        "\n",
        "# Analisador Semântico\n",
        "class SemanticAnalyzer:\n",
        "    def __init__(self, arvore):\n",
        "        self.arvore = arvore\n",
        "        self.erros = []\n",
        "        self.validar_referencias()\n",
        "\n",
        "    def validar_referencias(self):\n",
        "        ids = {obj[\"id\"] for obj in self.arvore}\n",
        "        for obj in self.arvore:\n",
        "            if \"referencia\" in obj and obj[\"referencia\"] not in ids:\n",
        "                self.erros.append(f\"Referência inválida: {obj['referencia']}\")\n",
        "\n",
        "# Execução\n",
        "lexer = Lexer(FILE)\n",
        "parser = Parser(lexer.tokens)\n",
        "analyzer = SemanticAnalyzer(parser.arvore)\n",
        "\n",
        "# Saída de validação\n",
        "print(\"VALIDAÇÃO:\")\n",
        "print(f\"[{'ERRO' if analyzer.erros else 'OK'}] Referências\")\n",
        "if analyzer.erros:\n",
        "    print(\"Detalhes de erros:\", \", \".join(analyzer.erros))\n"
      ],
      "metadata": {
        "colab": {
          "base_uri": "https://localhost:8080/"
        },
        "id": "DBhcdmAxk6se",
        "outputId": "92e0c40c-11c5-4ce6-c1b9-7015db991068"
      },
      "execution_count": 141,
      "outputs": [
        {
          "output_type": "stream",
          "name": "stdout",
          "text": [
            "VALIDAÇÃO:\n",
            "[OK] Referências\n"
          ]
        }
      ]
    },
    {
      "cell_type": "code",
      "source": [
        "FILE_SIZE = len(FILE)\n",
        "FILE_SIZE"
      ],
      "metadata": {
        "colab": {
          "base_uri": "https://localhost:8080/"
        },
        "id": "8nzPAER1UC6B",
        "outputId": "76026108-c748-4c1a-a806-dec9f28543d3"
      },
      "execution_count": 142,
      "outputs": [
        {
          "output_type": "execute_result",
          "data": {
            "text/plain": [
              "3928"
            ]
          },
          "metadata": {},
          "execution_count": 142
        }
      ]
    },
    {
      "cell_type": "code",
      "source": [
        "FILE = FILE.split('\\n') # \\n counts as 1"
      ],
      "metadata": {
        "id": "7fPt7E8aNM7I"
      },
      "execution_count": 143,
      "outputs": []
    },
    {
      "cell_type": "code",
      "source": [
        "FILE[0:10]"
      ],
      "metadata": {
        "colab": {
          "base_uri": "https://localhost:8080/"
        },
        "id": "kh8pJWQkNV8J",
        "outputId": "2da5a51f-7bdd-4677-dca8-62fa4f8a52c0"
      },
      "execution_count": 144,
      "outputs": [
        {
          "output_type": "execute_result",
          "data": {
            "text/plain": [
              "['%SPDF-1.0',\n",
              " '% This is the file header, indicating the PDF format (SimplePDF 1.0).',\n",
              " '',\n",
              " '1 0 obj',\n",
              " '<< /Type /Catalog % Defines the root object (the document catalog).',\n",
              " '/Pages 2 0 R % Points to the \"Pages\" object (object 2), \"R\" means Reference.',\n",
              " '/Metadata 6 0 R % Points to metadata information (object 6).',\n",
              " '/Outlines 7 0 R % Points to the table of contents or bookmarks (object 7).',\n",
              " '>>',\n",
              " 'endobj']"
            ]
          },
          "metadata": {},
          "execution_count": 144
        }
      ]
    },
    {
      "cell_type": "code",
      "source": [
        "LINE_SIZE = [len(line)+1 for line in FILE]\n",
        "LINE_SIZE[0:10]"
      ],
      "metadata": {
        "colab": {
          "base_uri": "https://localhost:8080/"
        },
        "id": "9zHQsSG4UHzq",
        "outputId": "c7deba99-9616-4ac8-b603-dd43b077bfc4"
      },
      "execution_count": 145,
      "outputs": [
        {
          "output_type": "execute_result",
          "data": {
            "text/plain": [
              "[10, 70, 1, 8, 68, 77, 61, 75, 3, 7]"
            ]
          },
          "metadata": {},
          "execution_count": 145
        }
      ]
    },
    {
      "cell_type": "markdown",
      "source": [
        "**Get Comments (header and eof)**"
      ],
      "metadata": {
        "id": "0iQSquuDh8Z8"
      }
    },
    {
      "cell_type": "code",
      "source": [
        "def get_comment(line):\n",
        "    return line[line.index('%'):] if '%' in line else None"
      ],
      "metadata": {
        "id": "iDFC5CzOuRIH"
      },
      "execution_count": 178,
      "outputs": []
    },
    {
      "cell_type": "code",
      "source": [
        "def ignore_comment(line):\n",
        "    return line[:line.index('%')] if '%' in line else line"
      ],
      "metadata": {
        "id": "HkjUzX_Gt5_O"
      },
      "execution_count": 179,
      "outputs": []
    },
    {
      "cell_type": "code",
      "source": [
        "def get_comments(file):\n",
        "    comments = []\n",
        "    for line in file:\n",
        "        if '%' in line:\n",
        "            comments.append(get_comment(line))\n",
        "    return comments"
      ],
      "metadata": {
        "id": "OXoJlghzmrVq"
      },
      "execution_count": 180,
      "outputs": []
    },
    {
      "cell_type": "code",
      "source": [
        "COMMENTS = get_comments(FILE)\n",
        "COMMENTS[0:10]"
      ],
      "metadata": {
        "colab": {
          "base_uri": "https://localhost:8080/"
        },
        "id": "Ch334V37Mtuv",
        "outputId": "cf69da78-e91f-4ac8-b5d3-d3cd57b32e0e"
      },
      "execution_count": 181,
      "outputs": [
        {
          "output_type": "execute_result",
          "data": {
            "text/plain": [
              "['%SPDF-1.0',\n",
              " '% This is the file header, indicating the PDF format (SimplePDF 1.0).',\n",
              " '% Defines the root object (the document catalog).',\n",
              " '% Points to the \"Pages\" object (object 2), \"R\" means Reference.',\n",
              " '% Points to metadata information (object 6).',\n",
              " '% Points to the table of contents or bookmarks (object 7).',\n",
              " '% Defines this object as a \"Pages\" node.',\n",
              " '% Lists child pages (in this case, a single page: object 3).',\n",
              " '% Specifies that there is 1 page in the document.',\n",
              " '% Defines this object as a \"Page\".']"
            ]
          },
          "metadata": {},
          "execution_count": 181
        }
      ]
    },
    {
      "cell_type": "code",
      "source": [
        "HEADER = COMMENTS.pop(0) # First line that starts with %\n",
        "HEADER"
      ],
      "metadata": {
        "colab": {
          "base_uri": "https://localhost:8080/",
          "height": 35
        },
        "id": "kq0fSWs8hT7_",
        "outputId": "48552bb4-a5d1-4d65-f4fd-53fbfe6c47d5"
      },
      "execution_count": 182,
      "outputs": [
        {
          "output_type": "execute_result",
          "data": {
            "text/plain": [
              "'%SPDF-1.0'"
            ],
            "application/vnd.google.colaboratory.intrinsic+json": {
              "type": "string"
            }
          },
          "metadata": {},
          "execution_count": 182
        }
      ]
    },
    {
      "cell_type": "code",
      "source": [
        "EOF = COMMENTS.pop(-1) # Last line that starts with %\n",
        "EOF"
      ],
      "metadata": {
        "colab": {
          "base_uri": "https://localhost:8080/",
          "height": 35
        },
        "id": "xVpu7QJuhakJ",
        "outputId": "42c46be8-d18f-4e6e-bf86-dc7c5d8e8726"
      },
      "execution_count": 183,
      "outputs": [
        {
          "output_type": "execute_result",
          "data": {
            "text/plain": [
              "'%%EOF'"
            ],
            "application/vnd.google.colaboratory.intrinsic+json": {
              "type": "string"
            }
          },
          "metadata": {},
          "execution_count": 183
        }
      ]
    },
    {
      "cell_type": "code",
      "source": [
        "COMMENTS[0:10]"
      ],
      "metadata": {
        "colab": {
          "base_uri": "https://localhost:8080/"
        },
        "id": "RBpBEJPehv20",
        "outputId": "2d5c3c7f-c4c8-42c2-d011-f97fb966a228"
      },
      "execution_count": 184,
      "outputs": [
        {
          "output_type": "execute_result",
          "data": {
            "text/plain": [
              "['% This is the file header, indicating the PDF format (SimplePDF 1.0).',\n",
              " '% Defines the root object (the document catalog).',\n",
              " '% Points to the \"Pages\" object (object 2), \"R\" means Reference.',\n",
              " '% Points to metadata information (object 6).',\n",
              " '% Points to the table of contents or bookmarks (object 7).',\n",
              " '% Defines this object as a \"Pages\" node.',\n",
              " '% Lists child pages (in this case, a single page: object 3).',\n",
              " '% Specifies that there is 1 page in the document.',\n",
              " '% Defines this object as a \"Page\".',\n",
              " '% Links this page to the parent \"Pages\" node (object 2).']"
            ]
          },
          "metadata": {},
          "execution_count": 184
        }
      ]
    },
    {
      "cell_type": "markdown",
      "source": [
        "**Check Header and Footer**"
      ],
      "metadata": {
        "id": "WxZvIAJogZq_"
      }
    },
    {
      "cell_type": "code",
      "source": [
        "def check_header(header):\n",
        "    return header.startswith('%SPDF-')"
      ],
      "metadata": {
        "id": "adhdbKf2fWfx"
      },
      "execution_count": 185,
      "outputs": []
    },
    {
      "cell_type": "code",
      "source": [
        "check_header(HEADER)"
      ],
      "metadata": {
        "colab": {
          "base_uri": "https://localhost:8080/"
        },
        "id": "6c0Kjr97hNQ5",
        "outputId": "c31e34f8-2634-4d98-f5cf-04d9427ff4fd"
      },
      "execution_count": 186,
      "outputs": [
        {
          "output_type": "execute_result",
          "data": {
            "text/plain": [
              "True"
            ]
          },
          "metadata": {},
          "execution_count": 186
        }
      ]
    },
    {
      "cell_type": "code",
      "source": [
        "def check_eof(eof):\n",
        "    return eof == '%%EOF'"
      ],
      "metadata": {
        "id": "z_yhZUrKhRK7"
      },
      "execution_count": 187,
      "outputs": []
    },
    {
      "cell_type": "code",
      "source": [
        "check_eof(EOF)"
      ],
      "metadata": {
        "colab": {
          "base_uri": "https://localhost:8080/"
        },
        "id": "MCMwhwTeiTUt",
        "outputId": "e72186a4-2c36-41a2-fda8-8af7139711ae"
      },
      "execution_count": 188,
      "outputs": [
        {
          "output_type": "execute_result",
          "data": {
            "text/plain": [
              "True"
            ]
          },
          "metadata": {},
          "execution_count": 188
        }
      ]
    },
    {
      "cell_type": "markdown",
      "source": [
        "**Get Objects**"
      ],
      "metadata": {
        "id": "O88plbw7lr49"
      }
    },
    {
      "cell_type": "code",
      "source": [
        "def object_dict(line_index=None, xref_address=None, obj_id=None, obj_gen=None, content=None):\n",
        "  return dict(\n",
        "      line_index=line_index,\n",
        "      xref_address=xref_address,\n",
        "      obj_id=obj_id,\n",
        "      obj_gen=obj_gen,\n",
        "      content=content\n",
        "  )"
      ],
      "metadata": {
        "id": "LIZXjc4WnLWs"
      },
      "execution_count": 189,
      "outputs": []
    },
    {
      "cell_type": "code",
      "source": [
        "def get_objects(file):\n",
        "    objects = []\n",
        "    object = {}\n",
        "    content = []\n",
        "    get_content = False\n",
        "\n",
        "    for i, line in enumerate(file):\n",
        "        line = ignore_comment(line)\n",
        "        parts = line.split()\n",
        "        if len(parts) == 3 and parts[2] == 'obj':  # line that starts an object\n",
        "            object = object_dict(i, sum(LINE_SIZE[0:i]), parts[0], parts[1])\n",
        "            content = []  # Reset content for new object\n",
        "            get_content = True\n",
        "        elif get_content:\n",
        "            if len(parts) == 1 and parts[0] == 'endobj':  # line that ends the object\n",
        "                object['content'] = content\n",
        "                objects.append(object)\n",
        "                object = {}\n",
        "                content = []\n",
        "                get_content = False\n",
        "            else:\n",
        "                content.append(line)\n",
        "\n",
        "    return objects"
      ],
      "metadata": {
        "id": "8m25-DWZiUy3"
      },
      "execution_count": 197,
      "outputs": []
    },
    {
      "cell_type": "code",
      "source": [
        "get_objects(FILE)[0:3]"
      ],
      "metadata": {
        "colab": {
          "base_uri": "https://localhost:8080/"
        },
        "id": "Qi-YGZz8oRPJ",
        "outputId": "4003dcde-c088-46e6-ddc1-3179c3076509"
      },
      "execution_count": 199,
      "outputs": [
        {
          "output_type": "execute_result",
          "data": {
            "text/plain": [
              "[{'line_index': 3,\n",
              "  'xref_address': 81,\n",
              "  'obj_id': '1',\n",
              "  'obj_gen': '0',\n",
              "  'content': ['<< /Type /Catalog ',\n",
              "   '/Pages 2 0 R ',\n",
              "   '/Metadata 6 0 R ',\n",
              "   '/Outlines 7 0 R ',\n",
              "   '>>']},\n",
              " {'line_index': 11,\n",
              "  'xref_address': 381,\n",
              "  'obj_id': '2',\n",
              "  'obj_gen': '0',\n",
              "  'content': ['<< /Type /Pages ', '/Kids [3 0 R] ', '/Count 1 ', '>>']},\n",
              " {'line_index': 18,\n",
              "  'xref_address': 591,\n",
              "  'obj_id': '3',\n",
              "  'obj_gen': '0',\n",
              "  'content': ['<< /Type /Page ',\n",
              "   '/Parent 2 0 R ',\n",
              "   '/Resources << /Font << /F1 4 0 R >> >> ',\n",
              "   '/MediaBox [0 0 595 842] ',\n",
              "   '/CropBox [10 10 585 832] ',\n",
              "   '/Rotate 0 ',\n",
              "   '/Contents 5 0 R ',\n",
              "   '>>']}]"
            ]
          },
          "metadata": {},
          "execution_count": 199
        }
      ]
    },
    {
      "cell_type": "code",
      "source": [],
      "metadata": {
        "id": "x-wLZpcFvzu1"
      },
      "execution_count": 191,
      "outputs": []
    }
  ]
}