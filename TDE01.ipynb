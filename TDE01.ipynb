{
  "nbformat": 4,
  "nbformat_minor": 0,
  "metadata": {
    "colab": {
      "provenance": [],
      "collapsed_sections": [
        "3k1_H3lAqXj5",
        "fd5tVU1fg10F",
        "xZBB2LZw1pG0",
        "7vZvBgb01sqv"
      ],
      "authorship_tag": "ABX9TyMrzF4viCtUjPqsKgIgVuiy",
      "include_colab_link": true
    },
    "kernelspec": {
      "name": "python3",
      "display_name": "Python 3"
    },
    "language_info": {
      "name": "python"
    }
  },
  "cells": [
    {
      "cell_type": "markdown",
      "metadata": {
        "id": "view-in-github",
        "colab_type": "text"
      },
      "source": [
        "<a href=\"https://colab.research.google.com/github/JoaoVLima/ActualSimplePDFValidator/blob/main/TDE01.ipynb\" target=\"_parent\"><img src=\"https://colab.research.google.com/assets/colab-badge.svg\" alt=\"Open In Colab\"/></a>"
      ]
    },
    {
      "cell_type": "markdown",
      "source": [
        "# PUCPR\n",
        "## **João Victor de Lima**\n",
        "### TDE01 - Construção de Interpretadores\n",
        "**Desenvolver um programa que analise documentos no\n",
        "formato simplepdf**, uma versão textual simplificada inspirada na estrutura interna de arquivos pdf.\n",
        "O programa deverá **processar documentos simplepdf**, **validar sua estrutura segundo as regras formais da linguagem que aqui será definida**, **gerar estatísticas** e **transformações do conteúdo**."
      ],
      "metadata": {
        "id": "UjW58x5wm23l"
      }
    },
    {
      "cell_type": "markdown",
      "source": [
        "# Explicação"
      ],
      "metadata": {
        "id": "UzsHdyhkU-ZI"
      }
    },
    {
      "cell_type": "markdown",
      "source": [
        "## Formato SimplePDF"
      ],
      "metadata": {
        "id": "LjTnt8hlVBs_"
      }
    },
    {
      "cell_type": "markdown",
      "source": [
        "O SimplePDF é combosto por:"
      ],
      "metadata": {
        "id": "9GYP-CAJVYjW"
      }
    },
    {
      "cell_type": "markdown",
      "source": [
        "1. **Cabeçalho**: Todo documento começa com uma linha de cabeçalho\n",
        "```\n",
        "%SPDF-1.0\n",
        "```"
      ],
      "metadata": {
        "id": "_BvhS5tmV8Kj"
      }
    },
    {
      "cell_type": "markdown",
      "source": [
        "2. **Objetos**: O documento consiste em objetos numerados no formato\n",
        "```\n",
        "obj_id obj_gen obj\n",
        "<< conteudo >>\n",
        "endobj\n",
        "```\n",
        "No qual:\n",
        "  - **obj_id** é um número inteiro único que identifica o objeto\n",
        "  - **obj_gen** é um número de geração\n",
        "(normalmente 0)"
      ],
      "metadata": {
        "id": "SgOQCYkhWXXj"
      }
    },
    {
      "cell_type": "markdown",
      "source": [
        "3. **Tipos de dados básicos**:\n",
        "  - **Números**: inteiros (123) ou decimais (123.45)\n",
        "  - **Strings**: delimitadas por parênteses: (Este é um texto)\n",
        "  - **Nomes**: começam com /: /Nome\n",
        "  - **Booleanos**: true ou false\n",
        "  - **Null**: null\n",
        "  - **Referências**: indicam referência a outro objeto: obj_id obj_gen R"
      ],
      "metadata": {
        "id": "lK7tTJZjWF1-"
      }
    },
    {
      "cell_type": "markdown",
      "source": [
        "4. **Estruturas de dados**:\n",
        "  - **Dicionários**: pares chave/valor no formato: /Chave valor\n",
        "  - **Arrays**: sequências de valores delimitadas por [ e ]\n",
        "  - **Streams**: Blocos de dados entre stream e endstream"
      ],
      "metadata": {
        "id": "bbE7GEeSV8IO"
      }
    },
    {
      "cell_type": "markdown",
      "source": [
        "5. **Estrutura hierárquica**:\n",
        "  - **Objeto catálogo (root)**: Define a estrutura do documento\n",
        "  - **Objeto de páginas**: Mantém lista de páginas\n",
        "  - **Objetos de página**: Contêm conteúdo e propriedades de cada página\n",
        "  - **Objetos de conteúdo**: Contêm texto e elementos gráficos\n"
      ],
      "metadata": {
        "id": "Od9zi2xoV8GD"
      }
    },
    {
      "cell_type": "markdown",
      "source": [
        "6. **Comentários**:\n",
        "  Linhas que começam com % (exceto o cabeçalho) são comentários"
      ],
      "metadata": {
        "id": "U0e6BnhmV8EB"
      }
    },
    {
      "cell_type": "markdown",
      "source": [
        "7. **Cross-reference table (xref)**: Tabela que lista a posição de cada objeto no arquivo:\n",
        "```\n",
        "xref\n",
        "0 3\n",
        "0000000000 65535 f\n",
        "0000000010 00000 n\n",
        "0000000079 00000 n\n",
        "```\n",
        "\n",
        "  1. ESTRUTURA E PROPÓSITO DA TABELA XREF\n",
        "\n",
        "    A tabela xref contém a posição (offset em bytes) de cada objeto no arquivo. Sua estrutura consiste em:\n",
        "    1. A palavra-chave xref em uma linha sozinha\n",
        "    2. Uma linha com dois números: o primeiro objeto na seção e o número de entradas\n",
        "    3. Uma entrada para cada objeto, cada uma com exatamente 20 bytes:\n",
        "    - Offset de 10 dígitos (com zeros à esquerda)\n",
        "    - Um espaço\n",
        "    - Número de geração de 5 dígitos (geralmente 00000)\n",
        "    - Um espaço\n",
        "    - Um caractere 'n' (para objetos em uso) ou 'f' (para objetos livres)\n",
        "    - Um espaço e uma quebra de linha\n",
        "  2. Escreva o conteúdo do documento até antes da seção xref  \n",
        "  - Inclua o cabeçalho (%SPDF-1.0)\n",
        "  - Crie todos os objetos numerados\n",
        "  3. Anote a posição (offset) do início de cada objeto  \n",
        "  - A posição é o número de bytes desde o início do arquivo\n",
        "  - Para o objeto 0 (especial), sempre use offset 0, geração 65535 e flag 'f'\n",
        "  4. Crie a tabela xref usando os offsets anotados  \n",
        "  Comece com a linha \"xref\"\n",
        "  - Na próxima linha, coloque \"0 N\" onde N é o número total de objetos + 1 (inclui o objeto 0)\n",
        "  - Para cada objeto, adicione uma entrada de 20 bytes\n",
        "  5. Complete com a seção trailer  \n",
        "  - Adicione a palavra-chave \"trailer\" seguida pelo dicionário trailer\n",
        "  - Adicione \"startxref\" seguido pela posição da palavra-chave \"xref\"\n",
        "  - Termine com \"%%EOF\""
      ],
      "metadata": {
        "id": "jXs9_dJFV7xS"
      }
    },
    {
      "cell_type": "markdown",
      "source": [
        "8. **Trailer**: Informações finais do documento:\n",
        "```\n",
        "trailer\n",
        "<< /Size 3 /Root 1 0 R >>\n",
        "startxref\n",
        "183\n",
        "%%EOF\n",
        "```"
      ],
      "metadata": {
        "id": "0f6Bi8_AaYQj"
      }
    },
    {
      "cell_type": "markdown",
      "source": [
        "## Funcionalidades Requeridas do Programa"
      ],
      "metadata": {
        "id": "N-I1N91bbCzI"
      }
    },
    {
      "cell_type": "markdown",
      "source": [
        "O programa deve implementar as seguintes funcionalidades:"
      ],
      "metadata": {
        "id": "5S_oUJxFbHI_"
      }
    },
    {
      "cell_type": "markdown",
      "source": [
        "1. **Validação Estrutural**:\n",
        "  - Verificar se o cabeçalho SimplePDF está correto\n",
        "  - Validar a sintaxe de cada objeto e suas propriedades\n",
        "  - Verificar se todas as referências apontam para objetos existentes\n",
        "  - Validar a estrutura hierárquica (catálogo → páginas → página)\n",
        "  - Verificar consistência da tabela xref\n",
        "  - Validar o trailer"
      ],
      "metadata": {
        "id": "7ff44maOfPdw"
      }
    },
    {
      "cell_type": "markdown",
      "source": [
        "2. **Extração de Informações**:  \n",
        "  - Conteúdo textual de cada página\n",
        "  - Metadados do documento (título, autor, data)\n",
        "  - Estrutura de páginas (quantidade, tamanho)\n",
        "  - Fontes utilizadas\n",
        "  - Estatísticas de objetos por tipo"
      ],
      "metadata": {
        "id": "mAr7elPufw-y"
      }
    },
    {
      "cell_type": "markdown",
      "source": [
        "3. **Transformações**:\n",
        "  - Extração de todo texto para formato TXT;\n",
        "  - Geração de sumário baseado na estrutura\n",
        "  - Listagem hierárquica de objetos e suas dependências\n",
        "  - Conversão de coordenadas de texto para formato mais legível"
      ],
      "metadata": {
        "id": "VqK9ObMOfPYh"
      }
    },
    {
      "cell_type": "markdown",
      "source": [
        "4. **Análise Avançada**:\n",
        "  - Detecção de objetos não referenciados\n",
        "  - Identificação de ciclos de referência\n",
        "  - Análise de eficiência de armazenamento\n",
        "  - Sugestões de otimização da estrutura"
      ],
      "metadata": {
        "id": "_XqecdUffPV9"
      }
    },
    {
      "cell_type": "markdown",
      "source": [
        "5. **O programa deve ler dois arquivos**:\n",
        "  - O documento SimplePDF a ser analisado\n",
        "  - Um arquivo de configuração que define parâmetros de análise e transformação"
      ],
      "metadata": {
        "id": "KvJqLabnpaEa"
      }
    },
    {
      "cell_type": "markdown",
      "source": [
        "## Arquivo de Configuração"
      ],
      "metadata": {
        "id": "3k1_H3lAqXj5"
      }
    },
    {
      "cell_type": "markdown",
      "source": [
        "O arquivo sera disponibilizado com o mesmo nome do arquivo pdf, porem com o formato .py\n",
        "\n",
        "Teste01.pdf\n",
        "```\n",
        "%SPDF-1.0\n",
        "...\n",
        "```\n",
        "\n",
        "Teste01.py\n",
        "```\n",
        "extrair_texto=True\n",
        "gerar_sumario=True\n",
        "detectar_ciclos=True\n",
        "nivel_detalhe='Completo'\n",
        "validar_xref=True\n",
        "```\n",
        "\n",
        "Opções:\n",
        "- **extrair_texto** (bool): Habilita a extração de texto do documento.\n",
        "- **gerar_sumario** (bool): Gera um sumário do conteúdo do documento.\n",
        "- **detectar_ciclos** (bool): Detecta possíveis referências cíclicas no documento.\n",
        "- **nivel_detalhe** (str): Define o nível de detalhe da análise ('Completo', 'Basico', 'Nulo').\n",
        "- **validar_xref** (bool): Valida as referências cruzadas dentro do documento."
      ],
      "metadata": {
        "id": "H2Tmzv4yqfCK"
      }
    },
    {
      "cell_type": "markdown",
      "source": [
        "## Saída do Programa"
      ],
      "metadata": {
        "id": "fd5tVU1fg10F"
      }
    },
    {
      "cell_type": "markdown",
      "source": [
        "O programa deve gerar um relatório com as seguintes seções:\n",
        "```\n",
        "VALIDAÇÃO:\n",
        "[OK ou ERRO] Estrutura geral\n",
        "[OK ou ERRO] Sintaxe de objetos\n",
        "[OK ou ERRO] Referências\n",
        "[OK ou ERRO] Tabela xref\n",
        "[Detalhes de erros, se houver]\n",
        "\n",
        "ESTATÍSTICAS:\n",
        "Total de objetos: X\n",
        "Objetos por tipo: Catalog=1, Pages=1, Page=Y, Font=Z, ...\n",
        "Total de páginas: Y\n",
        "Tamanho do documento: W bytes\n",
        "Overhead estrutural: V bytes (P%)\n",
        "\n",
        "CONTEÚDO:\n",
        "Título: [título do documento]\n",
        "Autor: [autor do documento]\n",
        "Data de criação: [data]\n",
        "Texto extraído: [primeiros 200 caracteres...]\n",
        "\n",
        "ÁRVORE DE OBJETOS:\n",
        "1: Catalog\n",
        "  +- 2: Pages\n",
        "    +- 3: Page\n",
        "    +- 4: Font\n",
        "    +- 5: Contents (stream)\n",
        "6: Metadata\n",
        "\n",
        "ANÁLISE AVANÇADA:\n",
        "[Resultados de análises específicas definidas no arquivo de configuração]\n",
        "```"
      ],
      "metadata": {
        "id": "tr3bHgp7g49H"
      }
    },
    {
      "cell_type": "markdown",
      "source": [
        "## AS TRANSFORMAÇÕES ESPECIFICADAS"
      ],
      "metadata": {
        "id": "nHNkwk4-vMl-"
      }
    },
    {
      "cell_type": "markdown",
      "source": [
        "1. **Extração de texto para formato TXT**\n",
        "\n",
        " Esta transformação envolve **localizar e extrair todo o conteúdo textual do documento SimplePDF**, que está disperso em diferentes objetos de conteúdo dentro de streams e **convertê-lo para um arquivo de texto simples e contínuo**.\n",
        "\n",
        " Por exemplo: No **Exemplo 2**, o texto está dentro de **objetos stream** com comandos como **(Relatório Financeiro: Primeiro Trimestre) Tj**. O programa precisa **identificar esses comandos, extrair o texto entre parênteses**, e **organizá-lo em uma sequência lógica**, **respeitando a ordem das páginas e a posição dos elementos de texto**."
      ],
      "metadata": {
        "id": "yEQqOnGdvOUJ"
      }
    },
    {
      "cell_type": "markdown",
      "source": [
        "2. **Geração de sumário baseado na estrutura**\n",
        "\n",
        "  Esta transformação requer **analisar a estrutura hierárquica do documento (especialmente objetos do tipo Outlines)** e **gerar uma representação textual organizada que funcione como um sumário ou índice**.\n",
        "\n",
        "  Por exemplo: No **Exemplo 2, os objetos 11, 12 e 13 formam uma estrutura de outlines com títulos** como \"Resumo Executivo\", \"Detalhamento de Vendas\" e \"Projeções Futuras\". **O programa precisa reconhecer essa hierarquia (quem é pai de quem, quem vem antes ou depois)** e **organizá-la em um formato de sumário**."
      ],
      "metadata": {
        "id": "IoafYucJ7Pfs"
      }
    },
    {
      "cell_type": "markdown",
      "source": [
        "3. **Listagem hierárquica de objetos e suas dependências**\n",
        "\n",
        "  Esta transformação envolve **mapear todas as relações entre objetos (quem referência quem)** e **apresentá-las em um formato visual hierárquico, como uma árvore**.\n",
        "\n",
        "  Por exemplo: O **objeto raiz (Catalog)** referência **Pages**, que por sua vez referência **Page**, que referência **Font e Contents**. Isso forma uma **estrutura em árvore que precisa ser extraída e apresentada de forma clara**, como mostrado na seção ÁRVORE DE OBJETOS da saída esperada."
      ],
      "metadata": {
        "id": "47MNbgmu7PdV"
      }
    },
    {
      "cell_type": "markdown",
      "source": [
        "4. **Conversão de coordenadas de texto para formato mais legível**\n",
        "\n",
        "  Esta transformação requer **interpretar as coordenadas e comandos de posicionamento de texto (como 100 700 Td)** e **convertê-los para um formato que seja mais intuitivo para humanos**, possivelmente relacionando-os com a posição na página.\n",
        "\n",
        "  Por exemplo: Em vez de mostrar **100 700 Td**, o programa poderia **converter** isso **para** **\"Posição: 100px da esquerda, 92px do topo da página\" (considerando que em PDF as coordenadas Y geralmente começam da parte inferior da página)**."
      ],
      "metadata": {
        "id": "OClKu5pj7Pa7"
      }
    },
    {
      "cell_type": "markdown",
      "source": [
        "## Exemplos"
      ],
      "metadata": {
        "id": "AmUpIPeYvX-I"
      }
    },
    {
      "cell_type": "markdown",
      "source": [
        "### Exemplo 1"
      ],
      "metadata": {
        "id": "xZBB2LZw1pG0"
      }
    },
    {
      "cell_type": "markdown",
      "source": [
        "Exemplo 1\n",
        "```\n",
        "%SPDF-1.0\n",
        "\n",
        "1 0 obj\n",
        "<< /Type /Catalog\n",
        "/Pages 2 0 R\n",
        "/Metadata 7 0 R\n",
        "/Outlines 8 0 R\n",
        ">>\n",
        "endobj\n",
        "\n",
        "2 0 obj\n",
        "<< /Type /Pages\n",
        "/Kids [3 0 R 4 0 R]\n",
        "/Count 2\n",
        ">>\n",
        "endobj\n",
        "\n",
        "3 0 obj\n",
        "<< /Type /Page\n",
        "/Parent 2 0 R\n",
        "/Resources << /Font << /F1 5 0 R >> >>\n",
        "/MediaBox [0 0 612.0 792.0]\n",
        "/CropBox [10.5 10.5 601.5 781.5]\n",
        "/Rotate 0\n",
        "/Contents 6 0 R\n",
        ">>\n",
        "endobj\n",
        "\n",
        "4 0 obj\n",
        "<< /Type /Page\n",
        "/Parent 2 0 R\n",
        "/Resources << /Font << /F1 5 0 R >> >>\n",
        "/MediaBox [0 0 612.0 792.0]\n",
        "/CropBox [10.5 10.5 601.5 781.5]\n",
        "/Rotate 0\n",
        "/Contents 9 0 R\n",
        ">>\n",
        "endobj\n",
        "\n",
        "5 0 obj\n",
        "<< /Type /Font\n",
        "/Subtype /Type1\n",
        "/BaseFont /Helvetica\n",
        "/FontDescriptor 10 0 R\n",
        ">>\n",
        "endobj\n",
        "\n",
        "6 0 obj\n",
        "<< /Length 175 >>\n",
        "stream\n",
        "BT\n",
        "/F1 24 Tf\n",
        "100 700 Td\n",
        "(Relatório Financeiro: Primeiro Trimestre) Tj\n",
        "/F1 12 Tf\n",
        "0 -50 Td\n",
        "(Total de vendas: 1423 unidades) Tj\n",
        "0 -20 Td\n",
        "(Receita total: 158432.75 reais) Tj\n",
        "ET\n",
        "endstream\n",
        "endobj\n",
        "\n",
        "7 0 obj\n",
        "<< /Title (Relatório Financeiro Trimestral)\n",
        "/Author (Departamento Financeiro)\n",
        "/CreationDate (D:20230418090000)\n",
        "/Keywords (finanças, relatório, trimestral)\n",
        "/Version 1.2\n",
        "/PageCount 2\n",
        ">>\n",
        "endobj\n",
        "\n",
        "8 0 obj\n",
        "<< /Type /Outlines\n",
        "/Count 3\n",
        "/First 11 0 R\n",
        "/Last 13 0 R\n",
        ">>\n",
        "endobj\n",
        "\n",
        "9 0 obj\n",
        "<< /Length 322 >>\n",
        "stream\n",
        "BT\n",
        "/F1 18 Tf\n",
        "100 700 Td\n",
        "(Detalhamento por Categoria) Tj\n",
        "/F1 12 Tf\n",
        "0 -40 Td\n",
        "(Produto A: 523 unidades, valor unitário 89.99, total 47054.77) Tj\n",
        "0 -20 Td\n",
        "(Produto B: 347 unidades, valor unitário 125.50, total 43548.50) Tj\n",
        "0 -20 Td\n",
        "(Produto C: 553 unidades, valor unitário 122.65, total 67825.45) Tj\n",
        "0 -40 Td\n",
        "(Média de vendas por produto: 474.33 unidades) Tj\n",
        "ET\n",
        "endstream\n",
        "endobj\n",
        "\n",
        "10 0 obj\n",
        "<< /Type /FontDescriptor\n",
        "/FontName /Helvetica\n",
        "/Flags 32\n",
        "/FontBBox [-166 -225 1000 931]\n",
        "/ItalicAngle 0\n",
        "/Ascent 718\n",
        "/Descent -207\n",
        "/CapHeight 718\n",
        "/StemV 88\n",
        "/MissingWidth 278\n",
        ">>\n",
        "endobj\n",
        "\n",
        "11 0 obj\n",
        "<< /Title (Resumo Executivo)\n",
        "/Parent 8 0 R\n",
        "/Next 12 0 R\n",
        "/Dest [3 0 R /FitH 792.0]\n",
        ">>\n",
        "endobj\n",
        "\n",
        "12 0 obj\n",
        "<< /Title (Detalhamento de Vendas)\n",
        "/Parent 8 0 R\n",
        "/Prev 11 0 R\n",
        "/Next 13 0 R\n",
        "/Dest [4 0 R /FitH 792.0]\n",
        ">>\n",
        "endobj\n",
        "\n",
        "13 0 obj\n",
        "<< /Title (Projeções Futuras)\n",
        "/Parent 8 0 R\n",
        "/Prev 12 0 R\n",
        "/Dest [4 0 R /XYZ 100 450 1.25]\n",
        ">>\n",
        "endobj\n",
        "\n",
        "14 0 obj\n",
        "<< /Type /Metadata\n",
        "/Subtype /XML\n",
        "/Length 340\n",
        ">>\n",
        "stream\n",
        "<?xpacket begin='' id='W5M0MpCehiHzreSzNTczkc9d'?>\n",
        "<x:xmpmeta xmlns:x='adobe:ns:meta/'>\n",
        "<rdf:RDF xmlns:rdf='http://www.w3.org/1999/02/22-rdf-syntax-ns#'>\n",
        "<rdf:Description rdf:about=''\n",
        "xmlns:pdf='http://ns.adobe.com/pdf/1.3/'>\n",
        "<pdf:Producer>SimplePDF Generator 1.0</pdf:Producer>\n",
        "</rdf:Description>\n",
        "</rdf:RDF>\n",
        "</x:xmpmeta>\n",
        "<?xpacket end='w'?>\n",
        "endstream\n",
        "endobj\n",
        "xref\n",
        "0 15\n",
        "0000000000 65535 f\n",
        "0000000010 00000 n\n",
        "0000000099 00000 n\n",
        "0000000163 00000 n\n",
        "0000000344 00000 n\n",
        "0000000525 00000 n\n",
        "0000000624 00000 n\n",
        "0000000852 00000 n\n",
        "0000001048 00000 n\n",
        "0000001126 00000 n\n",
        "0000001500 00000 n\n",
        "0000001712 00000 n\n",
        "0000001818 00000 n\n",
        "0000001940 00000 n\n",
        "0000002052 00000 n\n",
        "trailer\n",
        "<< /Size 15\n",
        "/Root 1 0 R\n",
        "/Info 7 0 R\n",
        ">>\n",
        "startxref\n",
        "2500\n",
        "%%EOF\n",
        "```"
      ],
      "metadata": {
        "id": "IJT2Zh6WvbKR"
      }
    },
    {
      "cell_type": "markdown",
      "source": [
        "### Exemplo 2"
      ],
      "metadata": {
        "id": "7vZvBgb01sqv"
      }
    },
    {
      "cell_type": "markdown",
      "source": [
        "Exemplo 2\n",
        "```\n",
        "%SPDF-1.0\n",
        "\n",
        "1 0 obj\n",
        "<< /Type /Catalog\n",
        "/Pages 2 0 R\n",
        "/Metadata 7 0 R\n",
        "/Outlines 8 0 R\n",
        ">>\n",
        "endobj\n",
        "\n",
        "2 0 obj\n",
        "<< /Type /Pages\n",
        "/Kids [3 0 R 4 0 R]\n",
        "/Count 2\n",
        ">>\n",
        "endobj\n",
        "\n",
        "3 0 obj\n",
        "<< /Type /Page\n",
        "/Parent 2 0 R\n",
        "/Resources << /Font << /F1 5 0 R >> >>\n",
        "/MediaBox [0 0 612.0 792.0]\n",
        "/CropBox [10.5 10.5 601.5 781.5]\n",
        "/Rotate 0\n",
        "/Contents 6 0 R\n",
        ">>\n",
        "endobj\n",
        "\n",
        "4 0 obj\n",
        "<< /Type /Page\n",
        "/Parent 2 0 R\n",
        "/Resources << /Font << /F1 5 0 R >> >>\n",
        "/MediaBox [0 0 612.0 792.0]\n",
        "/CropBox [10.5 10.5 601.5 781.5]\n",
        "/Rotate 0\n",
        "/Contents 9 0 R\n",
        ">>\n",
        "endobj\n",
        "\n",
        "5 0 obj\n",
        "<< /Type /Font\n",
        "/Subtype /Type1\n",
        "/BaseFont /Helvetica\n",
        "/FontDescriptor 10 0 R\n",
        ">>\n",
        "endobj\n",
        "\n",
        "6 0 obj\n",
        "<< /Length 175 >>\n",
        "stream\n",
        "BT\n",
        "/F1 24 Tf\n",
        "100 700 Td\n",
        "(Relatório Financeiro: Primeiro Trimestre) Tj\n",
        "/F1 12 Tf\n",
        "0 -50 Td\n",
        "(Total de vendas: 1423 unidades) Tj\n",
        "0 -20 Td\n",
        "(Receita total: 158432.75 reais) Tj\n",
        "ET\n",
        "endstream\n",
        "endobj\n",
        "\n",
        "7 0 obj\n",
        "<< /Title (Relatório Financeiro Trimestral)\n",
        "/Author (Departamento Financeiro)\n",
        "/CreationDate (D:20230418090000)\n",
        "/Keywords (finanças, relatório, trimestral)\n",
        "/Version 1.2\n",
        "/PageCount 2\n",
        ">>\n",
        "endobj\n",
        "\n",
        "8 0 obj\n",
        "<< /Type /Outlines\n",
        "/Count 3\n",
        "/First 11 0 R\n",
        "/Last 13 0 R\n",
        ">>\n",
        "endobj\n",
        "\n",
        "9 0 obj\n",
        "<< /Length 322 >>\n",
        "stream\n",
        "BT\n",
        "/F1 18 Tf\n",
        "100 700 Td\n",
        "(Detalhamento por Categoria) Tj\n",
        "/F1 12 Tf\n",
        "0 -40 Td\n",
        "(Produto A: 523 unidades, valor unitário 89.99, total 47054.77) Tj\n",
        "0 -20 Td\n",
        "(Produto B: 347 unidades, valor unitário 125.50, total 43548.50) Tj\n",
        "0 -20 Td\n",
        "(Produto C: 553 unidades, valor unitário 122.65, total 67825.45) Tj\n",
        "0 -40 Td\n",
        "(Média de vendas por produto: 474.33 unidades) Tj\n",
        "ET\n",
        "endstream\n",
        "endobj\n",
        "\n",
        "10 0 obj\n",
        "<< /Type /FontDescriptor\n",
        "/FontName /Helvetica\n",
        "/Flags 32\n",
        "/FontBBox [-166 -225 1000 931]\n",
        "/ItalicAngle 0\n",
        "/Ascent 718\n",
        "/Descent -207\n",
        "/CapHeight 718\n",
        "/StemV 88\n",
        "/MissingWidth 278\n",
        ">>\n",
        "endobj\n",
        "\n",
        "11 0 obj\n",
        "<< /Title (Resumo Executivo)\n",
        "/Parent 8 0 R\n",
        "/Next 12 0 R\n",
        "/Dest [3 0 R /FitH 792.0]\n",
        ">>\n",
        "endobj\n",
        "\n",
        "12 0 obj\n",
        "<< /Title (Detalhamento de Vendas)\n",
        "/Parent 8 0 R\n",
        "/Prev 11 0 R\n",
        "/Next 13 0 R\n",
        "/Dest [4 0 R /FitH 792.0]\n",
        ">>\n",
        "endobj\n",
        "\n",
        "13 0 obj\n",
        "<< /Title (Projeções Futuras)\n",
        "/Parent 8 0 R\n",
        "/Prev 12 0 R\n",
        "/Dest [4 0 R /XYZ 100 450 1.25]\n",
        ">>\n",
        "endobj\n",
        "\n",
        "14 0 obj\n",
        "<< /Type /Metadata\n",
        "/Subtype /XML\n",
        "/Length 340\n",
        ">>\n",
        "stream\n",
        "<?xpacket begin='' id='W5M0MpCehiHzreSzNTczkc9d'?>\n",
        "<x:xmpmeta xmlns:x='adobe:ns:meta/'>\n",
        "<rdf:RDF xmlns:rdf='http://www.w3.org/1999/02/22-rdf-syntax-ns#'>\n",
        "<rdf:Description rdf:about=''\n",
        "xmlns:pdf='http://ns.adobe.com/pdf/1.3/'>\n",
        "<pdf:Producer>SimplePDF Generator 1.0</pdf:Producer>\n",
        "</rdf:Description>\n",
        "</rdf:RDF>\n",
        "</x:xmpmeta>\n",
        "<?xpacket end='w'?>\n",
        "endstream\n",
        "endobj\n",
        "\n",
        "xref\n",
        "0 15\n",
        "0000000000 65535 f\n",
        "0000000010 00000 n\n",
        "0000000099 00000 n\n",
        "0000000163 00000 n\n",
        "0000000344 00000 n\n",
        "0000000525 00000 n\n",
        "0000000624 00000 n\n",
        "0000000852 00000 n\n",
        "0000001048 00000 n\n",
        "0000001126 00000 n\n",
        "0000001500 00000 n\n",
        "0000001712 00000 n\n",
        "0000001818 00000 n\n",
        "0000001940 00000 n\n",
        "0000002052 00000 n\n",
        "\n",
        "trailer\n",
        "<< /Size 15\n",
        "/Root 1 0 R\n",
        "/Info 7 0 R\n",
        ">>\n",
        "startxref\n",
        "2500\n",
        "\n",
        "%%EOF\n",
        "```"
      ],
      "metadata": {
        "id": "pcr-tsCzviV-"
      }
    },
    {
      "cell_type": "markdown",
      "source": [
        "## Dicas"
      ],
      "metadata": {
        "id": "3qBC16B1E_2L"
      }
    },
    {
      "cell_type": "markdown",
      "source": [
        "1. Comece simples: Crie primeiro documentos com poucos objetos e estrutura simples.\n",
        "2. Cálculo manual de offsets: Para documentos simples, conte manualmente os bytes para cada\n",
        "posição. Lembre-se de que cada caractere (incluindo espaços e quebras de linha) conta como\n",
        "um byte.\n",
        "3. Uso de ferramentas:  \n",
        "o Os alunos podem escrever um pequeno script auxiliar que conte o número de bytes\n",
        "até cada objeto\n",
        "o Editores hexadecimais podem ser úteis para verificar posições\n",
        "4. Construção gradual:  \n",
        "o Comece com o cabeçalho e objetos simples\n",
        "o Adicione um marcador temporário para a tabela xref (ex: \"XREF_AQUI\")\n",
        "o Conte a posição de cada objeto\n",
        "o Substitua o marcador pela tabela xref real\n",
        "o Adicione a seção trailer\n",
        "5. Formato de quebra de linha: Certifique-se de usar consistentemente o mesmo formato de\n",
        "quebra de linha (CRLF ou LF) ao contar bytes.\n",
        "6. Verificação do documento:  \n",
        "o Após criar o documento, percorra-o byte a byte para verificar se os offsets na tabela\n",
        "xref apontam corretamente para o início de cada objeto"
      ],
      "metadata": {
        "id": "5IEesvWUFBFx"
      }
    },
    {
      "cell_type": "markdown",
      "source": [
        "CASOS DE TESTE IMPORTANTES\n",
        "Os alunos devem criar documentos de teste que cubram:\n",
        "1. Estrutura básica: Documento mínimo com catálogo e páginas\n",
        "2. Reais vs. Inteiros: Uso de números inteiros e de ponto flutuante\n",
        "3. Tipos de dados: Todas as variações (strings, nomes, arrays, dicionários)\n",
        "4. Referências circulares: Objetos que se referenciam mutuamente\n",
        "5. Conteúdo de texto: Objetos stream com comandos de texto\n",
        "6. Estrutura hierárquica complexa: Vários níveis de referência entre objetos\n",
        "7. Metadados completos: Informações detalhadas no objeto de metadados\n",
        "Criando arquivos de teste apropriados, os alunos poderão verificar se suas implementações lidam\n",
        "corretamente com todos os aspectos do formato SimplePDF, especialmente a interpretação da\n",
        "tabela xref, que é crucial para a navegação eficiente dentro do documento."
      ],
      "metadata": {
        "id": "JhkALO41FM0h"
      }
    },
    {
      "cell_type": "markdown",
      "source": [
        "# Código"
      ],
      "metadata": {
        "id": "SMMmOJslVCCc"
      }
    },
    {
      "cell_type": "code",
      "source": [],
      "metadata": {
        "id": "lmQvjSH7VGHx"
      },
      "execution_count": null,
      "outputs": []
    }
  ]
}