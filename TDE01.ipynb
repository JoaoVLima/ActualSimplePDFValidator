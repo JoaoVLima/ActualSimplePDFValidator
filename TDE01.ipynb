{
  "nbformat": 4,
  "nbformat_minor": 0,
  "metadata": {
    "colab": {
      "provenance": [],
      "collapsed_sections": [
        "xZBB2LZw1pG0",
        "7vZvBgb01sqv"
      ],
      "authorship_tag": "ABX9TyPCF/ie1C01SAO1FRoo+nOJ",
      "include_colab_link": true
    },
    "kernelspec": {
      "name": "python3",
      "display_name": "Python 3"
    },
    "language_info": {
      "name": "python"
    }
  },
  "cells": [
    {
      "cell_type": "markdown",
      "metadata": {
        "id": "view-in-github",
        "colab_type": "text"
      },
      "source": [
        "<a href=\"https://colab.research.google.com/github/JoaoVLima/ActualSimplePDFValidator/blob/main/TDE01.ipynb\" target=\"_parent\"><img src=\"https://colab.research.google.com/assets/colab-badge.svg\" alt=\"Open In Colab\"/></a>"
      ]
    },
    {
      "cell_type": "markdown",
      "source": [
        "# PUCPR\n",
        "## **João Victor de Lima**\n",
        "### TDE01 - Construção de Interpretadores\n",
        "**Desenvolver um programa que analise documentos no\n",
        "formato simplepdf**, uma versão textual simplificada inspirada na estrutura interna de arquivos pdf.\n",
        "O programa deverá **processar documentos simplepdf**, **validar sua estrutura segundo as regras formais da linguagem que aqui será definida**, **gerar estatísticas** e **transformações do conteúdo**.\n",
        "\n",
        "[adobe pdf docs (for reference)](https://opensource.adobe.com/dc-acrobat-sdk-docs/pdfstandards/pdfreference1.0.pdf)"
      ],
      "metadata": {
        "id": "UjW58x5wm23l"
      }
    },
    {
      "cell_type": "markdown",
      "source": [
        "# Explicação"
      ],
      "metadata": {
        "id": "UzsHdyhkU-ZI"
      }
    },
    {
      "cell_type": "markdown",
      "source": [
        "## Formato SimplePDF"
      ],
      "metadata": {
        "id": "LjTnt8hlVBs_"
      }
    },
    {
      "cell_type": "markdown",
      "source": [
        "O SimplePDF é combosto por:"
      ],
      "metadata": {
        "id": "9GYP-CAJVYjW"
      }
    },
    {
      "cell_type": "markdown",
      "source": [
        "1. **Cabeçalho**: Todo documento começa com uma linha de cabeçalho\n",
        "```\n",
        "%SPDF-1.0\n",
        "```"
      ],
      "metadata": {
        "id": "_BvhS5tmV8Kj"
      }
    },
    {
      "cell_type": "markdown",
      "source": [
        "2. **Objetos**: O documento consiste em objetos numerados no formato\n",
        "```\n",
        "obj_id obj_gen obj\n",
        "<< conteudo >>\n",
        "endobj\n",
        "```\n",
        "No qual:\n",
        "  - **obj_id** é um número inteiro único que identifica o objeto\n",
        "  - **obj_gen** é um número de geração\n",
        "(normalmente 0)"
      ],
      "metadata": {
        "id": "SgOQCYkhWXXj"
      }
    },
    {
      "cell_type": "markdown",
      "source": [
        "3. **Tipos de dados básicos**:\n",
        "  - **Números**: inteiros (123) ou decimais (123.45)\n",
        "  - **Strings**: delimitadas por parênteses: (Este é um texto)\n",
        "  - **Nomes**: começam com /: /Nome\n",
        "  - **Booleanos**: true ou false\n",
        "  - **Null**: null\n",
        "  - **Referências**: indicam referência a outro objeto: obj_id obj_gen R"
      ],
      "metadata": {
        "id": "lK7tTJZjWF1-"
      }
    },
    {
      "cell_type": "markdown",
      "source": [
        "4. **Estruturas de dados**:\n",
        "  - **Dicionários**: pares chave/valor no formato: /Chave valor\n",
        "  - **Arrays**: sequências de valores delimitadas por [ e ]\n",
        "  - **Streams**: Blocos de dados entre stream e endstream"
      ],
      "metadata": {
        "id": "bbE7GEeSV8IO"
      }
    },
    {
      "cell_type": "markdown",
      "source": [
        "5. **Estrutura hierárquica**:\n",
        "  - **Objeto catálogo (root)**: Define a estrutura do documento\n",
        "  - **Objeto de páginas**: Mantém lista de páginas\n",
        "  - **Objetos de página**: Contêm conteúdo e propriedades de cada página\n",
        "  - **Objetos de conteúdo**: Contêm texto e elementos gráficos\n"
      ],
      "metadata": {
        "id": "Od9zi2xoV8GD"
      }
    },
    {
      "cell_type": "markdown",
      "source": [
        "6. **Comentários**:\n",
        "  Linhas que começam com % (exceto o cabeçalho) são comentários"
      ],
      "metadata": {
        "id": "U0e6BnhmV8EB"
      }
    },
    {
      "cell_type": "markdown",
      "source": [
        "7. **Cross-reference table (xref)**: Tabela que lista a posição de cada objeto no arquivo:\n",
        "```\n",
        "xref\n",
        "0 3\n",
        "0000000000 65535 f\n",
        "0000000010 00000 n\n",
        "0000000079 00000 n\n",
        "```\n",
        "\n",
        "  1. ESTRUTURA E PROPÓSITO DA TABELA XREF\n",
        "\n",
        "    A tabela xref contém a posição (offset em bytes) de cada objeto no arquivo. Sua estrutura consiste em:\n",
        "    1. A palavra-chave xref em uma linha sozinha\n",
        "    2. Uma linha com dois números: o primeiro objeto na seção e o número de entradas\n",
        "    3. Uma entrada para cada objeto, cada uma com exatamente 20 bytes:\n",
        "    - Offset de 10 dígitos (com zeros à esquerda)\n",
        "    - Um espaço\n",
        "    - Número de geração de 5 dígitos (geralmente 00000)\n",
        "    - Um espaço\n",
        "    - Um caractere 'n' (para objetos em uso) ou 'f' (para objetos livres)\n",
        "    - Um espaço e uma quebra de linha\n",
        "  2. Escreva o conteúdo do documento até antes da seção xref  \n",
        "  - Inclua o cabeçalho (%SPDF-1.0)\n",
        "  - Crie todos os objetos numerados\n",
        "  3. Anote a posição (offset) do início de cada objeto  \n",
        "  - A posição é o número de bytes desde o início do arquivo\n",
        "  - Para o objeto 0 (especial), sempre use offset 0, geração 65535 e flag 'f'\n",
        "  4. Crie a tabela xref usando os offsets anotados  \n",
        "  Comece com a linha \"xref\"\n",
        "  - Na próxima linha, coloque \"0 N\" onde N é o número total de objetos + 1 (inclui o objeto 0)\n",
        "  - Para cada objeto, adicione uma entrada de 20 bytes\n",
        "  5. Complete com a seção trailer  \n",
        "  - Adicione a palavra-chave \"trailer\" seguida pelo dicionário trailer\n",
        "  - Adicione \"startxref\" seguido pela posição da palavra-chave \"xref\"\n",
        "  - Termine com \"%%EOF\""
      ],
      "metadata": {
        "id": "jXs9_dJFV7xS"
      }
    },
    {
      "cell_type": "markdown",
      "source": [
        "8. **Trailer**: Informações finais do documento:\n",
        "```\n",
        "trailer\n",
        "<< /Size 3 /Root 1 0 R >>\n",
        "startxref\n",
        "183\n",
        "%%EOF\n",
        "```"
      ],
      "metadata": {
        "id": "0f6Bi8_AaYQj"
      }
    },
    {
      "cell_type": "markdown",
      "source": [
        "## Funcionalidades Requeridas do Programa"
      ],
      "metadata": {
        "id": "N-I1N91bbCzI"
      }
    },
    {
      "cell_type": "markdown",
      "source": [
        "O programa deve implementar as seguintes funcionalidades:"
      ],
      "metadata": {
        "id": "5S_oUJxFbHI_"
      }
    },
    {
      "cell_type": "markdown",
      "source": [
        "1. **Validação Estrutural**:\n",
        "  - Verificar se o cabeçalho SimplePDF está correto\n",
        "  - Validar a sintaxe de cada objeto e suas propriedades\n",
        "  - Verificar se todas as referências apontam para objetos existentes\n",
        "  - Validar a estrutura hierárquica (catálogo → páginas → página)\n",
        "  - Verificar consistência da tabela xref\n",
        "  - Validar o trailer"
      ],
      "metadata": {
        "id": "7ff44maOfPdw"
      }
    },
    {
      "cell_type": "markdown",
      "source": [
        "2. **Extração de Informações**:  \n",
        "  - Conteúdo textual de cada página\n",
        "  - Metadados do documento (título, autor, data)\n",
        "  - Estrutura de páginas (quantidade, tamanho)\n",
        "  - Fontes utilizadas\n",
        "  - Estatísticas de objetos por tipo"
      ],
      "metadata": {
        "id": "mAr7elPufw-y"
      }
    },
    {
      "cell_type": "markdown",
      "source": [
        "3. **Transformações**:\n",
        "  - Extração de todo texto para formato TXT;\n",
        "  - Geração de sumário baseado na estrutura\n",
        "  - Listagem hierárquica de objetos e suas dependências\n",
        "  - Conversão de coordenadas de texto para formato mais legível"
      ],
      "metadata": {
        "id": "VqK9ObMOfPYh"
      }
    },
    {
      "cell_type": "markdown",
      "source": [
        "4. **Análise Avançada**:\n",
        "  - Detecção de objetos não referenciados\n",
        "  - Identificação de ciclos de referência\n",
        "  - Análise de eficiência de armazenamento\n",
        "  - Sugestões de otimização da estrutura"
      ],
      "metadata": {
        "id": "_XqecdUffPV9"
      }
    },
    {
      "cell_type": "markdown",
      "source": [
        "5. **O programa deve ler dois arquivos**:\n",
        "  - O documento SimplePDF a ser analisado\n",
        "  - Um arquivo de configuração que define parâmetros de análise e transformação"
      ],
      "metadata": {
        "id": "KvJqLabnpaEa"
      }
    },
    {
      "cell_type": "markdown",
      "source": [
        "## Arquivo de Configuração"
      ],
      "metadata": {
        "id": "3k1_H3lAqXj5"
      }
    },
    {
      "cell_type": "markdown",
      "source": [
        "O arquivo sera disponibilizado com o mesmo nome do arquivo pdf, porem com o formato .py\n",
        "\n",
        "Teste01.pdf\n",
        "```\n",
        "%SPDF-1.0\n",
        "...\n",
        "```\n",
        "\n",
        "Teste01.py\n",
        "```\n",
        "extrair_texto=True\n",
        "gerar_sumario=True\n",
        "detectar_ciclos=True\n",
        "nivel_detalhe='Completo'\n",
        "validar_xref=True\n",
        "```\n",
        "\n",
        "Opções:\n",
        "- **extrair_texto** (bool): Habilita a extração de texto do documento.\n",
        "- **gerar_sumario** (bool): Gera um sumário do conteúdo do documento.\n",
        "- **detectar_ciclos** (bool): Detecta possíveis referências cíclicas no documento.\n",
        "- **nivel_detalhe** (str): Define o nível de detalhe da análise ('Completo', 'Basico', 'Nulo').\n",
        "- **validar_xref** (bool): Valida as referências cruzadas dentro do documento."
      ],
      "metadata": {
        "id": "H2Tmzv4yqfCK"
      }
    },
    {
      "cell_type": "markdown",
      "source": [
        "## Saída do Programa"
      ],
      "metadata": {
        "id": "fd5tVU1fg10F"
      }
    },
    {
      "cell_type": "markdown",
      "source": [
        "O programa deve gerar um relatório com as seguintes seções:\n",
        "```\n",
        "VALIDAÇÃO:\n",
        "[OK ou ERRO] Estrutura geral\n",
        "[OK ou ERRO] Sintaxe de objetos\n",
        "[OK ou ERRO] Referências\n",
        "[OK ou ERRO] Tabela xref\n",
        "[Detalhes de erros, se houver]\n",
        "\n",
        "ESTATÍSTICAS:\n",
        "Total de objetos: X\n",
        "Objetos por tipo: Catalog=1, Pages=1, Page=Y, Font=Z, ...\n",
        "Total de páginas: Y\n",
        "Tamanho do documento: W bytes\n",
        "Overhead estrutural: V bytes (P%)\n",
        "\n",
        "CONTEÚDO:\n",
        "Título: [título do documento]\n",
        "Autor: [autor do documento]\n",
        "Data de criação: [data]\n",
        "Texto extraído: [primeiros 200 caracteres...]\n",
        "\n",
        "ÁRVORE DE OBJETOS:\n",
        "1: Catalog\n",
        "  +- 2: Pages\n",
        "    +- 3: Page\n",
        "    +- 4: Font\n",
        "    +- 5: Contents (stream)\n",
        "6: Metadata\n",
        "\n",
        "ANÁLISE AVANÇADA:\n",
        "[Resultados de análises específicas definidas no arquivo de configuração]\n",
        "```"
      ],
      "metadata": {
        "id": "tr3bHgp7g49H"
      }
    },
    {
      "cell_type": "markdown",
      "source": [
        "## AS TRANSFORMAÇÕES ESPECIFICADAS"
      ],
      "metadata": {
        "id": "nHNkwk4-vMl-"
      }
    },
    {
      "cell_type": "markdown",
      "source": [
        "1. **Extração de texto para formato TXT**\n",
        "\n",
        " Esta transformação envolve **localizar e extrair todo o conteúdo textual do documento SimplePDF**, que está disperso em diferentes objetos de conteúdo dentro de streams e **convertê-lo para um arquivo de texto simples e contínuo**.\n",
        "\n",
        " Por exemplo: No **Exemplo 2**, o texto está dentro de **objetos stream** com comandos como **(Relatório Financeiro: Primeiro Trimestre) Tj**. O programa precisa **identificar esses comandos, extrair o texto entre parênteses**, e **organizá-lo em uma sequência lógica**, **respeitando a ordem das páginas e a posição dos elementos de texto**."
      ],
      "metadata": {
        "id": "yEQqOnGdvOUJ"
      }
    },
    {
      "cell_type": "markdown",
      "source": [
        "2. **Geração de sumário baseado na estrutura**\n",
        "\n",
        "  Esta transformação requer **analisar a estrutura hierárquica do documento (especialmente objetos do tipo Outlines)** e **gerar uma representação textual organizada que funcione como um sumário ou índice**.\n",
        "\n",
        "  Por exemplo: No **Exemplo 2, os objetos 11, 12 e 13 formam uma estrutura de outlines com títulos** como \"Resumo Executivo\", \"Detalhamento de Vendas\" e \"Projeções Futuras\". **O programa precisa reconhecer essa hierarquia (quem é pai de quem, quem vem antes ou depois)** e **organizá-la em um formato de sumário**."
      ],
      "metadata": {
        "id": "IoafYucJ7Pfs"
      }
    },
    {
      "cell_type": "markdown",
      "source": [
        "3. **Listagem hierárquica de objetos e suas dependências**\n",
        "\n",
        "  Esta transformação envolve **mapear todas as relações entre objetos (quem referência quem)** e **apresentá-las em um formato visual hierárquico, como uma árvore**.\n",
        "\n",
        "  Por exemplo: O **objeto raiz (Catalog)** referência **Pages**, que por sua vez referência **Page**, que referência **Font e Contents**. Isso forma uma **estrutura em árvore que precisa ser extraída e apresentada de forma clara**, como mostrado na seção ÁRVORE DE OBJETOS da saída esperada."
      ],
      "metadata": {
        "id": "47MNbgmu7PdV"
      }
    },
    {
      "cell_type": "markdown",
      "source": [
        "4. **Conversão de coordenadas de texto para formato mais legível**\n",
        "\n",
        "  Esta transformação requer **interpretar as coordenadas e comandos de posicionamento de texto (como 100 700 Td)** e **convertê-los para um formato que seja mais intuitivo para humanos**, possivelmente relacionando-os com a posição na página.\n",
        "\n",
        "  Por exemplo: Em vez de mostrar **100 700 Td**, o programa poderia **converter** isso **para** **\"Posição: 100px da esquerda, 92px do topo da página\" (considerando que em PDF as coordenadas Y geralmente começam da parte inferior da página)**."
      ],
      "metadata": {
        "id": "OClKu5pj7Pa7"
      }
    },
    {
      "cell_type": "markdown",
      "source": [
        "## Exemplos"
      ],
      "metadata": {
        "id": "AmUpIPeYvX-I"
      }
    },
    {
      "cell_type": "markdown",
      "source": [
        "### Exemplo 1"
      ],
      "metadata": {
        "id": "xZBB2LZw1pG0"
      }
    },
    {
      "cell_type": "markdown",
      "source": [
        "Exemplo 1\n",
        "```\n",
        "%SPDF-1.0\n",
        "\n",
        "1 0 obj\n",
        "<< /Type /Catalog\n",
        "/Pages 2 0 R\n",
        "/Metadata 7 0 R\n",
        "/Outlines 8 0 R\n",
        ">>\n",
        "endobj\n",
        "\n",
        "2 0 obj\n",
        "<< /Type /Pages\n",
        "/Kids [3 0 R 4 0 R]\n",
        "/Count 2\n",
        ">>\n",
        "endobj\n",
        "\n",
        "3 0 obj\n",
        "<< /Type /Page\n",
        "/Parent 2 0 R\n",
        "/Resources << /Font << /F1 5 0 R >> >>\n",
        "/MediaBox [0 0 612.0 792.0]\n",
        "/CropBox [10.5 10.5 601.5 781.5]\n",
        "/Rotate 0\n",
        "/Contents 6 0 R\n",
        ">>\n",
        "endobj\n",
        "\n",
        "4 0 obj\n",
        "<< /Type /Page\n",
        "/Parent 2 0 R\n",
        "/Resources << /Font << /F1 5 0 R >> >>\n",
        "/MediaBox [0 0 612.0 792.0]\n",
        "/CropBox [10.5 10.5 601.5 781.5]\n",
        "/Rotate 0\n",
        "/Contents 9 0 R\n",
        ">>\n",
        "endobj\n",
        "\n",
        "5 0 obj\n",
        "<< /Type /Font\n",
        "/Subtype /Type1\n",
        "/BaseFont /Helvetica\n",
        "/FontDescriptor 10 0 R\n",
        ">>\n",
        "endobj\n",
        "\n",
        "6 0 obj\n",
        "<< /Length 175 >>\n",
        "stream\n",
        "BT\n",
        "/F1 24 Tf\n",
        "100 700 Td\n",
        "(Relatório Financeiro: Primeiro Trimestre) Tj\n",
        "/F1 12 Tf\n",
        "0 -50 Td\n",
        "(Total de vendas: 1423 unidades) Tj\n",
        "0 -20 Td\n",
        "(Receita total: 158432.75 reais) Tj\n",
        "ET\n",
        "endstream\n",
        "endobj\n",
        "\n",
        "7 0 obj\n",
        "<< /Title (Relatório Financeiro Trimestral)\n",
        "/Author (Departamento Financeiro)\n",
        "/CreationDate (D:20230418090000)\n",
        "/Keywords (finanças, relatório, trimestral)\n",
        "/Version 1.2\n",
        "/PageCount 2\n",
        ">>\n",
        "endobj\n",
        "\n",
        "8 0 obj\n",
        "<< /Type /Outlines\n",
        "/Count 3\n",
        "/First 11 0 R\n",
        "/Last 13 0 R\n",
        ">>\n",
        "endobj\n",
        "\n",
        "9 0 obj\n",
        "<< /Length 322 >>\n",
        "stream\n",
        "BT\n",
        "/F1 18 Tf\n",
        "100 700 Td\n",
        "(Detalhamento por Categoria) Tj\n",
        "/F1 12 Tf\n",
        "0 -40 Td\n",
        "(Produto A: 523 unidades, valor unitário 89.99, total 47054.77) Tj\n",
        "0 -20 Td\n",
        "(Produto B: 347 unidades, valor unitário 125.50, total 43548.50) Tj\n",
        "0 -20 Td\n",
        "(Produto C: 553 unidades, valor unitário 122.65, total 67825.45) Tj\n",
        "0 -40 Td\n",
        "(Média de vendas por produto: 474.33 unidades) Tj\n",
        "ET\n",
        "endstream\n",
        "endobj\n",
        "\n",
        "10 0 obj\n",
        "<< /Type /FontDescriptor\n",
        "/FontName /Helvetica\n",
        "/Flags 32\n",
        "/FontBBox [-166 -225 1000 931]\n",
        "/ItalicAngle 0\n",
        "/Ascent 718\n",
        "/Descent -207\n",
        "/CapHeight 718\n",
        "/StemV 88\n",
        "/MissingWidth 278\n",
        ">>\n",
        "endobj\n",
        "\n",
        "11 0 obj\n",
        "<< /Title (Resumo Executivo)\n",
        "/Parent 8 0 R\n",
        "/Next 12 0 R\n",
        "/Dest [3 0 R /FitH 792.0]\n",
        ">>\n",
        "endobj\n",
        "\n",
        "12 0 obj\n",
        "<< /Title (Detalhamento de Vendas)\n",
        "/Parent 8 0 R\n",
        "/Prev 11 0 R\n",
        "/Next 13 0 R\n",
        "/Dest [4 0 R /FitH 792.0]\n",
        ">>\n",
        "endobj\n",
        "\n",
        "13 0 obj\n",
        "<< /Title (Projeções Futuras)\n",
        "/Parent 8 0 R\n",
        "/Prev 12 0 R\n",
        "/Dest [4 0 R /XYZ 100 450 1.25]\n",
        ">>\n",
        "endobj\n",
        "\n",
        "14 0 obj\n",
        "<< /Type /Metadata\n",
        "/Subtype /XML\n",
        "/Length 340\n",
        ">>\n",
        "stream\n",
        "<?xpacket begin='' id='W5M0MpCehiHzreSzNTczkc9d'?>\n",
        "<x:xmpmeta xmlns:x='adobe:ns:meta/'>\n",
        "<rdf:RDF xmlns:rdf='http://www.w3.org/1999/02/22-rdf-syntax-ns#'>\n",
        "<rdf:Description rdf:about=''\n",
        "xmlns:pdf='http://ns.adobe.com/pdf/1.3/'>\n",
        "<pdf:Producer>SimplePDF Generator 1.0</pdf:Producer>\n",
        "</rdf:Description>\n",
        "</rdf:RDF>\n",
        "</x:xmpmeta>\n",
        "<?xpacket end='w'?>\n",
        "endstream\n",
        "endobj\n",
        "xref\n",
        "0 15\n",
        "0000000000 65535 f\n",
        "0000000010 00000 n\n",
        "0000000099 00000 n\n",
        "0000000163 00000 n\n",
        "0000000344 00000 n\n",
        "0000000525 00000 n\n",
        "0000000624 00000 n\n",
        "0000000852 00000 n\n",
        "0000001048 00000 n\n",
        "0000001126 00000 n\n",
        "0000001500 00000 n\n",
        "0000001712 00000 n\n",
        "0000001818 00000 n\n",
        "0000001940 00000 n\n",
        "0000002052 00000 n\n",
        "trailer\n",
        "<< /Size 15\n",
        "/Root 1 0 R\n",
        "/Info 7 0 R\n",
        ">>\n",
        "startxref\n",
        "2500\n",
        "%%EOF\n",
        "```"
      ],
      "metadata": {
        "id": "IJT2Zh6WvbKR"
      }
    },
    {
      "cell_type": "markdown",
      "source": [
        "### Exemplo 2"
      ],
      "metadata": {
        "id": "7vZvBgb01sqv"
      }
    },
    {
      "cell_type": "markdown",
      "source": [
        "Exemplo 2\n",
        "```\n",
        "%SPDF-1.0\n",
        "\n",
        "1 0 obj\n",
        "<< /Type /Catalog\n",
        "/Pages 2 0 R\n",
        "/Metadata 7 0 R\n",
        "/Outlines 8 0 R\n",
        ">>\n",
        "endobj\n",
        "\n",
        "2 0 obj\n",
        "<< /Type /Pages\n",
        "/Kids [3 0 R 4 0 R]\n",
        "/Count 2\n",
        ">>\n",
        "endobj\n",
        "\n",
        "3 0 obj\n",
        "<< /Type /Page\n",
        "/Parent 2 0 R\n",
        "/Resources << /Font << /F1 5 0 R >> >>\n",
        "/MediaBox [0 0 612.0 792.0]\n",
        "/CropBox [10.5 10.5 601.5 781.5]\n",
        "/Rotate 0\n",
        "/Contents 6 0 R\n",
        ">>\n",
        "endobj\n",
        "\n",
        "4 0 obj\n",
        "<< /Type /Page\n",
        "/Parent 2 0 R\n",
        "/Resources << /Font << /F1 5 0 R >> >>\n",
        "/MediaBox [0 0 612.0 792.0]\n",
        "/CropBox [10.5 10.5 601.5 781.5]\n",
        "/Rotate 0\n",
        "/Contents 9 0 R\n",
        ">>\n",
        "endobj\n",
        "\n",
        "5 0 obj\n",
        "<< /Type /Font\n",
        "/Subtype /Type1\n",
        "/BaseFont /Helvetica\n",
        "/FontDescriptor 10 0 R\n",
        ">>\n",
        "endobj\n",
        "\n",
        "6 0 obj\n",
        "<< /Length 175 >>\n",
        "stream\n",
        "BT\n",
        "/F1 24 Tf\n",
        "100 700 Td\n",
        "(Relatório Financeiro: Primeiro Trimestre) Tj\n",
        "/F1 12 Tf\n",
        "0 -50 Td\n",
        "(Total de vendas: 1423 unidades) Tj\n",
        "0 -20 Td\n",
        "(Receita total: 158432.75 reais) Tj\n",
        "ET\n",
        "endstream\n",
        "endobj\n",
        "\n",
        "7 0 obj\n",
        "<< /Title (Relatório Financeiro Trimestral)\n",
        "/Author (Departamento Financeiro)\n",
        "/CreationDate (D:20230418090000)\n",
        "/Keywords (finanças, relatório, trimestral)\n",
        "/Version 1.2\n",
        "/PageCount 2\n",
        ">>\n",
        "endobj\n",
        "\n",
        "8 0 obj\n",
        "<< /Type /Outlines\n",
        "/Count 3\n",
        "/First 11 0 R\n",
        "/Last 13 0 R\n",
        ">>\n",
        "endobj\n",
        "\n",
        "9 0 obj\n",
        "<< /Length 322 >>\n",
        "stream\n",
        "BT\n",
        "/F1 18 Tf\n",
        "100 700 Td\n",
        "(Detalhamento por Categoria) Tj\n",
        "/F1 12 Tf\n",
        "0 -40 Td\n",
        "(Produto A: 523 unidades, valor unitário 89.99, total 47054.77) Tj\n",
        "0 -20 Td\n",
        "(Produto B: 347 unidades, valor unitário 125.50, total 43548.50) Tj\n",
        "0 -20 Td\n",
        "(Produto C: 553 unidades, valor unitário 122.65, total 67825.45) Tj\n",
        "0 -40 Td\n",
        "(Média de vendas por produto: 474.33 unidades) Tj\n",
        "ET\n",
        "endstream\n",
        "endobj\n",
        "\n",
        "10 0 obj\n",
        "<< /Type /FontDescriptor\n",
        "/FontName /Helvetica\n",
        "/Flags 32\n",
        "/FontBBox [-166 -225 1000 931]\n",
        "/ItalicAngle 0\n",
        "/Ascent 718\n",
        "/Descent -207\n",
        "/CapHeight 718\n",
        "/StemV 88\n",
        "/MissingWidth 278\n",
        ">>\n",
        "endobj\n",
        "\n",
        "11 0 obj\n",
        "<< /Title (Resumo Executivo)\n",
        "/Parent 8 0 R\n",
        "/Next 12 0 R\n",
        "/Dest [3 0 R /FitH 792.0]\n",
        ">>\n",
        "endobj\n",
        "\n",
        "12 0 obj\n",
        "<< /Title (Detalhamento de Vendas)\n",
        "/Parent 8 0 R\n",
        "/Prev 11 0 R\n",
        "/Next 13 0 R\n",
        "/Dest [4 0 R /FitH 792.0]\n",
        ">>\n",
        "endobj\n",
        "\n",
        "13 0 obj\n",
        "<< /Title (Projeções Futuras)\n",
        "/Parent 8 0 R\n",
        "/Prev 12 0 R\n",
        "/Dest [4 0 R /XYZ 100 450 1.25]\n",
        ">>\n",
        "endobj\n",
        "\n",
        "14 0 obj\n",
        "<< /Type /Metadata\n",
        "/Subtype /XML\n",
        "/Length 340\n",
        ">>\n",
        "stream\n",
        "<?xpacket begin='' id='W5M0MpCehiHzreSzNTczkc9d'?>\n",
        "<x:xmpmeta xmlns:x='adobe:ns:meta/'>\n",
        "<rdf:RDF xmlns:rdf='http://www.w3.org/1999/02/22-rdf-syntax-ns#'>\n",
        "<rdf:Description rdf:about=''\n",
        "xmlns:pdf='http://ns.adobe.com/pdf/1.3/'>\n",
        "<pdf:Producer>SimplePDF Generator 1.0</pdf:Producer>\n",
        "</rdf:Description>\n",
        "</rdf:RDF>\n",
        "</x:xmpmeta>\n",
        "<?xpacket end='w'?>\n",
        "endstream\n",
        "endobj\n",
        "\n",
        "xref\n",
        "0 15\n",
        "0000000000 65535 f\n",
        "0000000010 00000 n\n",
        "0000000099 00000 n\n",
        "0000000163 00000 n\n",
        "0000000344 00000 n\n",
        "0000000525 00000 n\n",
        "0000000624 00000 n\n",
        "0000000852 00000 n\n",
        "0000001048 00000 n\n",
        "0000001126 00000 n\n",
        "0000001500 00000 n\n",
        "0000001712 00000 n\n",
        "0000001818 00000 n\n",
        "0000001940 00000 n\n",
        "0000002052 00000 n\n",
        "\n",
        "trailer\n",
        "<< /Size 15\n",
        "/Root 1 0 R\n",
        "/Info 7 0 R\n",
        ">>\n",
        "startxref\n",
        "2500\n",
        "\n",
        "%%EOF\n",
        "```"
      ],
      "metadata": {
        "id": "pcr-tsCzviV-"
      }
    },
    {
      "cell_type": "markdown",
      "source": [
        "## Dicas"
      ],
      "metadata": {
        "id": "3qBC16B1E_2L"
      }
    },
    {
      "cell_type": "markdown",
      "source": [
        "1. **Comece simples**: Crie primeiro documentos com poucos objetos e estrutura simples.\n",
        "2. **Cálculo manual de offsets**: Para documentos simples, conte manualmente os bytes para cada\n",
        "posição. Lembre-se de que cada caractere (incluindo espaços e quebras de linha) conta como\n",
        "um byte.\n",
        "3. **Uso de ferramentas**:  \n",
        "  - Os alunos podem escrever um pequeno script auxiliar que conte o número de bytes\n",
        "até cada objeto\n",
        "  - Editores hexadecimais podem ser úteis para verificar posições\n",
        "4. **Construção gradual**:  \n",
        "  - Comece com o cabeçalho e objetos simples\n",
        "  - Adicione um marcador temporário para a tabela xref (ex: \"XREF_AQUI\")\n",
        "  - Conte a posição de cada objeto\n",
        "  - Substitua o marcador pela tabela xref real\n",
        "  - Adicione a seção trailer\n",
        "5. **Formato de quebra de linha**: Certifique-se de usar consistentemente o mesmo formato de\n",
        "quebra de linha (CRLF ou LF) ao contar bytes.\n",
        "6. **Verificação do documento**:  \n",
        "Após criar o documento, percorra-o byte a byte para verificar se os offsets na tabela xref apontam corretamente para o início de cada objeto"
      ],
      "metadata": {
        "id": "5IEesvWUFBFx"
      }
    },
    {
      "cell_type": "markdown",
      "source": [
        "**CASOS DE TESTE IMPORTANTES**\n",
        "\n",
        "Os alunos devem criar documentos de teste que cubram:\n",
        "1. **Estrutura básica**: Documento mínimo com catálogo e páginas\n",
        "2. **Reais vs. Inteiros**: Uso de números inteiros e de ponto flutuante\n",
        "3. **Tipos de dados**: Todas as variações (strings, nomes, arrays, dicionários)\n",
        "4. **Referências circulares**: Objetos que se referenciam mutuamente\n",
        "5. **Conteúdo de texto**: Objetos stream com comandos de texto\n",
        "6. **Estrutura hierárquica complexa**: Vários níveis de referência entre objetos\n",
        "7. **Metadados completos**: Informações detalhadas no objeto de metadados\n",
        "Criando arquivos de teste apropriados, os alunos poderão verificar se suas implementações lidam\n",
        "corretamente com todos os aspectos do formato SimplePDF, especialmente a interpretação da\n",
        "tabela xref, que é crucial para a navegação eficiente dentro do documento."
      ],
      "metadata": {
        "id": "JhkALO41FM0h"
      }
    },
    {
      "cell_type": "markdown",
      "source": [
        "# Código"
      ],
      "metadata": {
        "id": "SMMmOJslVCCc"
      }
    },
    {
      "cell_type": "code",
      "source": [
        "# Downloading pdfs and configs (at least 3 examples)\n",
        "!wget -nc https://raw.githubusercontent.com/JoaoVLima/ActualSimplePDFValidator/main/exemplos/exemplo3.pdf\n",
        "!wget -nc https://raw.githubusercontent.com/JoaoVLima/ActualSimplePDFValidator/main/exemplos/exemplosimples.py"
      ],
      "metadata": {
        "id": "lmQvjSH7VGHx",
        "colab": {
          "base_uri": "https://localhost:8080/"
        },
        "outputId": "0047713a-b901-42c5-e59a-fd7da5675f99"
      },
      "execution_count": 2,
      "outputs": [
        {
          "output_type": "stream",
          "name": "stdout",
          "text": [
            "--2025-03-13 16:59:46--  https://raw.githubusercontent.com/JoaoVLima/ActualSimplePDFValidator/main/exemplos/exemplo3.pdf\n",
            "Resolving raw.githubusercontent.com (raw.githubusercontent.com)... 185.199.108.133, 185.199.109.133, 185.199.110.133, ...\n",
            "Connecting to raw.githubusercontent.com (raw.githubusercontent.com)|185.199.108.133|:443... connected.\n",
            "HTTP request sent, awaiting response... 200 OK\n",
            "Length: 604 [text/plain]\n",
            "Saving to: ‘exemplo3.pdf’\n",
            "\n",
            "exemplo3.pdf        100%[===================>]     604  --.-KB/s    in 0s      \n",
            "\n",
            "2025-03-13 16:59:47 (26.4 MB/s) - ‘exemplo3.pdf’ saved [604/604]\n",
            "\n",
            "--2025-03-13 16:59:47--  https://raw.githubusercontent.com/JoaoVLima/ActualSimplePDFValidator/main/exemplos/exemplosimples.py\n",
            "Resolving raw.githubusercontent.com (raw.githubusercontent.com)... 185.199.110.133, 185.199.109.133, 185.199.108.133, ...\n",
            "Connecting to raw.githubusercontent.com (raw.githubusercontent.com)|185.199.110.133|:443... connected.\n",
            "HTTP request sent, awaiting response... 200 OK\n",
            "Length: 568 [text/plain]\n",
            "Saving to: ‘exemplosimples.py’\n",
            "\n",
            "exemplosimples.py   100%[===================>]     568  --.-KB/s    in 0s      \n",
            "\n",
            "2025-03-13 16:59:47 (40.0 MB/s) - ‘exemplosimples.py’ saved [568/568]\n",
            "\n"
          ]
        }
      ]
    },
    {
      "cell_type": "markdown",
      "source": [
        "**Config**"
      ],
      "metadata": {
        "id": "zLK8J7jqJrK_"
      }
    },
    {
      "cell_type": "code",
      "source": [
        "extrair_texto=None\n",
        "gerar_sumario=None\n",
        "detectar_ciclos=None\n",
        "nivel_detalhe=None\n",
        "validar_xref=None"
      ],
      "metadata": {
        "id": "ZEGMtJoTKwmi"
      },
      "execution_count": 3,
      "outputs": []
    },
    {
      "cell_type": "code",
      "source": [
        "from exemplosimples import *"
      ],
      "metadata": {
        "id": "lXNcLmYSHPF5"
      },
      "execution_count": 4,
      "outputs": []
    },
    {
      "cell_type": "code",
      "source": [
        "print(extrair_texto,\n",
        "      gerar_sumario,\n",
        "      detectar_ciclos,\n",
        "      nivel_detalhe,\n",
        "      validar_xref)"
      ],
      "metadata": {
        "colab": {
          "base_uri": "https://localhost:8080/"
        },
        "id": "fyuNzw6hJ8Uh",
        "outputId": "7e7359c2-9630-4b88-eebe-9ba7f625b915"
      },
      "execution_count": 5,
      "outputs": [
        {
          "output_type": "stream",
          "name": "stdout",
          "text": [
            "True True True Completo True\n"
          ]
        }
      ]
    },
    {
      "cell_type": "markdown",
      "source": [
        "**Read File**"
      ],
      "metadata": {
        "id": "l5q1TIM7LH54"
      }
    },
    {
      "cell_type": "code",
      "source": [
        "def read_pdf(file_path):\n",
        "    with open(file_path, \"r\", encoding=\"utf-8\") as file:\n",
        "        text = file.read()\n",
        "    return text"
      ],
      "metadata": {
        "id": "5SvAdRxkKVjf"
      },
      "execution_count": 6,
      "outputs": []
    },
    {
      "cell_type": "code",
      "source": [
        "FILE = read_pdf('exemplo3.pdf')"
      ],
      "metadata": {
        "id": "IETV-dDdMpqX"
      },
      "execution_count": 7,
      "outputs": []
    },
    {
      "cell_type": "code",
      "source": [
        "FILE"
      ],
      "metadata": {
        "colab": {
          "base_uri": "https://localhost:8080/",
          "height": 105
        },
        "id": "aEN6zXJF0Clq",
        "outputId": "ed588d0c-006e-4686-df77-f8810b6649d4"
      },
      "execution_count": 8,
      "outputs": [
        {
          "output_type": "execute_result",
          "data": {
            "text/plain": [
              "'%SPDF-1.0\\n1 0 obj\\n<<\\n/Type /Catalog\\n/Pages 3 0 R\\n/Outlines 2 0 R\\n>>\\nendobj\\n2 0 obj\\n<<\\n/Type /Outlines\\n/Count 0\\n>>\\nendobj\\n3 0 obj\\n<<\\n/Type /Pages\\n/Count 1\\n/Kids [ 4 0 R ]\\n>>\\nendobj\\n4 0 obj\\n<<\\n/Type /Page\\n/Parent 3 0 R\\n/Resources << /ProcSet 6 0 R >>\\n/MediaBox [ 0 0 612 792 ]\\n/Contents 5 0 R\\n>>\\nendobj\\n5 0 obj\\n<<\\n/Length 35\\n>>\\nstream\\n%place page marking operators here\\nendstream\\nendobj\\n6 0 obj\\n[ /PDF ]\\nendobj\\nxref\\n0 7\\n0000000000 65535 f\\n0000000010 00000 n\\n0000000075 00000 n\\n0000000121 00000 n\\n0000000180 00000 n\\n0000000301 00000 n\\n0000000385 00000 n\\ntrailer\\n<<\\n/Size 7\\n/Root 1 0 R\\n>>\\nstartxref\\n409\\n%%EOF'"
            ],
            "application/vnd.google.colaboratory.intrinsic+json": {
              "type": "string"
            }
          },
          "metadata": {},
          "execution_count": 8
        }
      ]
    },
    {
      "cell_type": "code",
      "source": [
        "FILE_SIZE = len(FILE)\n",
        "FILE_SIZE"
      ],
      "metadata": {
        "colab": {
          "base_uri": "https://localhost:8080/"
        },
        "id": "8nzPAER1UC6B",
        "outputId": "3ed0da98-1fd5-45ef-fdf2-cf663fd53f4a"
      },
      "execution_count": 9,
      "outputs": [
        {
          "output_type": "execute_result",
          "data": {
            "text/plain": [
              "604"
            ]
          },
          "metadata": {},
          "execution_count": 9
        }
      ]
    },
    {
      "cell_type": "code",
      "source": [
        "FILE = FILE.split('\\n') # \\n counts as 1"
      ],
      "metadata": {
        "id": "7fPt7E8aNM7I"
      },
      "execution_count": 10,
      "outputs": []
    },
    {
      "cell_type": "code",
      "source": [
        "FILE[0:10]"
      ],
      "metadata": {
        "colab": {
          "base_uri": "https://localhost:8080/"
        },
        "id": "kh8pJWQkNV8J",
        "outputId": "a2fa7fee-5200-44e7-d6fe-b635658c23f0"
      },
      "execution_count": 11,
      "outputs": [
        {
          "output_type": "execute_result",
          "data": {
            "text/plain": [
              "['%SPDF-1.0',\n",
              " '1 0 obj',\n",
              " '<<',\n",
              " '/Type /Catalog',\n",
              " '/Pages 3 0 R',\n",
              " '/Outlines 2 0 R',\n",
              " '>>',\n",
              " 'endobj',\n",
              " '2 0 obj',\n",
              " '<<']"
            ]
          },
          "metadata": {},
          "execution_count": 11
        }
      ]
    },
    {
      "cell_type": "code",
      "source": [
        "FILE[-20:]"
      ],
      "metadata": {
        "colab": {
          "base_uri": "https://localhost:8080/"
        },
        "id": "FIqnQ89H4UF3",
        "outputId": "52309849-a8d4-491a-aed1-a3fb8b40d850"
      },
      "execution_count": 12,
      "outputs": [
        {
          "output_type": "execute_result",
          "data": {
            "text/plain": [
              "['6 0 obj',\n",
              " '[ /PDF ]',\n",
              " 'endobj',\n",
              " 'xref',\n",
              " '0 7',\n",
              " '0000000000 65535 f',\n",
              " '0000000010 00000 n',\n",
              " '0000000075 00000 n',\n",
              " '0000000121 00000 n',\n",
              " '0000000180 00000 n',\n",
              " '0000000301 00000 n',\n",
              " '0000000385 00000 n',\n",
              " 'trailer',\n",
              " '<<',\n",
              " '/Size 7',\n",
              " '/Root 1 0 R',\n",
              " '>>',\n",
              " 'startxref',\n",
              " '409',\n",
              " '%%EOF']"
            ]
          },
          "metadata": {},
          "execution_count": 12
        }
      ]
    },
    {
      "cell_type": "code",
      "source": [
        "LINE_SIZE = [len(line)+1 for line in FILE]\n",
        "LINE_SIZE[:10]"
      ],
      "metadata": {
        "colab": {
          "base_uri": "https://localhost:8080/"
        },
        "id": "9zHQsSG4UHzq",
        "outputId": "e73afe42-ac9b-4d6b-8e44-639487fd1c58"
      },
      "execution_count": 13,
      "outputs": [
        {
          "output_type": "execute_result",
          "data": {
            "text/plain": [
              "[10, 8, 3, 15, 13, 16, 3, 7, 8, 3]"
            ]
          },
          "metadata": {},
          "execution_count": 13
        }
      ]
    },
    {
      "cell_type": "markdown",
      "source": [
        "**Get Comments (header and eof)**"
      ],
      "metadata": {
        "id": "0iQSquuDh8Z8"
      }
    },
    {
      "cell_type": "code",
      "source": [
        "def get_comment(line):\n",
        "    return line[line.index('%'):] if '%' in line else None"
      ],
      "metadata": {
        "id": "iDFC5CzOuRIH"
      },
      "execution_count": 14,
      "outputs": []
    },
    {
      "cell_type": "code",
      "source": [
        "def ignore_comment(line):\n",
        "    return line[:line.index('%')] if '%' in line else line"
      ],
      "metadata": {
        "id": "HkjUzX_Gt5_O"
      },
      "execution_count": 15,
      "outputs": []
    },
    {
      "cell_type": "code",
      "source": [
        "def get_comments(file):\n",
        "    comments = []\n",
        "    for line in file:\n",
        "        if '%' in line:\n",
        "            comments.append(get_comment(line))\n",
        "    return comments"
      ],
      "metadata": {
        "id": "OXoJlghzmrVq"
      },
      "execution_count": 16,
      "outputs": []
    },
    {
      "cell_type": "code",
      "source": [
        "COMMENTS = get_comments(FILE)\n",
        "COMMENTS[:10]"
      ],
      "metadata": {
        "colab": {
          "base_uri": "https://localhost:8080/"
        },
        "id": "Ch334V37Mtuv",
        "outputId": "e3245157-02bf-4c80-f773-574b7e950c7f"
      },
      "execution_count": 17,
      "outputs": [
        {
          "output_type": "execute_result",
          "data": {
            "text/plain": [
              "['%SPDF-1.0', '%place page marking operators here', '%%EOF']"
            ]
          },
          "metadata": {},
          "execution_count": 17
        }
      ]
    },
    {
      "cell_type": "code",
      "source": [
        "HEADER = COMMENTS.pop(0) # First line that starts with %\n",
        "HEADER"
      ],
      "metadata": {
        "colab": {
          "base_uri": "https://localhost:8080/",
          "height": 36
        },
        "id": "kq0fSWs8hT7_",
        "outputId": "0240782a-b751-4124-b1fc-a8dfac634656"
      },
      "execution_count": 18,
      "outputs": [
        {
          "output_type": "execute_result",
          "data": {
            "text/plain": [
              "'%SPDF-1.0'"
            ],
            "application/vnd.google.colaboratory.intrinsic+json": {
              "type": "string"
            }
          },
          "metadata": {},
          "execution_count": 18
        }
      ]
    },
    {
      "cell_type": "code",
      "source": [
        "EOF = COMMENTS.pop(-1) # Last line that starts with %\n",
        "EOF"
      ],
      "metadata": {
        "colab": {
          "base_uri": "https://localhost:8080/",
          "height": 36
        },
        "id": "xVpu7QJuhakJ",
        "outputId": "221bdd6b-4d44-4dc8-a789-caf02c7cf859"
      },
      "execution_count": 19,
      "outputs": [
        {
          "output_type": "execute_result",
          "data": {
            "text/plain": [
              "'%%EOF'"
            ],
            "application/vnd.google.colaboratory.intrinsic+json": {
              "type": "string"
            }
          },
          "metadata": {},
          "execution_count": 19
        }
      ]
    },
    {
      "cell_type": "code",
      "source": [
        "COMMENTS[:10]"
      ],
      "metadata": {
        "colab": {
          "base_uri": "https://localhost:8080/"
        },
        "id": "RBpBEJPehv20",
        "outputId": "28d24314-1155-4933-c48d-1a67357c17cb"
      },
      "execution_count": 20,
      "outputs": [
        {
          "output_type": "execute_result",
          "data": {
            "text/plain": [
              "['%place page marking operators here']"
            ]
          },
          "metadata": {},
          "execution_count": 20
        }
      ]
    },
    {
      "cell_type": "markdown",
      "source": [
        "**Check Header and Footer**"
      ],
      "metadata": {
        "id": "WxZvIAJogZq_"
      }
    },
    {
      "cell_type": "code",
      "source": [
        "def check_header(header):\n",
        "    return header.startswith('%SPDF-') or header.startswith('%PDF-')"
      ],
      "metadata": {
        "id": "adhdbKf2fWfx"
      },
      "execution_count": 21,
      "outputs": []
    },
    {
      "cell_type": "code",
      "source": [
        "check_header(HEADER)"
      ],
      "metadata": {
        "colab": {
          "base_uri": "https://localhost:8080/"
        },
        "id": "6c0Kjr97hNQ5",
        "outputId": "9df25119-bccc-4c9a-b3b6-7d7177d248f3"
      },
      "execution_count": 22,
      "outputs": [
        {
          "output_type": "execute_result",
          "data": {
            "text/plain": [
              "True"
            ]
          },
          "metadata": {},
          "execution_count": 22
        }
      ]
    },
    {
      "cell_type": "code",
      "source": [
        "def check_eof(eof):\n",
        "    return eof == '%%EOF'"
      ],
      "metadata": {
        "id": "z_yhZUrKhRK7"
      },
      "execution_count": 23,
      "outputs": []
    },
    {
      "cell_type": "code",
      "source": [
        "check_eof(EOF)"
      ],
      "metadata": {
        "colab": {
          "base_uri": "https://localhost:8080/"
        },
        "id": "MCMwhwTeiTUt",
        "outputId": "7e250a5c-403f-4b71-8087-804bb3504dd0"
      },
      "execution_count": 24,
      "outputs": [
        {
          "output_type": "execute_result",
          "data": {
            "text/plain": [
              "True"
            ]
          },
          "metadata": {},
          "execution_count": 24
        }
      ]
    },
    {
      "cell_type": "markdown",
      "source": [
        "**Remove Comments**"
      ],
      "metadata": {
        "id": "xB4RMF7I0eGC"
      }
    },
    {
      "cell_type": "code",
      "source": [
        "def remove_comments(file):\n",
        "    return [ignore_comment(line) for line in file]"
      ],
      "metadata": {
        "id": "CTt-IYtH0hpm"
      },
      "execution_count": 25,
      "outputs": []
    },
    {
      "cell_type": "code",
      "source": [
        "FILE = remove_comments(FILE)"
      ],
      "metadata": {
        "id": "LPIldTbh0mxA"
      },
      "execution_count": 26,
      "outputs": []
    },
    {
      "cell_type": "markdown",
      "source": [
        "**Remove Whitespace**"
      ],
      "metadata": {
        "id": "SnNsPiqj3tiC"
      }
    },
    {
      "cell_type": "code",
      "source": [
        "def remove_whitespace(file):\n",
        "    return [line.strip() for line in file]"
      ],
      "metadata": {
        "id": "ki-kT3tY3t5g"
      },
      "execution_count": 27,
      "outputs": []
    },
    {
      "cell_type": "code",
      "source": [
        "FILE = remove_whitespace(FILE)"
      ],
      "metadata": {
        "id": "wD1Voc2I32dl"
      },
      "execution_count": 28,
      "outputs": []
    },
    {
      "cell_type": "markdown",
      "source": [
        "**Get Objects**"
      ],
      "metadata": {
        "id": "O88plbw7lr49"
      }
    },
    {
      "cell_type": "code",
      "source": [
        "def object_dict(line_index=None, xref_address=None, obj_id=None, obj_gen=None, content=None):\n",
        "  return dict(\n",
        "      line_index=line_index,\n",
        "      xref_address=xref_address,\n",
        "      obj_id=obj_id,\n",
        "      obj_gen=obj_gen,\n",
        "      content=content\n",
        "  )"
      ],
      "metadata": {
        "id": "LIZXjc4WnLWs"
      },
      "execution_count": 29,
      "outputs": []
    },
    {
      "cell_type": "code",
      "source": [
        "def get_objects(file):\n",
        "    objects = []\n",
        "    object = {}\n",
        "    content = []\n",
        "    get_content = False\n",
        "\n",
        "    for i, line in enumerate(file):\n",
        "        line = ignore_comment(line)\n",
        "        parts = line.split()\n",
        "        if len(parts) == 3 and parts[2] == 'obj':  # line that starts an object\n",
        "            object = object_dict(i, sum(LINE_SIZE[0:i]), parts[0], parts[1])\n",
        "            content = []  # Reset content for new object\n",
        "            get_content = True\n",
        "        elif get_content:\n",
        "            if len(parts) == 1 and parts[0] == 'endobj':  # line that ends the object\n",
        "                object['content'] = content\n",
        "                objects.append(object)\n",
        "                object = {}\n",
        "                content = []\n",
        "                get_content = False\n",
        "            else:\n",
        "                content.append(line)\n",
        "\n",
        "    return objects"
      ],
      "metadata": {
        "id": "8m25-DWZiUy3"
      },
      "execution_count": 30,
      "outputs": []
    },
    {
      "cell_type": "code",
      "source": [
        "OBJECTS = get_objects(FILE)"
      ],
      "metadata": {
        "id": "EixfXCThTdCZ"
      },
      "execution_count": 31,
      "outputs": []
    },
    {
      "cell_type": "code",
      "source": [
        "OBJECTS[0:5]"
      ],
      "metadata": {
        "colab": {
          "base_uri": "https://localhost:8080/"
        },
        "id": "wrr6WUTp31y1",
        "outputId": "1f979498-05f2-40f2-a44e-ab453fbc03e4"
      },
      "execution_count": 32,
      "outputs": [
        {
          "output_type": "execute_result",
          "data": {
            "text/plain": [
              "[{'line_index': 1,\n",
              "  'xref_address': 10,\n",
              "  'obj_id': '1',\n",
              "  'obj_gen': '0',\n",
              "  'content': ['<<',\n",
              "   '/Type /Catalog',\n",
              "   '/Pages 3 0 R',\n",
              "   '/Outlines 2 0 R',\n",
              "   '>>']},\n",
              " {'line_index': 8,\n",
              "  'xref_address': 75,\n",
              "  'obj_id': '2',\n",
              "  'obj_gen': '0',\n",
              "  'content': ['<<', '/Type /Outlines', '/Count 0', '>>']},\n",
              " {'line_index': 14,\n",
              "  'xref_address': 121,\n",
              "  'obj_id': '3',\n",
              "  'obj_gen': '0',\n",
              "  'content': ['<<', '/Type /Pages', '/Count 1', '/Kids [ 4 0 R ]', '>>']},\n",
              " {'line_index': 21,\n",
              "  'xref_address': 180,\n",
              "  'obj_id': '4',\n",
              "  'obj_gen': '0',\n",
              "  'content': ['<<',\n",
              "   '/Type /Page',\n",
              "   '/Parent 3 0 R',\n",
              "   '/Resources << /ProcSet 6 0 R >>',\n",
              "   '/MediaBox [ 0 0 612 792 ]',\n",
              "   '/Contents 5 0 R',\n",
              "   '>>']},\n",
              " {'line_index': 30,\n",
              "  'xref_address': 301,\n",
              "  'obj_id': '5',\n",
              "  'obj_gen': '0',\n",
              "  'content': ['<<', '/Length 35', '>>', 'stream', '', 'endstream']}]"
            ]
          },
          "metadata": {},
          "execution_count": 32
        }
      ]
    },
    {
      "cell_type": "code",
      "source": [
        "def content_dict(content):\n",
        "    dictionary = {}\n",
        "    for line in content:\n",
        "        parts = line.split()\n",
        "        if '<<' in parts:\n",
        "            parts.remove('<<')\n",
        "        if '>>' in parts:\n",
        "            parts.remove('>>')\n",
        "        if len(parts) < 2:\n",
        "            continue\n",
        "        key = parts[0]\n",
        "        value = parts[1:]\n",
        "        dictionary[key] = value\n",
        "    return dictionary"
      ],
      "metadata": {
        "id": "_DkVBXUNfUK4"
      },
      "execution_count": 33,
      "outputs": []
    },
    {
      "cell_type": "code",
      "source": [
        "for obj in OBJECTS:\n",
        "    obj['content'] = content_dict(obj['content'])"
      ],
      "metadata": {
        "id": "AZm-b-5xhaBL"
      },
      "execution_count": 34,
      "outputs": []
    },
    {
      "cell_type": "code",
      "source": [
        "OBJECTS[0:5]"
      ],
      "metadata": {
        "colab": {
          "base_uri": "https://localhost:8080/"
        },
        "id": "rc1L6-2i2QLl",
        "outputId": "80670410-428a-4d49-d4fe-5340dab741b7"
      },
      "execution_count": 35,
      "outputs": [
        {
          "output_type": "execute_result",
          "data": {
            "text/plain": [
              "[{'line_index': 1,\n",
              "  'xref_address': 10,\n",
              "  'obj_id': '1',\n",
              "  'obj_gen': '0',\n",
              "  'content': {'/Type': ['/Catalog'],\n",
              "   '/Pages': ['3', '0', 'R'],\n",
              "   '/Outlines': ['2', '0', 'R']}},\n",
              " {'line_index': 8,\n",
              "  'xref_address': 75,\n",
              "  'obj_id': '2',\n",
              "  'obj_gen': '0',\n",
              "  'content': {'/Type': ['/Outlines'], '/Count': ['0']}},\n",
              " {'line_index': 14,\n",
              "  'xref_address': 121,\n",
              "  'obj_id': '3',\n",
              "  'obj_gen': '0',\n",
              "  'content': {'/Type': ['/Pages'],\n",
              "   '/Count': ['1'],\n",
              "   '/Kids': ['[', '4', '0', 'R', ']']}},\n",
              " {'line_index': 21,\n",
              "  'xref_address': 180,\n",
              "  'obj_id': '4',\n",
              "  'obj_gen': '0',\n",
              "  'content': {'/Type': ['/Page'],\n",
              "   '/Parent': ['3', '0', 'R'],\n",
              "   '/Resources': ['/ProcSet', '6', '0', 'R'],\n",
              "   '/MediaBox': ['[', '0', '0', '612', '792', ']'],\n",
              "   '/Contents': ['5', '0', 'R']}},\n",
              " {'line_index': 30,\n",
              "  'xref_address': 301,\n",
              "  'obj_id': '5',\n",
              "  'obj_gen': '0',\n",
              "  'content': {'/Length': ['35']}}]"
            ]
          },
          "metadata": {},
          "execution_count": 35
        }
      ]
    },
    {
      "cell_type": "markdown",
      "source": [
        "**Get xref**"
      ],
      "metadata": {
        "id": "jlkhDctP4a40"
      }
    },
    {
      "cell_type": "code",
      "source": [
        "def get_xref_address(file):\n",
        "    for i, line in enumerate(file):\n",
        "        if line == 'xref':\n",
        "            return sum(LINE_SIZE[0:i])\n",
        "    return -1"
      ],
      "metadata": {
        "id": "qR04l98N3Dzp"
      },
      "execution_count": 36,
      "outputs": []
    },
    {
      "cell_type": "code",
      "source": [
        "XREF_ADDRESS = get_xref_address(FILE)\n",
        "XREF_ADDRESS"
      ],
      "metadata": {
        "colab": {
          "base_uri": "https://localhost:8080/"
        },
        "id": "0lDEoZgp4qLZ",
        "outputId": "146a11ba-bacc-4493-d720-df9926e4de99"
      },
      "execution_count": 37,
      "outputs": [
        {
          "output_type": "execute_result",
          "data": {
            "text/plain": [
              "409"
            ]
          },
          "metadata": {},
          "execution_count": 37
        }
      ]
    },
    {
      "cell_type": "code",
      "source": [
        "def get_xref_line(file):\n",
        "    for i, line in enumerate(file):\n",
        "        if line == 'xref':\n",
        "            return i\n",
        "    return -1"
      ],
      "metadata": {
        "id": "zLobsn3f5kDv"
      },
      "execution_count": 38,
      "outputs": []
    },
    {
      "cell_type": "code",
      "source": [
        "XREF_LINE = get_xref_line(FILE)\n",
        "XREF_LINE"
      ],
      "metadata": {
        "colab": {
          "base_uri": "https://localhost:8080/"
        },
        "id": "pNbCL6lU5erq",
        "outputId": "490d9dfd-2b70-484a-d6b1-a3e621691c8d"
      },
      "execution_count": 39,
      "outputs": [
        {
          "output_type": "execute_result",
          "data": {
            "text/plain": [
              "41"
            ]
          },
          "metadata": {},
          "execution_count": 39
        }
      ]
    },
    {
      "cell_type": "markdown",
      "source": [
        "**Check xref**"
      ],
      "metadata": {
        "id": "MdJU1eIV5QrM"
      }
    },
    {
      "cell_type": "code",
      "source": [
        "def check_xref_address(file):\n",
        "    for i, line in enumerate(file):\n",
        "        if line == 'startxref':\n",
        "            return int(file[i+1]) == XREF_ADDRESS\n",
        "    return False"
      ],
      "metadata": {
        "id": "pgYG0T7V4Qg_"
      },
      "execution_count": 40,
      "outputs": []
    },
    {
      "cell_type": "code",
      "source": [
        "check_xref_address(FILE)"
      ],
      "metadata": {
        "colab": {
          "base_uri": "https://localhost:8080/"
        },
        "id": "7hRB51h75HS8",
        "outputId": "558c886e-26d3-4fb9-f863-2816262b48ba"
      },
      "execution_count": 41,
      "outputs": [
        {
          "output_type": "execute_result",
          "data": {
            "text/plain": [
              "True"
            ]
          },
          "metadata": {},
          "execution_count": 41
        }
      ]
    },
    {
      "cell_type": "code",
      "source": [
        "def check_xref(file):\n",
        "    if file[XREF_LINE+1].split()[1] != str(len(OBJECTS)+1):\n",
        "        return False\n",
        "\n",
        "    if file[XREF_LINE+2] != '0000000000 65535 f':\n",
        "        return False\n",
        "\n",
        "    for i, line in enumerate(file[XREF_LINE+3:]):\n",
        "        if line in ('',' ','trailer'):\n",
        "            break\n",
        "\n",
        "        parts = line.split()\n",
        "        if len(parts) != 3:\n",
        "            return False\n",
        "\n",
        "        if OBJECTS[i]['xref_address'] != int(parts[0]):\n",
        "            return False\n",
        "\n",
        "    return True"
      ],
      "metadata": {
        "id": "SmM8vwQA5ItS"
      },
      "execution_count": 42,
      "outputs": []
    },
    {
      "cell_type": "code",
      "source": [
        "check_xref(FILE)"
      ],
      "metadata": {
        "colab": {
          "base_uri": "https://localhost:8080/"
        },
        "id": "g35iHsMQ9zzh",
        "outputId": "f37289ef-1730-4859-ca68-5fcd98cd07e0"
      },
      "execution_count": 43,
      "outputs": [
        {
          "output_type": "execute_result",
          "data": {
            "text/plain": [
              "True"
            ]
          },
          "metadata": {},
          "execution_count": 43
        }
      ]
    },
    {
      "cell_type": "markdown",
      "source": [
        "**Get Trailer**"
      ],
      "metadata": {
        "id": "6zX_p2drAZIu"
      }
    },
    {
      "cell_type": "code",
      "source": [
        "def get_trailer_line(file):\n",
        "    trailer_index = -1\n",
        "    for i in range(len(file)-1,-1,-1):\n",
        "        if file[i] == 'trailer':\n",
        "            trailer_index = i\n",
        "            break\n",
        "\n",
        "    return trailer_index"
      ],
      "metadata": {
        "id": "rgzfycnS-p8Z"
      },
      "execution_count": 44,
      "outputs": []
    },
    {
      "cell_type": "code",
      "source": [
        "TRAILER_LINE = get_trailer_line(FILE)"
      ],
      "metadata": {
        "id": "SRG8WiYBB4mh"
      },
      "execution_count": 45,
      "outputs": []
    },
    {
      "cell_type": "markdown",
      "source": [
        "**Check Trailer**"
      ],
      "metadata": {
        "id": "XFNXnrK8CrUE"
      }
    },
    {
      "cell_type": "code",
      "source": [
        "def check_trailer(file):\n",
        "    trailer = file[TRAILER_LINE:]\n",
        "    print(trailer)"
      ],
      "metadata": {
        "id": "8s223M5LEmvR"
      },
      "execution_count": 46,
      "outputs": []
    },
    {
      "cell_type": "code",
      "source": [
        "check_trailer(FILE)"
      ],
      "metadata": {
        "colab": {
          "base_uri": "https://localhost:8080/"
        },
        "id": "tnEJmLt2Eqp4",
        "outputId": "0ff5c964-5a64-4d9a-e29c-1f3a3ba851a8"
      },
      "execution_count": 47,
      "outputs": [
        {
          "output_type": "stream",
          "name": "stdout",
          "text": [
            "['trailer', '<<', '/Size 7', '/Root 1 0 R', '>>', 'startxref', '409', '']\n"
          ]
        }
      ]
    },
    {
      "cell_type": "code",
      "source": [
        "def dict_trailer(file):\n",
        "    trailer = file[TRAILER_LINE:]\n",
        "    return content_dict(trailer[2:-3])"
      ],
      "metadata": {
        "id": "cM0OLERqCisQ"
      },
      "execution_count": 48,
      "outputs": []
    },
    {
      "cell_type": "code",
      "source": [
        "dict_trailer(FILE)"
      ],
      "metadata": {
        "colab": {
          "base_uri": "https://localhost:8080/"
        },
        "id": "J2rvBJFCDzjv",
        "outputId": "52fb9a12-4d49-4627-923c-e51c10c2dffe"
      },
      "execution_count": 49,
      "outputs": [
        {
          "output_type": "execute_result",
          "data": {
            "text/plain": [
              "{'/Size': ['7'], '/Root': ['1', '0', 'R']}"
            ]
          },
          "metadata": {},
          "execution_count": 49
        }
      ]
    },
    {
      "cell_type": "code",
      "source": [],
      "metadata": {
        "id": "g60qdKXvD0qb"
      },
      "execution_count": 49,
      "outputs": []
    },
    {
      "cell_type": "markdown",
      "source": [
        "## Codigo 2"
      ],
      "metadata": {
        "id": "7JA6t4rDckK3"
      }
    },
    {
      "cell_type": "code",
      "source": [
        "FILE = read_pdf('exemplo3.pdf')"
      ],
      "metadata": {
        "id": "pCI0jSLWcli5"
      },
      "execution_count": 335,
      "outputs": []
    },
    {
      "cell_type": "code",
      "source": [
        "FILE"
      ],
      "metadata": {
        "colab": {
          "base_uri": "https://localhost:8080/",
          "height": 105
        },
        "id": "hW_mtfxrcmAH",
        "outputId": "81097006-50ac-46ac-d8eb-11a61b30ea7b"
      },
      "execution_count": 336,
      "outputs": [
        {
          "output_type": "execute_result",
          "data": {
            "text/plain": [
              "'%SPDF-1.0\\n1 0 obj\\n<<\\n/Type /Catalog\\n/Pages 3 0 R\\n/Outlines 2 0 R\\n>>\\nendobj\\n2 0 obj\\n<<\\n/Type /Outlines\\n/Count 0\\n>>\\nendobj\\n3 0 obj\\n<<\\n/Type /Pages\\n/Count 1\\n/Kids [ 4 0 R ]\\n>>\\nendobj\\n4 0 obj\\n<<\\n/Type /Page\\n/Parent 3 0 R\\n/Resources << /ProcSet 6 0 R >>\\n/MediaBox [ 0 0 612 792 ]\\n/Contents 5 0 R\\n>>\\nendobj\\n5 0 obj\\n<<\\n/Length 35\\n>>\\nstream\\n%place page marking operators here\\nendstream\\nendobj\\n6 0 obj\\n[ /PDF ]\\nendobj\\nxref\\n0 7\\n0000000000 65535 f\\n0000000010 00000 n\\n0000000075 00000 n\\n0000000121 00000 n\\n0000000180 00000 n\\n0000000301 00000 n\\n0000000385 00000 n\\ntrailer\\n<<\\n/Size 7\\n/Root 1 0 R\\n>>\\nstartxref\\n409\\n%%EOF'"
            ],
            "application/vnd.google.colaboratory.intrinsic+json": {
              "type": "string"
            }
          },
          "metadata": {},
          "execution_count": 336
        }
      ]
    },
    {
      "cell_type": "code",
      "source": [
        "FILE_SIZE = len(FILE)\n",
        "FILE_SIZE"
      ],
      "metadata": {
        "colab": {
          "base_uri": "https://localhost:8080/"
        },
        "id": "Z4tNb1WGydgc",
        "outputId": "41e4ec02-212a-4a2e-b635-366a4133b147"
      },
      "execution_count": 337,
      "outputs": [
        {
          "output_type": "execute_result",
          "data": {
            "text/plain": [
              "604"
            ]
          },
          "metadata": {},
          "execution_count": 337
        }
      ]
    },
    {
      "cell_type": "code",
      "source": [
        "def check_header(file):\n",
        "    return file.startswith('%SPDF-') or file.startswith('%PDF-')"
      ],
      "metadata": {
        "id": "9GfYa08jd78c"
      },
      "execution_count": 338,
      "outputs": []
    },
    {
      "cell_type": "code",
      "source": [
        "check_header(FILE)"
      ],
      "metadata": {
        "colab": {
          "base_uri": "https://localhost:8080/"
        },
        "id": "0Eh-MPGIwy3J",
        "outputId": "5fdd7fa8-ff6a-4b1c-d6ef-201a8e646cf8"
      },
      "execution_count": 339,
      "outputs": [
        {
          "output_type": "execute_result",
          "data": {
            "text/plain": [
              "True"
            ]
          },
          "metadata": {},
          "execution_count": 339
        }
      ]
    },
    {
      "cell_type": "code",
      "source": [
        "def get_startbody(file):\n",
        "    for i in range(256):\n",
        "        if file[i] == '\\n': # get the second line\n",
        "            return i+1"
      ],
      "metadata": {
        "id": "ZSt4TdxbO_VT"
      },
      "execution_count": 340,
      "outputs": []
    },
    {
      "cell_type": "code",
      "source": [
        "STARTBODY = get_startbody(FILE)\n",
        "STARTBODY"
      ],
      "metadata": {
        "colab": {
          "base_uri": "https://localhost:8080/"
        },
        "id": "Jlq7pUrkPo2F",
        "outputId": "7ff90015-3baf-4c9b-ee5b-a8586c8d5cc9"
      },
      "execution_count": 341,
      "outputs": [
        {
          "output_type": "execute_result",
          "data": {
            "text/plain": [
              "10"
            ]
          },
          "metadata": {},
          "execution_count": 341
        }
      ]
    },
    {
      "cell_type": "code",
      "source": [
        "def check_eof(file):\n",
        "    return file.endswith('%%EOF')"
      ],
      "metadata": {
        "id": "8YGQNC33wz-a"
      },
      "execution_count": 342,
      "outputs": []
    },
    {
      "cell_type": "code",
      "source": [
        "check_eof(FILE)"
      ],
      "metadata": {
        "colab": {
          "base_uri": "https://localhost:8080/"
        },
        "id": "p8DtNhv3w60f",
        "outputId": "cc3ebb8a-9348-4e41-a068-fb659fb1c794"
      },
      "execution_count": 343,
      "outputs": [
        {
          "output_type": "execute_result",
          "data": {
            "text/plain": [
              "True"
            ]
          },
          "metadata": {},
          "execution_count": 343
        }
      ]
    },
    {
      "cell_type": "code",
      "source": [
        "def get_startxref(file):\n",
        "    end = FILE_SIZE-6 # ignoring this '\\n%%EOF'\n",
        "    for i in range(end-1,0,-1):\n",
        "        if file[i] == '\\n': # get only one line\n",
        "            return int(file[i+1:end])"
      ],
      "metadata": {
        "id": "6bPqiraSw8y1"
      },
      "execution_count": 344,
      "outputs": []
    },
    {
      "cell_type": "code",
      "source": [
        "STARTXREF = get_startxref(FILE)\n",
        "STARTXREF"
      ],
      "metadata": {
        "colab": {
          "base_uri": "https://localhost:8080/"
        },
        "id": "izSJAUQiywTU",
        "outputId": "75ddd549-f6fa-4805-95b8-ba1fd0e5b16e"
      },
      "execution_count": 345,
      "outputs": [
        {
          "output_type": "execute_result",
          "data": {
            "text/plain": [
              "409"
            ]
          },
          "metadata": {},
          "execution_count": 345
        }
      ]
    },
    {
      "cell_type": "code",
      "source": [
        "BODY = FILE[STARTBODY:STARTXREF]\n",
        "BODY"
      ],
      "metadata": {
        "colab": {
          "base_uri": "https://localhost:8080/",
          "height": 70
        },
        "id": "5lI1Y6bTP2Kh",
        "outputId": "d130db34-43f7-444c-d201-5ee40964b9a4"
      },
      "execution_count": 346,
      "outputs": [
        {
          "output_type": "execute_result",
          "data": {
            "text/plain": [
              "'1 0 obj\\n<<\\n/Type /Catalog\\n/Pages 3 0 R\\n/Outlines 2 0 R\\n>>\\nendobj\\n2 0 obj\\n<<\\n/Type /Outlines\\n/Count 0\\n>>\\nendobj\\n3 0 obj\\n<<\\n/Type /Pages\\n/Count 1\\n/Kids [ 4 0 R ]\\n>>\\nendobj\\n4 0 obj\\n<<\\n/Type /Page\\n/Parent 3 0 R\\n/Resources << /ProcSet 6 0 R >>\\n/MediaBox [ 0 0 612 792 ]\\n/Contents 5 0 R\\n>>\\nendobj\\n5 0 obj\\n<<\\n/Length 35\\n>>\\nstream\\n%place page marking operators here\\nendstream\\nendobj\\n6 0 obj\\n[ /PDF ]\\nendobj\\n'"
            ],
            "application/vnd.google.colaboratory.intrinsic+json": {
              "type": "string"
            }
          },
          "metadata": {},
          "execution_count": 346
        }
      ]
    },
    {
      "cell_type": "code",
      "source": [
        "STARTXREF_KEYWORD_OFFSET = FILE_SIZE-6-len(str(STARTXREF))-10 # f'startxref\\n{xref_address}\\n%%EOF'"
      ],
      "metadata": {
        "id": "JxjFmr6aL8Sk"
      },
      "execution_count": 347,
      "outputs": []
    },
    {
      "cell_type": "code",
      "source": [
        "def get_starttrailer(file):\n",
        "    end = STARTXREF_KEYWORD_OFFSET # ignoring this f'startxref\\n{xref_address}\\n%%EOF'\n",
        "    for i in range(STARTXREF,end):\n",
        "        if file[i] == 't': # trailler\n",
        "            return i"
      ],
      "metadata": {
        "id": "eqxgjnjI3qzQ"
      },
      "execution_count": 348,
      "outputs": []
    },
    {
      "cell_type": "code",
      "source": [
        "STARTTRAILER = get_starttrailer(FILE)\n",
        "STARTTRAILER"
      ],
      "metadata": {
        "colab": {
          "base_uri": "https://localhost:8080/"
        },
        "id": "5JIpfIZaKrki",
        "outputId": "35520c0a-93ab-49de-bb46-361f9ebbf4df"
      },
      "execution_count": 349,
      "outputs": [
        {
          "output_type": "execute_result",
          "data": {
            "text/plain": [
              "551"
            ]
          },
          "metadata": {},
          "execution_count": 349
        }
      ]
    },
    {
      "cell_type": "code",
      "source": [
        "XREF = FILE[STARTXREF:STARTTRAILER]\n",
        "XREF"
      ],
      "metadata": {
        "colab": {
          "base_uri": "https://localhost:8080/",
          "height": 36
        },
        "id": "6sD5sfruK9tK",
        "outputId": "447019b7-2d27-4692-ea12-b05cf8e7fe84"
      },
      "execution_count": 350,
      "outputs": [
        {
          "output_type": "execute_result",
          "data": {
            "text/plain": [
              "'xref\\n0 7\\n0000000000 65535 f\\n0000000010 00000 n\\n0000000075 00000 n\\n0000000121 00000 n\\n0000000180 00000 n\\n0000000301 00000 n\\n0000000385 00000 n\\n'"
            ],
            "application/vnd.google.colaboratory.intrinsic+json": {
              "type": "string"
            }
          },
          "metadata": {},
          "execution_count": 350
        }
      ]
    },
    {
      "cell_type": "code",
      "source": [
        "# Trailler is  'trailer << <trailer key–value pair>+ >> startxref <cross-reference table start address> %%EOF'\n",
        "# but in only considering 'trailer << <trailer key–value pair>+ >> '\n",
        "TRAILER = FILE[STARTTRAILER:STARTXREF_KEYWORD_OFFSET]\n",
        "TRAILER"
      ],
      "metadata": {
        "colab": {
          "base_uri": "https://localhost:8080/",
          "height": 36
        },
        "id": "t-cOW02cGwLR",
        "outputId": "4972c8de-5a46-4255-f5a2-c66da7f8ae5b"
      },
      "execution_count": 351,
      "outputs": [
        {
          "output_type": "execute_result",
          "data": {
            "text/plain": [
              "'trailer\\n<<\\n/Size 7\\n/Root 1 0 R\\n>>\\n'"
            ],
            "application/vnd.google.colaboratory.intrinsic+json": {
              "type": "string"
            }
          },
          "metadata": {},
          "execution_count": 351
        }
      ]
    },
    {
      "cell_type": "code",
      "source": [
        "def parse_trailer_dict(dict_str):\n",
        "    tokens = dict_str.split()\n",
        "    return tokens"
      ],
      "metadata": {
        "id": "wyX6cW8iLyf6"
      },
      "execution_count": 352,
      "outputs": []
    },
    {
      "cell_type": "code",
      "source": [
        "parse_trailer_dict(TRAILER) # ignoring 'trailer\\n'"
      ],
      "metadata": {
        "colab": {
          "base_uri": "https://localhost:8080/"
        },
        "id": "bY_aRNIxRt6p",
        "outputId": "be0c26d3-56a0-4a31-b548-322a3205ef30"
      },
      "execution_count": 353,
      "outputs": [
        {
          "output_type": "execute_result",
          "data": {
            "text/plain": [
              "['trailer', '<<', '/Size', '7', '/Root', '1', '0', 'R', '>>']"
            ]
          },
          "metadata": {},
          "execution_count": 353
        }
      ]
    },
    {
      "cell_type": "code",
      "source": [],
      "metadata": {
        "id": "Pfi-TlZhSIaQ"
      },
      "execution_count": 353,
      "outputs": []
    }
  ]
}