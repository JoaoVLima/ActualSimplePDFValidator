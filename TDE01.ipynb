{
  "nbformat": 4,
  "nbformat_minor": 0,
  "metadata": {
    "colab": {
      "provenance": [],
      "collapsed_sections": [
        "xZBB2LZw1pG0",
        "7vZvBgb01sqv"
      ],
      "authorship_tag": "ABX9TyOAbt0mNid34A9O37mr+oEs",
      "include_colab_link": true
    },
    "kernelspec": {
      "name": "python3",
      "display_name": "Python 3"
    },
    "language_info": {
      "name": "python"
    }
  },
  "cells": [
    {
      "cell_type": "markdown",
      "metadata": {
        "id": "view-in-github",
        "colab_type": "text"
      },
      "source": [
        "<a href=\"https://colab.research.google.com/github/JoaoVLima/ActualSimplePDFValidator/blob/main/TDE01.ipynb\" target=\"_parent\"><img src=\"https://colab.research.google.com/assets/colab-badge.svg\" alt=\"Open In Colab\"/></a>"
      ]
    },
    {
      "cell_type": "markdown",
      "source": [
        "# PUCPR\n",
        "## **João Victor de Lima**\n",
        "### TDE01 - Construção de Interpretadores\n",
        "**Desenvolver um programa que analise documentos no\n",
        "formato simplepdf**, uma versão textual simplificada inspirada na estrutura interna de arquivos pdf.\n",
        "O programa deverá **processar documentos simplepdf**, **validar sua estrutura segundo as regras formais da linguagem que aqui será definida**, **gerar estatísticas** e **transformações do conteúdo**.\n",
        "\n",
        "[adobe pdf docs (for reference)](https://opensource.adobe.com/dc-acrobat-sdk-docs/pdfstandards/pdfreference1.0.pdf)"
      ],
      "metadata": {
        "id": "UjW58x5wm23l"
      }
    },
    {
      "cell_type": "markdown",
      "source": [
        "# Explicação"
      ],
      "metadata": {
        "id": "UzsHdyhkU-ZI"
      }
    },
    {
      "cell_type": "markdown",
      "source": [
        "## Formato SimplePDF"
      ],
      "metadata": {
        "id": "LjTnt8hlVBs_"
      }
    },
    {
      "cell_type": "markdown",
      "source": [
        "O SimplePDF é combosto por:"
      ],
      "metadata": {
        "id": "9GYP-CAJVYjW"
      }
    },
    {
      "cell_type": "markdown",
      "source": [
        "1. **Cabeçalho**: Todo documento começa com uma linha de cabeçalho\n",
        "```\n",
        "%SPDF-1.0\n",
        "```"
      ],
      "metadata": {
        "id": "_BvhS5tmV8Kj"
      }
    },
    {
      "cell_type": "markdown",
      "source": [
        "2. **Objetos**: O documento consiste em objetos numerados no formato\n",
        "```\n",
        "obj_id obj_gen obj\n",
        "<< conteudo >>\n",
        "endobj\n",
        "```\n",
        "No qual:\n",
        "  - **obj_id** é um número inteiro único que identifica o objeto\n",
        "  - **obj_gen** é um número de geração\n",
        "(normalmente 0)"
      ],
      "metadata": {
        "id": "SgOQCYkhWXXj"
      }
    },
    {
      "cell_type": "markdown",
      "source": [
        "3. **Tipos de dados básicos**:\n",
        "  - **Números**: inteiros (123) ou decimais (123.45)\n",
        "  - **Strings**: delimitadas por parênteses: (Este é um texto)\n",
        "  - **Nomes**: começam com /: /Nome\n",
        "  - **Booleanos**: true ou false\n",
        "  - **Null**: null\n",
        "  - **Referências**: indicam referência a outro objeto: obj_id obj_gen R"
      ],
      "metadata": {
        "id": "lK7tTJZjWF1-"
      }
    },
    {
      "cell_type": "markdown",
      "source": [
        "4. **Estruturas de dados**:\n",
        "  - **Dicionários**: pares chave/valor no formato: /Chave valor\n",
        "  - **Arrays**: sequências de valores delimitadas por [ e ]\n",
        "  - **Streams**: Blocos de dados entre stream e endstream"
      ],
      "metadata": {
        "id": "bbE7GEeSV8IO"
      }
    },
    {
      "cell_type": "markdown",
      "source": [
        "5. **Estrutura hierárquica**:\n",
        "  - **Objeto catálogo (root)**: Define a estrutura do documento\n",
        "  - **Objeto de páginas**: Mantém lista de páginas\n",
        "  - **Objetos de página**: Contêm conteúdo e propriedades de cada página\n",
        "  - **Objetos de conteúdo**: Contêm texto e elementos gráficos\n"
      ],
      "metadata": {
        "id": "Od9zi2xoV8GD"
      }
    },
    {
      "cell_type": "markdown",
      "source": [
        "6. **Comentários**:\n",
        "  Linhas que começam com % (exceto o cabeçalho) são comentários"
      ],
      "metadata": {
        "id": "U0e6BnhmV8EB"
      }
    },
    {
      "cell_type": "markdown",
      "source": [
        "7. **Cross-reference table (xref)**: Tabela que lista a posição de cada objeto no arquivo:\n",
        "```\n",
        "xref\n",
        "0 3\n",
        "0000000000 65535 f\n",
        "0000000010 00000 n\n",
        "0000000079 00000 n\n",
        "```\n",
        "\n",
        "  1. ESTRUTURA E PROPÓSITO DA TABELA XREF\n",
        "\n",
        "    A tabela xref contém a posição (offset em bytes) de cada objeto no arquivo. Sua estrutura consiste em:\n",
        "    1. A palavra-chave xref em uma linha sozinha\n",
        "    2. Uma linha com dois números: o primeiro objeto na seção e o número de entradas\n",
        "    3. Uma entrada para cada objeto, cada uma com exatamente 20 bytes:\n",
        "    - Offset de 10 dígitos (com zeros à esquerda)\n",
        "    - Um espaço\n",
        "    - Número de geração de 5 dígitos (geralmente 00000)\n",
        "    - Um espaço\n",
        "    - Um caractere 'n' (para objetos em uso) ou 'f' (para objetos livres)\n",
        "    - Um espaço e uma quebra de linha\n",
        "  2. Escreva o conteúdo do documento até antes da seção xref  \n",
        "  - Inclua o cabeçalho (%SPDF-1.0)\n",
        "  - Crie todos os objetos numerados\n",
        "  3. Anote a posição (offset) do início de cada objeto  \n",
        "  - A posição é o número de bytes desde o início do arquivo\n",
        "  - Para o objeto 0 (especial), sempre use offset 0, geração 65535 e flag 'f'\n",
        "  4. Crie a tabela xref usando os offsets anotados  \n",
        "  Comece com a linha \"xref\"\n",
        "  - Na próxima linha, coloque \"0 N\" onde N é o número total de objetos + 1 (inclui o objeto 0)\n",
        "  - Para cada objeto, adicione uma entrada de 20 bytes\n",
        "  5. Complete com a seção trailer  \n",
        "  - Adicione a palavra-chave \"trailer\" seguida pelo dicionário trailer\n",
        "  - Adicione \"startxref\" seguido pela posição da palavra-chave \"xref\"\n",
        "  - Termine com \"%%EOF\""
      ],
      "metadata": {
        "id": "jXs9_dJFV7xS"
      }
    },
    {
      "cell_type": "markdown",
      "source": [
        "8. **Trailer**: Informações finais do documento:\n",
        "```\n",
        "trailer\n",
        "<< /Size 3 /Root 1 0 R >>\n",
        "startxref\n",
        "183\n",
        "%%EOF\n",
        "```"
      ],
      "metadata": {
        "id": "0f6Bi8_AaYQj"
      }
    },
    {
      "cell_type": "markdown",
      "source": [
        "## Funcionalidades Requeridas do Programa"
      ],
      "metadata": {
        "id": "N-I1N91bbCzI"
      }
    },
    {
      "cell_type": "markdown",
      "source": [
        "O programa deve implementar as seguintes funcionalidades:"
      ],
      "metadata": {
        "id": "5S_oUJxFbHI_"
      }
    },
    {
      "cell_type": "markdown",
      "source": [
        "1. **Validação Estrutural**:\n",
        "  - Verificar se o cabeçalho SimplePDF está correto\n",
        "  - Validar a sintaxe de cada objeto e suas propriedades\n",
        "  - Verificar se todas as referências apontam para objetos existentes\n",
        "  - Validar a estrutura hierárquica (catálogo → páginas → página)\n",
        "  - Verificar consistência da tabela xref\n",
        "  - Validar o trailer"
      ],
      "metadata": {
        "id": "7ff44maOfPdw"
      }
    },
    {
      "cell_type": "markdown",
      "source": [
        "2. **Extração de Informações**:  \n",
        "  - Conteúdo textual de cada página\n",
        "  - Metadados do documento (título, autor, data)\n",
        "  - Estrutura de páginas (quantidade, tamanho)\n",
        "  - Fontes utilizadas\n",
        "  - Estatísticas de objetos por tipo"
      ],
      "metadata": {
        "id": "mAr7elPufw-y"
      }
    },
    {
      "cell_type": "markdown",
      "source": [
        "3. **Transformações**:\n",
        "  - Extração de todo texto para formato TXT;\n",
        "  - Geração de sumário baseado na estrutura\n",
        "  - Listagem hierárquica de objetos e suas dependências\n",
        "  - Conversão de coordenadas de texto para formato mais legível"
      ],
      "metadata": {
        "id": "VqK9ObMOfPYh"
      }
    },
    {
      "cell_type": "markdown",
      "source": [
        "4. **Análise Avançada**:\n",
        "  - Detecção de objetos não referenciados\n",
        "  - Identificação de ciclos de referência\n",
        "  - Análise de eficiência de armazenamento\n",
        "  - Sugestões de otimização da estrutura"
      ],
      "metadata": {
        "id": "_XqecdUffPV9"
      }
    },
    {
      "cell_type": "markdown",
      "source": [
        "5. **O programa deve ler dois arquivos**:\n",
        "  - O documento SimplePDF a ser analisado\n",
        "  - Um arquivo de configuração que define parâmetros de análise e transformação"
      ],
      "metadata": {
        "id": "KvJqLabnpaEa"
      }
    },
    {
      "cell_type": "markdown",
      "source": [
        "## Arquivo de Configuração"
      ],
      "metadata": {
        "id": "3k1_H3lAqXj5"
      }
    },
    {
      "cell_type": "markdown",
      "source": [
        "O arquivo sera disponibilizado com o mesmo nome do arquivo pdf, porem com o formato .py\n",
        "\n",
        "Teste01.pdf\n",
        "```\n",
        "%SPDF-1.0\n",
        "...\n",
        "```\n",
        "\n",
        "Teste01.py\n",
        "```\n",
        "extrair_texto=True\n",
        "gerar_sumario=True\n",
        "detectar_ciclos=True\n",
        "nivel_detalhe='Completo'\n",
        "validar_xref=True\n",
        "```\n",
        "\n",
        "Opções:\n",
        "- **extrair_texto** (bool): Habilita a extração de texto do documento.\n",
        "- **gerar_sumario** (bool): Gera um sumário do conteúdo do documento.\n",
        "- **detectar_ciclos** (bool): Detecta possíveis referências cíclicas no documento.\n",
        "- **nivel_detalhe** (str): Define o nível de detalhe da análise ('Completo', 'Basico', 'Nulo').\n",
        "- **validar_xref** (bool): Valida as referências cruzadas dentro do documento."
      ],
      "metadata": {
        "id": "H2Tmzv4yqfCK"
      }
    },
    {
      "cell_type": "markdown",
      "source": [
        "## Saída do Programa"
      ],
      "metadata": {
        "id": "fd5tVU1fg10F"
      }
    },
    {
      "cell_type": "markdown",
      "source": [
        "O programa deve gerar um relatório com as seguintes seções:\n",
        "```\n",
        "VALIDAÇÃO:\n",
        "[OK ou ERRO] Estrutura geral\n",
        "[OK ou ERRO] Sintaxe de objetos\n",
        "[OK ou ERRO] Referências\n",
        "[OK ou ERRO] Tabela xref\n",
        "[Detalhes de erros, se houver]\n",
        "\n",
        "ESTATÍSTICAS:\n",
        "Total de objetos: X\n",
        "Objetos por tipo: Catalog=1, Pages=1, Page=Y, Font=Z, ...\n",
        "Total de páginas: Y\n",
        "Tamanho do documento: W bytes\n",
        "Overhead estrutural: V bytes (P%)\n",
        "\n",
        "CONTEÚDO:\n",
        "Título: [título do documento]\n",
        "Autor: [autor do documento]\n",
        "Data de criação: [data]\n",
        "Texto extraído: [primeiros 200 caracteres...]\n",
        "\n",
        "ÁRVORE DE OBJETOS:\n",
        "1: Catalog\n",
        "  +- 2: Pages\n",
        "    +- 3: Page\n",
        "    +- 4: Font\n",
        "    +- 5: Contents (stream)\n",
        "6: Metadata\n",
        "\n",
        "ANÁLISE AVANÇADA:\n",
        "[Resultados de análises específicas definidas no arquivo de configuração]\n",
        "```"
      ],
      "metadata": {
        "id": "tr3bHgp7g49H"
      }
    },
    {
      "cell_type": "markdown",
      "source": [
        "## AS TRANSFORMAÇÕES ESPECIFICADAS"
      ],
      "metadata": {
        "id": "nHNkwk4-vMl-"
      }
    },
    {
      "cell_type": "markdown",
      "source": [
        "1. **Extração de texto para formato TXT**\n",
        "\n",
        " Esta transformação envolve **localizar e extrair todo o conteúdo textual do documento SimplePDF**, que está disperso em diferentes objetos de conteúdo dentro de streams e **convertê-lo para um arquivo de texto simples e contínuo**.\n",
        "\n",
        " Por exemplo: No **Exemplo 2**, o texto está dentro de **objetos stream** com comandos como **(Relatório Financeiro: Primeiro Trimestre) Tj**. O programa precisa **identificar esses comandos, extrair o texto entre parênteses**, e **organizá-lo em uma sequência lógica**, **respeitando a ordem das páginas e a posição dos elementos de texto**."
      ],
      "metadata": {
        "id": "yEQqOnGdvOUJ"
      }
    },
    {
      "cell_type": "markdown",
      "source": [
        "2. **Geração de sumário baseado na estrutura**\n",
        "\n",
        "  Esta transformação requer **analisar a estrutura hierárquica do documento (especialmente objetos do tipo Outlines)** e **gerar uma representação textual organizada que funcione como um sumário ou índice**.\n",
        "\n",
        "  Por exemplo: No **Exemplo 2, os objetos 11, 12 e 13 formam uma estrutura de outlines com títulos** como \"Resumo Executivo\", \"Detalhamento de Vendas\" e \"Projeções Futuras\". **O programa precisa reconhecer essa hierarquia (quem é pai de quem, quem vem antes ou depois)** e **organizá-la em um formato de sumário**."
      ],
      "metadata": {
        "id": "IoafYucJ7Pfs"
      }
    },
    {
      "cell_type": "markdown",
      "source": [
        "3. **Listagem hierárquica de objetos e suas dependências**\n",
        "\n",
        "  Esta transformação envolve **mapear todas as relações entre objetos (quem referência quem)** e **apresentá-las em um formato visual hierárquico, como uma árvore**.\n",
        "\n",
        "  Por exemplo: O **objeto raiz (Catalog)** referência **Pages**, que por sua vez referência **Page**, que referência **Font e Contents**. Isso forma uma **estrutura em árvore que precisa ser extraída e apresentada de forma clara**, como mostrado na seção ÁRVORE DE OBJETOS da saída esperada."
      ],
      "metadata": {
        "id": "47MNbgmu7PdV"
      }
    },
    {
      "cell_type": "markdown",
      "source": [
        "4. **Conversão de coordenadas de texto para formato mais legível**\n",
        "\n",
        "  Esta transformação requer **interpretar as coordenadas e comandos de posicionamento de texto (como 100 700 Td)** e **convertê-los para um formato que seja mais intuitivo para humanos**, possivelmente relacionando-os com a posição na página.\n",
        "\n",
        "  Por exemplo: Em vez de mostrar **100 700 Td**, o programa poderia **converter** isso **para** **\"Posição: 100px da esquerda, 92px do topo da página\" (considerando que em PDF as coordenadas Y geralmente começam da parte inferior da página)**."
      ],
      "metadata": {
        "id": "OClKu5pj7Pa7"
      }
    },
    {
      "cell_type": "markdown",
      "source": [
        "## Exemplos"
      ],
      "metadata": {
        "id": "AmUpIPeYvX-I"
      }
    },
    {
      "cell_type": "markdown",
      "source": [
        "### Exemplo 1"
      ],
      "metadata": {
        "id": "xZBB2LZw1pG0"
      }
    },
    {
      "cell_type": "markdown",
      "source": [
        "Exemplo 1\n",
        "```\n",
        "%SPDF-1.0\n",
        "\n",
        "1 0 obj\n",
        "<< /Type /Catalog\n",
        "/Pages 2 0 R\n",
        "/Metadata 7 0 R\n",
        "/Outlines 8 0 R\n",
        ">>\n",
        "endobj\n",
        "\n",
        "2 0 obj\n",
        "<< /Type /Pages\n",
        "/Kids [3 0 R 4 0 R]\n",
        "/Count 2\n",
        ">>\n",
        "endobj\n",
        "\n",
        "3 0 obj\n",
        "<< /Type /Page\n",
        "/Parent 2 0 R\n",
        "/Resources << /Font << /F1 5 0 R >> >>\n",
        "/MediaBox [0 0 612.0 792.0]\n",
        "/CropBox [10.5 10.5 601.5 781.5]\n",
        "/Rotate 0\n",
        "/Contents 6 0 R\n",
        ">>\n",
        "endobj\n",
        "\n",
        "4 0 obj\n",
        "<< /Type /Page\n",
        "/Parent 2 0 R\n",
        "/Resources << /Font << /F1 5 0 R >> >>\n",
        "/MediaBox [0 0 612.0 792.0]\n",
        "/CropBox [10.5 10.5 601.5 781.5]\n",
        "/Rotate 0\n",
        "/Contents 9 0 R\n",
        ">>\n",
        "endobj\n",
        "\n",
        "5 0 obj\n",
        "<< /Type /Font\n",
        "/Subtype /Type1\n",
        "/BaseFont /Helvetica\n",
        "/FontDescriptor 10 0 R\n",
        ">>\n",
        "endobj\n",
        "\n",
        "6 0 obj\n",
        "<< /Length 175 >>\n",
        "stream\n",
        "BT\n",
        "/F1 24 Tf\n",
        "100 700 Td\n",
        "(Relatório Financeiro: Primeiro Trimestre) Tj\n",
        "/F1 12 Tf\n",
        "0 -50 Td\n",
        "(Total de vendas: 1423 unidades) Tj\n",
        "0 -20 Td\n",
        "(Receita total: 158432.75 reais) Tj\n",
        "ET\n",
        "endstream\n",
        "endobj\n",
        "\n",
        "7 0 obj\n",
        "<< /Title (Relatório Financeiro Trimestral)\n",
        "/Author (Departamento Financeiro)\n",
        "/CreationDate (D:20230418090000)\n",
        "/Keywords (finanças, relatório, trimestral)\n",
        "/Version 1.2\n",
        "/PageCount 2\n",
        ">>\n",
        "endobj\n",
        "\n",
        "8 0 obj\n",
        "<< /Type /Outlines\n",
        "/Count 3\n",
        "/First 11 0 R\n",
        "/Last 13 0 R\n",
        ">>\n",
        "endobj\n",
        "\n",
        "9 0 obj\n",
        "<< /Length 322 >>\n",
        "stream\n",
        "BT\n",
        "/F1 18 Tf\n",
        "100 700 Td\n",
        "(Detalhamento por Categoria) Tj\n",
        "/F1 12 Tf\n",
        "0 -40 Td\n",
        "(Produto A: 523 unidades, valor unitário 89.99, total 47054.77) Tj\n",
        "0 -20 Td\n",
        "(Produto B: 347 unidades, valor unitário 125.50, total 43548.50) Tj\n",
        "0 -20 Td\n",
        "(Produto C: 553 unidades, valor unitário 122.65, total 67825.45) Tj\n",
        "0 -40 Td\n",
        "(Média de vendas por produto: 474.33 unidades) Tj\n",
        "ET\n",
        "endstream\n",
        "endobj\n",
        "\n",
        "10 0 obj\n",
        "<< /Type /FontDescriptor\n",
        "/FontName /Helvetica\n",
        "/Flags 32\n",
        "/FontBBox [-166 -225 1000 931]\n",
        "/ItalicAngle 0\n",
        "/Ascent 718\n",
        "/Descent -207\n",
        "/CapHeight 718\n",
        "/StemV 88\n",
        "/MissingWidth 278\n",
        ">>\n",
        "endobj\n",
        "\n",
        "11 0 obj\n",
        "<< /Title (Resumo Executivo)\n",
        "/Parent 8 0 R\n",
        "/Next 12 0 R\n",
        "/Dest [3 0 R /FitH 792.0]\n",
        ">>\n",
        "endobj\n",
        "\n",
        "12 0 obj\n",
        "<< /Title (Detalhamento de Vendas)\n",
        "/Parent 8 0 R\n",
        "/Prev 11 0 R\n",
        "/Next 13 0 R\n",
        "/Dest [4 0 R /FitH 792.0]\n",
        ">>\n",
        "endobj\n",
        "\n",
        "13 0 obj\n",
        "<< /Title (Projeções Futuras)\n",
        "/Parent 8 0 R\n",
        "/Prev 12 0 R\n",
        "/Dest [4 0 R /XYZ 100 450 1.25]\n",
        ">>\n",
        "endobj\n",
        "\n",
        "14 0 obj\n",
        "<< /Type /Metadata\n",
        "/Subtype /XML\n",
        "/Length 340\n",
        ">>\n",
        "stream\n",
        "<?xpacket begin='' id='W5M0MpCehiHzreSzNTczkc9d'?>\n",
        "<x:xmpmeta xmlns:x='adobe:ns:meta/'>\n",
        "<rdf:RDF xmlns:rdf='http://www.w3.org/1999/02/22-rdf-syntax-ns#'>\n",
        "<rdf:Description rdf:about=''\n",
        "xmlns:pdf='http://ns.adobe.com/pdf/1.3/'>\n",
        "<pdf:Producer>SimplePDF Generator 1.0</pdf:Producer>\n",
        "</rdf:Description>\n",
        "</rdf:RDF>\n",
        "</x:xmpmeta>\n",
        "<?xpacket end='w'?>\n",
        "endstream\n",
        "endobj\n",
        "xref\n",
        "0 15\n",
        "0000000000 65535 f\n",
        "0000000010 00000 n\n",
        "0000000099 00000 n\n",
        "0000000163 00000 n\n",
        "0000000344 00000 n\n",
        "0000000525 00000 n\n",
        "0000000624 00000 n\n",
        "0000000852 00000 n\n",
        "0000001048 00000 n\n",
        "0000001126 00000 n\n",
        "0000001500 00000 n\n",
        "0000001712 00000 n\n",
        "0000001818 00000 n\n",
        "0000001940 00000 n\n",
        "0000002052 00000 n\n",
        "trailer\n",
        "<< /Size 15\n",
        "/Root 1 0 R\n",
        "/Info 7 0 R\n",
        ">>\n",
        "startxref\n",
        "2500\n",
        "%%EOF\n",
        "```"
      ],
      "metadata": {
        "id": "IJT2Zh6WvbKR"
      }
    },
    {
      "cell_type": "markdown",
      "source": [
        "### Exemplo 2"
      ],
      "metadata": {
        "id": "7vZvBgb01sqv"
      }
    },
    {
      "cell_type": "markdown",
      "source": [
        "Exemplo 2\n",
        "```\n",
        "%SPDF-1.0\n",
        "\n",
        "1 0 obj\n",
        "<< /Type /Catalog\n",
        "/Pages 2 0 R\n",
        "/Metadata 7 0 R\n",
        "/Outlines 8 0 R\n",
        ">>\n",
        "endobj\n",
        "\n",
        "2 0 obj\n",
        "<< /Type /Pages\n",
        "/Kids [3 0 R 4 0 R]\n",
        "/Count 2\n",
        ">>\n",
        "endobj\n",
        "\n",
        "3 0 obj\n",
        "<< /Type /Page\n",
        "/Parent 2 0 R\n",
        "/Resources << /Font << /F1 5 0 R >> >>\n",
        "/MediaBox [0 0 612.0 792.0]\n",
        "/CropBox [10.5 10.5 601.5 781.5]\n",
        "/Rotate 0\n",
        "/Contents 6 0 R\n",
        ">>\n",
        "endobj\n",
        "\n",
        "4 0 obj\n",
        "<< /Type /Page\n",
        "/Parent 2 0 R\n",
        "/Resources << /Font << /F1 5 0 R >> >>\n",
        "/MediaBox [0 0 612.0 792.0]\n",
        "/CropBox [10.5 10.5 601.5 781.5]\n",
        "/Rotate 0\n",
        "/Contents 9 0 R\n",
        ">>\n",
        "endobj\n",
        "\n",
        "5 0 obj\n",
        "<< /Type /Font\n",
        "/Subtype /Type1\n",
        "/BaseFont /Helvetica\n",
        "/FontDescriptor 10 0 R\n",
        ">>\n",
        "endobj\n",
        "\n",
        "6 0 obj\n",
        "<< /Length 175 >>\n",
        "stream\n",
        "BT\n",
        "/F1 24 Tf\n",
        "100 700 Td\n",
        "(Relatório Financeiro: Primeiro Trimestre) Tj\n",
        "/F1 12 Tf\n",
        "0 -50 Td\n",
        "(Total de vendas: 1423 unidades) Tj\n",
        "0 -20 Td\n",
        "(Receita total: 158432.75 reais) Tj\n",
        "ET\n",
        "endstream\n",
        "endobj\n",
        "\n",
        "7 0 obj\n",
        "<< /Title (Relatório Financeiro Trimestral)\n",
        "/Author (Departamento Financeiro)\n",
        "/CreationDate (D:20230418090000)\n",
        "/Keywords (finanças, relatório, trimestral)\n",
        "/Version 1.2\n",
        "/PageCount 2\n",
        ">>\n",
        "endobj\n",
        "\n",
        "8 0 obj\n",
        "<< /Type /Outlines\n",
        "/Count 3\n",
        "/First 11 0 R\n",
        "/Last 13 0 R\n",
        ">>\n",
        "endobj\n",
        "\n",
        "9 0 obj\n",
        "<< /Length 322 >>\n",
        "stream\n",
        "BT\n",
        "/F1 18 Tf\n",
        "100 700 Td\n",
        "(Detalhamento por Categoria) Tj\n",
        "/F1 12 Tf\n",
        "0 -40 Td\n",
        "(Produto A: 523 unidades, valor unitário 89.99, total 47054.77) Tj\n",
        "0 -20 Td\n",
        "(Produto B: 347 unidades, valor unitário 125.50, total 43548.50) Tj\n",
        "0 -20 Td\n",
        "(Produto C: 553 unidades, valor unitário 122.65, total 67825.45) Tj\n",
        "0 -40 Td\n",
        "(Média de vendas por produto: 474.33 unidades) Tj\n",
        "ET\n",
        "endstream\n",
        "endobj\n",
        "\n",
        "10 0 obj\n",
        "<< /Type /FontDescriptor\n",
        "/FontName /Helvetica\n",
        "/Flags 32\n",
        "/FontBBox [-166 -225 1000 931]\n",
        "/ItalicAngle 0\n",
        "/Ascent 718\n",
        "/Descent -207\n",
        "/CapHeight 718\n",
        "/StemV 88\n",
        "/MissingWidth 278\n",
        ">>\n",
        "endobj\n",
        "\n",
        "11 0 obj\n",
        "<< /Title (Resumo Executivo)\n",
        "/Parent 8 0 R\n",
        "/Next 12 0 R\n",
        "/Dest [3 0 R /FitH 792.0]\n",
        ">>\n",
        "endobj\n",
        "\n",
        "12 0 obj\n",
        "<< /Title (Detalhamento de Vendas)\n",
        "/Parent 8 0 R\n",
        "/Prev 11 0 R\n",
        "/Next 13 0 R\n",
        "/Dest [4 0 R /FitH 792.0]\n",
        ">>\n",
        "endobj\n",
        "\n",
        "13 0 obj\n",
        "<< /Title (Projeções Futuras)\n",
        "/Parent 8 0 R\n",
        "/Prev 12 0 R\n",
        "/Dest [4 0 R /XYZ 100 450 1.25]\n",
        ">>\n",
        "endobj\n",
        "\n",
        "14 0 obj\n",
        "<< /Type /Metadata\n",
        "/Subtype /XML\n",
        "/Length 340\n",
        ">>\n",
        "stream\n",
        "<?xpacket begin='' id='W5M0MpCehiHzreSzNTczkc9d'?>\n",
        "<x:xmpmeta xmlns:x='adobe:ns:meta/'>\n",
        "<rdf:RDF xmlns:rdf='http://www.w3.org/1999/02/22-rdf-syntax-ns#'>\n",
        "<rdf:Description rdf:about=''\n",
        "xmlns:pdf='http://ns.adobe.com/pdf/1.3/'>\n",
        "<pdf:Producer>SimplePDF Generator 1.0</pdf:Producer>\n",
        "</rdf:Description>\n",
        "</rdf:RDF>\n",
        "</x:xmpmeta>\n",
        "<?xpacket end='w'?>\n",
        "endstream\n",
        "endobj\n",
        "\n",
        "xref\n",
        "0 15\n",
        "0000000000 65535 f\n",
        "0000000010 00000 n\n",
        "0000000099 00000 n\n",
        "0000000163 00000 n\n",
        "0000000344 00000 n\n",
        "0000000525 00000 n\n",
        "0000000624 00000 n\n",
        "0000000852 00000 n\n",
        "0000001048 00000 n\n",
        "0000001126 00000 n\n",
        "0000001500 00000 n\n",
        "0000001712 00000 n\n",
        "0000001818 00000 n\n",
        "0000001940 00000 n\n",
        "0000002052 00000 n\n",
        "\n",
        "trailer\n",
        "<< /Size 15\n",
        "/Root 1 0 R\n",
        "/Info 7 0 R\n",
        ">>\n",
        "startxref\n",
        "2500\n",
        "\n",
        "%%EOF\n",
        "```"
      ],
      "metadata": {
        "id": "pcr-tsCzviV-"
      }
    },
    {
      "cell_type": "markdown",
      "source": [
        "## Dicas"
      ],
      "metadata": {
        "id": "3qBC16B1E_2L"
      }
    },
    {
      "cell_type": "markdown",
      "source": [
        "1. **Comece simples**: Crie primeiro documentos com poucos objetos e estrutura simples.\n",
        "2. **Cálculo manual de offsets**: Para documentos simples, conte manualmente os bytes para cada\n",
        "posição. Lembre-se de que cada caractere (incluindo espaços e quebras de linha) conta como\n",
        "um byte.\n",
        "3. **Uso de ferramentas**:  \n",
        "  - Os alunos podem escrever um pequeno script auxiliar que conte o número de bytes\n",
        "até cada objeto\n",
        "  - Editores hexadecimais podem ser úteis para verificar posições\n",
        "4. **Construção gradual**:  \n",
        "  - Comece com o cabeçalho e objetos simples\n",
        "  - Adicione um marcador temporário para a tabela xref (ex: \"XREF_AQUI\")\n",
        "  - Conte a posição de cada objeto\n",
        "  - Substitua o marcador pela tabela xref real\n",
        "  - Adicione a seção trailer\n",
        "5. **Formato de quebra de linha**: Certifique-se de usar consistentemente o mesmo formato de\n",
        "quebra de linha (CRLF ou LF) ao contar bytes.\n",
        "6. **Verificação do documento**:  \n",
        "Após criar o documento, percorra-o byte a byte para verificar se os offsets na tabela xref apontam corretamente para o início de cada objeto"
      ],
      "metadata": {
        "id": "5IEesvWUFBFx"
      }
    },
    {
      "cell_type": "markdown",
      "source": [
        "**CASOS DE TESTE IMPORTANTES**\n",
        "\n",
        "Os alunos devem criar documentos de teste que cubram:\n",
        "1. **Estrutura básica**: Documento mínimo com catálogo e páginas\n",
        "2. **Reais vs. Inteiros**: Uso de números inteiros e de ponto flutuante\n",
        "3. **Tipos de dados**: Todas as variações (strings, nomes, arrays, dicionários)\n",
        "4. **Referências circulares**: Objetos que se referenciam mutuamente\n",
        "5. **Conteúdo de texto**: Objetos stream com comandos de texto\n",
        "6. **Estrutura hierárquica complexa**: Vários níveis de referência entre objetos\n",
        "7. **Metadados completos**: Informações detalhadas no objeto de metadados\n",
        "Criando arquivos de teste apropriados, os alunos poderão verificar se suas implementações lidam\n",
        "corretamente com todos os aspectos do formato SimplePDF, especialmente a interpretação da\n",
        "tabela xref, que é crucial para a navegação eficiente dentro do documento."
      ],
      "metadata": {
        "id": "JhkALO41FM0h"
      }
    },
    {
      "cell_type": "markdown",
      "source": [
        "# Código separado por celulas (Google Colab Style)"
      ],
      "metadata": {
        "id": "7JA6t4rDckK3"
      }
    },
    {
      "cell_type": "markdown",
      "source": [
        "**Downloading pdfs and configs (at least 3 examples)**"
      ],
      "metadata": {
        "id": "SOm1zbZjbgwb"
      }
    },
    {
      "cell_type": "code",
      "source": [
        "!wget -nc https://raw.githubusercontent.com/JoaoVLima/ActualSimplePDFValidator/main/exemplos/exemplo3.pdf\n",
        "!wget -nc https://raw.githubusercontent.com/JoaoVLima/ActualSimplePDFValidator/main/exemplos/exemplosimples.py"
      ],
      "metadata": {
        "colab": {
          "base_uri": "https://localhost:8080/"
        },
        "id": "v-tk5i8f7mMA",
        "outputId": "eeec5421-3085-4283-9832-6c4ddd775a56"
      },
      "execution_count": 2,
      "outputs": [
        {
          "output_type": "stream",
          "name": "stdout",
          "text": [
            "--2025-03-27 18:02:18--  https://raw.githubusercontent.com/JoaoVLima/ActualSimplePDFValidator/main/exemplos/exemplo3.pdf\n",
            "Resolving raw.githubusercontent.com (raw.githubusercontent.com)... 185.199.109.133, 185.199.111.133, 185.199.110.133, ...\n",
            "Connecting to raw.githubusercontent.com (raw.githubusercontent.com)|185.199.109.133|:443... connected.\n",
            "HTTP request sent, awaiting response... 200 OK\n",
            "Length: 604 [text/plain]\n",
            "Saving to: ‘exemplo3.pdf’\n",
            "\n",
            "exemplo3.pdf        100%[===================>]     604  --.-KB/s    in 0s      \n",
            "\n",
            "2025-03-27 18:02:18 (20.5 MB/s) - ‘exemplo3.pdf’ saved [604/604]\n",
            "\n",
            "--2025-03-27 18:02:18--  https://raw.githubusercontent.com/JoaoVLima/ActualSimplePDFValidator/main/exemplos/exemplosimples.py\n",
            "Resolving raw.githubusercontent.com (raw.githubusercontent.com)... 185.199.108.133, 185.199.109.133, 185.199.110.133, ...\n",
            "Connecting to raw.githubusercontent.com (raw.githubusercontent.com)|185.199.108.133|:443... connected.\n",
            "HTTP request sent, awaiting response... 200 OK\n",
            "Length: 568 [text/plain]\n",
            "Saving to: ‘exemplosimples.py’\n",
            "\n",
            "exemplosimples.py   100%[===================>]     568  --.-KB/s    in 0s      \n",
            "\n",
            "2025-03-27 18:02:18 (28.0 MB/s) - ‘exemplosimples.py’ saved [568/568]\n",
            "\n"
          ]
        }
      ]
    },
    {
      "cell_type": "markdown",
      "source": [
        "**Config**"
      ],
      "metadata": {
        "id": "JyGT99Pg7Lb9"
      }
    },
    {
      "cell_type": "code",
      "source": [
        "extrair_texto=None\n",
        "gerar_sumario=None\n",
        "detectar_ciclos=None\n",
        "nivel_detalhe=None\n",
        "validar_xref=None"
      ],
      "metadata": {
        "id": "j2uvkRoB7Lb-"
      },
      "execution_count": 3,
      "outputs": []
    },
    {
      "cell_type": "code",
      "source": [
        "from exemplosimples import *"
      ],
      "metadata": {
        "id": "W780goIp7Lb-"
      },
      "execution_count": 4,
      "outputs": []
    },
    {
      "cell_type": "code",
      "source": [
        "print(extrair_texto)\n",
        "print(gerar_sumario)\n",
        "print(detectar_ciclos)\n",
        "print(nivel_detalhe)\n",
        "print(validar_xref)"
      ],
      "metadata": {
        "colab": {
          "base_uri": "https://localhost:8080/"
        },
        "outputId": "6a39d4a5-b623-4fca-a2be-e3d2399976ff",
        "id": "JG8tLzBb7Lb-"
      },
      "execution_count": 5,
      "outputs": [
        {
          "output_type": "stream",
          "name": "stdout",
          "text": [
            "True\n",
            "True\n",
            "True\n",
            "Completo\n",
            "True\n"
          ]
        }
      ]
    },
    {
      "cell_type": "markdown",
      "source": [
        "**Read File**"
      ],
      "metadata": {
        "id": "d-4OtDex7Lb-"
      }
    },
    {
      "cell_type": "code",
      "source": [
        "def read_pdf(file_path):\n",
        "    with open(file_path, \"r\", encoding=\"utf-8\") as file:\n",
        "        text = file.read()\n",
        "    return text"
      ],
      "metadata": {
        "id": "zDV3Jd2F7Lb_"
      },
      "execution_count": 6,
      "outputs": []
    },
    {
      "cell_type": "code",
      "source": [
        "FILE = read_pdf('exemplo3.pdf')"
      ],
      "metadata": {
        "id": "pCI0jSLWcli5"
      },
      "execution_count": 7,
      "outputs": []
    },
    {
      "cell_type": "code",
      "source": [
        "FILE"
      ],
      "metadata": {
        "colab": {
          "base_uri": "https://localhost:8080/",
          "height": 87
        },
        "id": "hW_mtfxrcmAH",
        "outputId": "97d83795-4d7e-4d17-993f-37cf9e892d64"
      },
      "execution_count": 8,
      "outputs": [
        {
          "output_type": "execute_result",
          "data": {
            "text/plain": [
              "'%SPDF-1.0\\n1 0 obj\\n<<\\n/Type /Catalog\\n/Pages 3 0 R\\n/Outlines 2 0 R\\n>>\\nendobj\\n2 0 obj\\n<<\\n/Type /Outlines\\n/Count 0\\n>>\\nendobj\\n3 0 obj\\n<<\\n/Type /Pages\\n/Count 1\\n/Kids [ 4 0 R ]\\n>>\\nendobj\\n4 0 obj\\n<<\\n/Type /Page\\n/Parent 3 0 R\\n/Resources << /ProcSet 6 0 R >>\\n/MediaBox [ 0 0 612 792 ]\\n/Contents 5 0 R\\n>>\\nendobj\\n5 0 obj\\n<<\\n/Length 35\\n>>\\nstream\\n%place page marking operators here\\nendstream\\nendobj\\n6 0 obj\\n[ /PDF ]\\nendobj\\nxref\\n0 7\\n0000000000 65535 f\\n0000000010 00000 n\\n0000000075 00000 n\\n0000000121 00000 n\\n0000000180 00000 n\\n0000000301 00000 n\\n0000000385 00000 n\\ntrailer\\n<<\\n/Size 7\\n/Root 1 0 R\\n>>\\nstartxref\\n409\\n%%EOF'"
            ],
            "application/vnd.google.colaboratory.intrinsic+json": {
              "type": "string"
            }
          },
          "metadata": {},
          "execution_count": 8
        }
      ]
    },
    {
      "cell_type": "markdown",
      "source": [
        "**Getting info and Checking them**"
      ],
      "metadata": {
        "id": "O2ZATqOVbvUc"
      }
    },
    {
      "cell_type": "code",
      "source": [
        "FILE_SIZE = len(FILE)\n",
        "FILE_SIZE"
      ],
      "metadata": {
        "colab": {
          "base_uri": "https://localhost:8080/"
        },
        "id": "Z4tNb1WGydgc",
        "outputId": "f01e478a-7c7a-49f6-d418-54fb34d3275b"
      },
      "execution_count": 9,
      "outputs": [
        {
          "output_type": "execute_result",
          "data": {
            "text/plain": [
              "604"
            ]
          },
          "metadata": {},
          "execution_count": 9
        }
      ]
    },
    {
      "cell_type": "code",
      "source": [
        "def check_header(file):\n",
        "    return file.startswith('%SPDF-') or file.startswith('%PDF-')"
      ],
      "metadata": {
        "id": "9GfYa08jd78c"
      },
      "execution_count": 10,
      "outputs": []
    },
    {
      "cell_type": "code",
      "source": [
        "check_header(FILE)"
      ],
      "metadata": {
        "colab": {
          "base_uri": "https://localhost:8080/"
        },
        "id": "0Eh-MPGIwy3J",
        "outputId": "76537f68-1bc6-468a-abdd-944e455bb6b8"
      },
      "execution_count": 11,
      "outputs": [
        {
          "output_type": "execute_result",
          "data": {
            "text/plain": [
              "True"
            ]
          },
          "metadata": {},
          "execution_count": 11
        }
      ]
    },
    {
      "cell_type": "code",
      "source": [
        "def get_startbody(file):\n",
        "    for i in range(256):\n",
        "        if file[i] == '\\n': # get the second line\n",
        "            return i+1"
      ],
      "metadata": {
        "id": "ZSt4TdxbO_VT"
      },
      "execution_count": 12,
      "outputs": []
    },
    {
      "cell_type": "code",
      "source": [
        "STARTBODY = get_startbody(FILE)\n",
        "STARTBODY"
      ],
      "metadata": {
        "colab": {
          "base_uri": "https://localhost:8080/"
        },
        "id": "Jlq7pUrkPo2F",
        "outputId": "b660515d-d24d-4ad5-b389-df7530815d66"
      },
      "execution_count": 13,
      "outputs": [
        {
          "output_type": "execute_result",
          "data": {
            "text/plain": [
              "10"
            ]
          },
          "metadata": {},
          "execution_count": 13
        }
      ]
    },
    {
      "cell_type": "code",
      "source": [
        "def check_eof(file):\n",
        "    return file.endswith('%%EOF')"
      ],
      "metadata": {
        "id": "8YGQNC33wz-a"
      },
      "execution_count": 14,
      "outputs": []
    },
    {
      "cell_type": "code",
      "source": [
        "check_eof(FILE)"
      ],
      "metadata": {
        "colab": {
          "base_uri": "https://localhost:8080/"
        },
        "id": "p8DtNhv3w60f",
        "outputId": "939f7b91-2ea9-4388-cff4-3721f2c4ed79"
      },
      "execution_count": 15,
      "outputs": [
        {
          "output_type": "execute_result",
          "data": {
            "text/plain": [
              "True"
            ]
          },
          "metadata": {},
          "execution_count": 15
        }
      ]
    },
    {
      "cell_type": "code",
      "source": [
        "def get_startxref(file, filesize):\n",
        "    end = filesize-6 # ignoring this '\\n%%EOF'\n",
        "    for i in range(end-1,0,-1):\n",
        "        if file[i] == '\\n': # get only one line\n",
        "            return int(file[i+1:end])"
      ],
      "metadata": {
        "id": "6bPqiraSw8y1"
      },
      "execution_count": 16,
      "outputs": []
    },
    {
      "cell_type": "code",
      "source": [
        "STARTXREF = get_startxref(FILE, FILE_SIZE)\n",
        "STARTXREF"
      ],
      "metadata": {
        "colab": {
          "base_uri": "https://localhost:8080/"
        },
        "id": "izSJAUQiywTU",
        "outputId": "b69e5333-44c6-4163-f294-d2d44f71d977"
      },
      "execution_count": 17,
      "outputs": [
        {
          "output_type": "execute_result",
          "data": {
            "text/plain": [
              "409"
            ]
          },
          "metadata": {},
          "execution_count": 17
        }
      ]
    },
    {
      "cell_type": "code",
      "source": [
        "BODY = FILE[STARTBODY:STARTXREF]\n",
        "BODY"
      ],
      "metadata": {
        "colab": {
          "base_uri": "https://localhost:8080/",
          "height": 70
        },
        "id": "5lI1Y6bTP2Kh",
        "outputId": "5a06d346-ce11-4bde-c475-519ba3667252"
      },
      "execution_count": 18,
      "outputs": [
        {
          "output_type": "execute_result",
          "data": {
            "text/plain": [
              "'1 0 obj\\n<<\\n/Type /Catalog\\n/Pages 3 0 R\\n/Outlines 2 0 R\\n>>\\nendobj\\n2 0 obj\\n<<\\n/Type /Outlines\\n/Count 0\\n>>\\nendobj\\n3 0 obj\\n<<\\n/Type /Pages\\n/Count 1\\n/Kids [ 4 0 R ]\\n>>\\nendobj\\n4 0 obj\\n<<\\n/Type /Page\\n/Parent 3 0 R\\n/Resources << /ProcSet 6 0 R >>\\n/MediaBox [ 0 0 612 792 ]\\n/Contents 5 0 R\\n>>\\nendobj\\n5 0 obj\\n<<\\n/Length 35\\n>>\\nstream\\n%place page marking operators here\\nendstream\\nendobj\\n6 0 obj\\n[ /PDF ]\\nendobj\\n'"
            ],
            "application/vnd.google.colaboratory.intrinsic+json": {
              "type": "string"
            }
          },
          "metadata": {},
          "execution_count": 18
        }
      ]
    },
    {
      "cell_type": "code",
      "source": [
        "BODY_SIZE = len(BODY)\n",
        "BODY_SIZE"
      ],
      "metadata": {
        "colab": {
          "base_uri": "https://localhost:8080/"
        },
        "id": "1ftORX9Rn9Ln",
        "outputId": "6b528589-7459-4ecc-cb70-c2f374777a1a"
      },
      "execution_count": 19,
      "outputs": [
        {
          "output_type": "execute_result",
          "data": {
            "text/plain": [
              "399"
            ]
          },
          "metadata": {},
          "execution_count": 19
        }
      ]
    },
    {
      "cell_type": "code",
      "source": [
        "STARTXREF_KEYWORD_OFFSET = FILE_SIZE-6-len(str(STARTXREF))-10 # f'startxref\\n{xref_address}\\n%%EOF'"
      ],
      "metadata": {
        "id": "JxjFmr6aL8Sk"
      },
      "execution_count": 20,
      "outputs": []
    },
    {
      "cell_type": "code",
      "source": [
        "def get_starttrailer(file, startxref, startxref_keyword_offset):\n",
        "    end = startxref_keyword_offset # ignoring this f'startxref\\n{xref_address}\\n%%EOF'\n",
        "    for i in range(startxref,end):\n",
        "        if file[i] == 't': # trailler\n",
        "            return i"
      ],
      "metadata": {
        "id": "eqxgjnjI3qzQ"
      },
      "execution_count": 21,
      "outputs": []
    },
    {
      "cell_type": "code",
      "source": [
        "STARTTRAILER = get_starttrailer(FILE, STARTXREF, STARTXREF_KEYWORD_OFFSET)\n",
        "STARTTRAILER"
      ],
      "metadata": {
        "colab": {
          "base_uri": "https://localhost:8080/"
        },
        "id": "5JIpfIZaKrki",
        "outputId": "76829947-0d1e-4473-9a6c-77c3635bae3e"
      },
      "execution_count": 22,
      "outputs": [
        {
          "output_type": "execute_result",
          "data": {
            "text/plain": [
              "551"
            ]
          },
          "metadata": {},
          "execution_count": 22
        }
      ]
    },
    {
      "cell_type": "code",
      "source": [
        "XREF = FILE[STARTXREF:STARTTRAILER]\n",
        "XREF"
      ],
      "metadata": {
        "colab": {
          "base_uri": "https://localhost:8080/",
          "height": 35
        },
        "id": "6sD5sfruK9tK",
        "outputId": "28179749-44d7-428e-b4bd-8809d6313ef8"
      },
      "execution_count": 23,
      "outputs": [
        {
          "output_type": "execute_result",
          "data": {
            "text/plain": [
              "'xref\\n0 7\\n0000000000 65535 f\\n0000000010 00000 n\\n0000000075 00000 n\\n0000000121 00000 n\\n0000000180 00000 n\\n0000000301 00000 n\\n0000000385 00000 n\\n'"
            ],
            "application/vnd.google.colaboratory.intrinsic+json": {
              "type": "string"
            }
          },
          "metadata": {},
          "execution_count": 23
        }
      ]
    },
    {
      "cell_type": "code",
      "source": [
        "# Trailler is  'trailer << <trailer key–value pair>+ >> startxref <cross-reference table start address> %%EOF'\n",
        "# but i am only considering 'trailer << <trailer key–value pair>+ >> '\n",
        "TRAILER = FILE[STARTTRAILER:STARTXREF_KEYWORD_OFFSET]\n",
        "TRAILER"
      ],
      "metadata": {
        "colab": {
          "base_uri": "https://localhost:8080/",
          "height": 35
        },
        "id": "t-cOW02cGwLR",
        "outputId": "5470c2bb-53bd-458d-d6c0-1d77ab44a6eb"
      },
      "execution_count": 24,
      "outputs": [
        {
          "output_type": "execute_result",
          "data": {
            "text/plain": [
              "'trailer\\n<<\\n/Size 7\\n/Root 1 0 R\\n>>\\n'"
            ],
            "application/vnd.google.colaboratory.intrinsic+json": {
              "type": "string"
            }
          },
          "metadata": {},
          "execution_count": 24
        }
      ]
    },
    {
      "cell_type": "markdown",
      "source": [
        "**Converting dictionary from pdf to dictionary in python**"
      ],
      "metadata": {
        "id": "SNrEDT6zb19D"
      }
    },
    {
      "cell_type": "code",
      "source": [
        "def string_to_dict(dict_str):\n",
        "    tokens = dict_str.split()\n",
        "    return tokens_to_dict(tokens)\n",
        "\n",
        "\n",
        "def tokens_to_dict(tokens, index=-1, index_return=False):\n",
        "    data = {}\n",
        "    key = None\n",
        "    value = []\n",
        "    i = index\n",
        "    while i < len(tokens):\n",
        "        i+=1\n",
        "        token = tokens[i]\n",
        "\n",
        "        if token == '<<':\n",
        "            if key:\n",
        "                data[key], i = tokens_to_dict(tokens, i, True)\n",
        "            key = None\n",
        "            value = []\n",
        "        elif token == '>>' or token == 'endobj':\n",
        "            if len(value) == 1:\n",
        "                value = value[0]  # ['7'] => '7'\n",
        "            if key:\n",
        "                data[key] = value\n",
        "            break\n",
        "        elif token.startswith('/'):\n",
        "            if key:\n",
        "                if value:\n",
        "                    if len(value) == 1:\n",
        "                        value = value[0] # ['7'] => '7'\n",
        "                    data[key] = value\n",
        "                    key = None\n",
        "                    value = []\n",
        "                else:\n",
        "                    value = token\n",
        "                    data[key] = value # '/Type': '/Pages'\n",
        "                    key = None\n",
        "                    value = []\n",
        "                    continue\n",
        "            key = token\n",
        "            value = []\n",
        "        else:\n",
        "            if not key:\n",
        "                continue\n",
        "            value.append(token)\n",
        "\n",
        "    if index_return:\n",
        "        return data, i\n",
        "    return data"
      ],
      "metadata": {
        "id": "wyX6cW8iLyf6"
      },
      "execution_count": 25,
      "outputs": []
    },
    {
      "cell_type": "code",
      "source": [
        "TRAILER_DICT = string_to_dict(TRAILER)\n",
        "TRAILER_DICT"
      ],
      "metadata": {
        "colab": {
          "base_uri": "https://localhost:8080/"
        },
        "id": "ULp79BqWa3Jy",
        "outputId": "fa2d56fb-41bf-4656-fd21-8eabd99dfc44"
      },
      "execution_count": 26,
      "outputs": [
        {
          "output_type": "execute_result",
          "data": {
            "text/plain": [
              "{'/Size': '7', '/Root': ['1', '0', 'R']}"
            ]
          },
          "metadata": {},
          "execution_count": 26
        }
      ]
    },
    {
      "cell_type": "markdown",
      "source": [
        "**Checking required keys on trailer and getting info from it**"
      ],
      "metadata": {
        "id": "1shOJIBRlP9u"
      }
    },
    {
      "cell_type": "code",
      "source": [
        "def check_trailer(trailer_dict):\n",
        "    required_tags = ['/Size','/Root']\n",
        "    # tags = ['/Info','/Prev']\n",
        "    for tag in required_tags:\n",
        "        if tag not in trailer_dict:\n",
        "            return False\n",
        "\n",
        "    return True"
      ],
      "metadata": {
        "id": "aoAHEfksjfFF"
      },
      "execution_count": 27,
      "outputs": []
    },
    {
      "cell_type": "code",
      "source": [
        "check_trailer(TRAILER_DICT)"
      ],
      "metadata": {
        "colab": {
          "base_uri": "https://localhost:8080/"
        },
        "id": "f19HG053kqEo",
        "outputId": "d5cc50cf-e279-4152-fe2e-99ca597542a8"
      },
      "execution_count": 28,
      "outputs": [
        {
          "output_type": "execute_result",
          "data": {
            "text/plain": [
              "True"
            ]
          },
          "metadata": {},
          "execution_count": 28
        }
      ]
    },
    {
      "cell_type": "code",
      "source": [
        "TRAILER_SIZE = int(TRAILER_DICT['/Size'])\n",
        "TRAILER_SIZE"
      ],
      "metadata": {
        "colab": {
          "base_uri": "https://localhost:8080/"
        },
        "id": "5wh_EQGMVdyr",
        "outputId": "825fd7f2-9da7-4295-ccb5-440a38056363"
      },
      "execution_count": 29,
      "outputs": [
        {
          "output_type": "execute_result",
          "data": {
            "text/plain": [
              "7"
            ]
          },
          "metadata": {},
          "execution_count": 29
        }
      ]
    },
    {
      "cell_type": "code",
      "source": [
        "TRAILER_ROOT = TRAILER_DICT['/Root']\n",
        "TRAILER_ROOT"
      ],
      "metadata": {
        "colab": {
          "base_uri": "https://localhost:8080/"
        },
        "id": "T6TSyQJqVwND",
        "outputId": "3e0d65ab-ae4d-4ee1-b2cb-e39ba1e8e20b"
      },
      "execution_count": 30,
      "outputs": [
        {
          "output_type": "execute_result",
          "data": {
            "text/plain": [
              "['1', '0', 'R']"
            ]
          },
          "metadata": {},
          "execution_count": 30
        }
      ]
    },
    {
      "cell_type": "markdown",
      "source": [
        "**Converting xref into a list of sections(list)**"
      ],
      "metadata": {
        "id": "t3_1HD63lYdc"
      }
    },
    {
      "cell_type": "code",
      "source": [
        "def xref_to_list(xref):\n",
        "    lines = xref.split('\\n')\n",
        "    lines = [line.split() for line in lines if line]\n",
        "\n",
        "    first = int(lines[1][0])\n",
        "    qtd = int(lines[1][1])\n",
        "\n",
        "    lines = lines[2:]  # removing 'xref' and '0 7', 2 first lines\n",
        "\n",
        "    sections = []\n",
        "    objects = [[first,qtd]]\n",
        "\n",
        "    for line in lines:\n",
        "        if len(line) == 2:\n",
        "            sections.append(objects)\n",
        "            first = int(line[0])\n",
        "            qtd = int(line[1])\n",
        "            objects = [[first,qtd]]\n",
        "            continue\n",
        "\n",
        "        line[0] = int(line[0])\n",
        "        line[1] = int(line[1])\n",
        "        objects.append(line)\n",
        "\n",
        "    if objects:\n",
        "        sections.append(objects)\n",
        "\n",
        "    return sections"
      ],
      "metadata": {
        "id": "br3f2WpXNc_K"
      },
      "execution_count": 31,
      "outputs": []
    },
    {
      "cell_type": "code",
      "source": [
        "XREF_LIST = xref_to_list(XREF)\n",
        "XREF_LIST"
      ],
      "metadata": {
        "colab": {
          "base_uri": "https://localhost:8080/"
        },
        "id": "5V-9d4faTbRZ",
        "outputId": "f072cb1f-d4bf-43c6-e56c-102cf5bb3e78"
      },
      "execution_count": 32,
      "outputs": [
        {
          "output_type": "execute_result",
          "data": {
            "text/plain": [
              "[[[0, 7],\n",
              "  [0, 65535, 'f'],\n",
              "  [10, 0, 'n'],\n",
              "  [75, 0, 'n'],\n",
              "  [121, 0, 'n'],\n",
              "  [180, 0, 'n'],\n",
              "  [301, 0, 'n'],\n",
              "  [385, 0, 'n']]]"
            ]
          },
          "metadata": {},
          "execution_count": 32
        }
      ]
    },
    {
      "cell_type": "code",
      "source": [
        "def check_xref_size(xref_list, trailer_size):\n",
        "    size = 0\n",
        "    for section in xref_list:\n",
        "        info = section[0]\n",
        "        first = info[0]\n",
        "        qtd = info[1]\n",
        "        section_size = len(section[1:])\n",
        "\n",
        "        if qtd != section_size:\n",
        "            return False\n",
        "\n",
        "        size += section_size\n",
        "\n",
        "    if size != trailer_size:\n",
        "        return False\n",
        "\n",
        "    return True"
      ],
      "metadata": {
        "id": "ap-mQsCwSH3N"
      },
      "execution_count": 33,
      "outputs": []
    },
    {
      "cell_type": "code",
      "source": [
        "check_xref_size(XREF_LIST, TRAILER_SIZE)"
      ],
      "metadata": {
        "colab": {
          "base_uri": "https://localhost:8080/"
        },
        "id": "CpzIJbhWTRsz",
        "outputId": "42c1b7c8-afc7-4dcb-b7e7-ff2de7f78751"
      },
      "execution_count": 34,
      "outputs": [
        {
          "output_type": "execute_result",
          "data": {
            "text/plain": [
              "True"
            ]
          },
          "metadata": {},
          "execution_count": 34
        }
      ]
    },
    {
      "cell_type": "code",
      "source": [
        "# f = object_id gen_num f\n",
        "# n = byte_offset gen_num n\n",
        "\n",
        "def get_xref_addresses(xref_list):\n",
        "    xref_addresses = {}\n",
        "    for section in xref_list:\n",
        "        info = section[0]\n",
        "        first = info[0]\n",
        "        qtd = info[1]\n",
        "\n",
        "        section = section[1:] # ignoring info, first element\n",
        "\n",
        "        for i in range(qtd):\n",
        "            obj = section[i]\n",
        "\n",
        "            if obj[2] == 'f':\n",
        "                continue # ignoring validation on 'f'\n",
        "\n",
        "            byte_offset = obj[0]\n",
        "\n",
        "            xref_addresses[first+i] = byte_offset\n",
        "\n",
        "    return xref_addresses"
      ],
      "metadata": {
        "id": "2kSn0V_SgFSi"
      },
      "execution_count": 35,
      "outputs": []
    },
    {
      "cell_type": "code",
      "source": [
        "XREF_ADDRESSES = get_xref_addresses(XREF_LIST)\n",
        "XREF_ADDRESSES"
      ],
      "metadata": {
        "colab": {
          "base_uri": "https://localhost:8080/"
        },
        "id": "BkdFfmpRiO6H",
        "outputId": "ebcdade8-1be0-4843-f05c-69695729792a"
      },
      "execution_count": 36,
      "outputs": [
        {
          "output_type": "execute_result",
          "data": {
            "text/plain": [
              "{1: 10, 2: 75, 3: 121, 4: 180, 5: 301, 6: 385}"
            ]
          },
          "metadata": {},
          "execution_count": 36
        }
      ]
    },
    {
      "cell_type": "code",
      "source": [
        "def check_xref_addresses(xref_addresses, body, start_body=10): # start_body=10 for spdf header\n",
        "    for obj_id, address in xref_addresses.items():\n",
        "\n",
        "        if body[address-start_body] != str(obj_id):\n",
        "            return False\n",
        "\n",
        "    return True"
      ],
      "metadata": {
        "id": "DiPVBnNOTYQ6"
      },
      "execution_count": 37,
      "outputs": []
    },
    {
      "cell_type": "code",
      "source": [
        "check_xref_addresses(XREF_ADDRESSES, BODY, STARTBODY)"
      ],
      "metadata": {
        "colab": {
          "base_uri": "https://localhost:8080/"
        },
        "id": "RvQrMMdJbmtq",
        "outputId": "db54a541-384f-49f2-ff18-82e4202f964a"
      },
      "execution_count": 38,
      "outputs": [
        {
          "output_type": "execute_result",
          "data": {
            "text/plain": [
              "True"
            ]
          },
          "metadata": {},
          "execution_count": 38
        }
      ]
    },
    {
      "cell_type": "markdown",
      "source": [
        "**Creating OBJECTS dictionary, putting the addresses(byte_offsets-start_body) in it**"
      ],
      "metadata": {
        "id": "8jOCYUHmlnxj"
      }
    },
    {
      "cell_type": "code",
      "source": [
        "OBJECTS = {1:{}}"
      ],
      "metadata": {
        "id": "iYrvtFI1ghiX"
      },
      "execution_count": 39,
      "outputs": []
    },
    {
      "cell_type": "code",
      "source": [
        "def update_xref_addresses(objects, xref_addresses, start_body=10): # start_body=10 for spdf header)\n",
        "    for obj_id, address in xref_addresses.items():\n",
        "        if obj_id not in objects:\n",
        "            objects[obj_id] = {}\n",
        "        objects[obj_id]['address'] = address - start_body"
      ],
      "metadata": {
        "id": "-9snOSVykOME"
      },
      "execution_count": 40,
      "outputs": []
    },
    {
      "cell_type": "code",
      "source": [
        "update_xref_addresses(OBJECTS, XREF_ADDRESSES)\n",
        "OBJECTS"
      ],
      "metadata": {
        "colab": {
          "base_uri": "https://localhost:8080/"
        },
        "id": "lgU1QvBZhLjy",
        "outputId": "f5ef3ded-445a-425d-abd9-b69d5147f3b9"
      },
      "execution_count": 41,
      "outputs": [
        {
          "output_type": "execute_result",
          "data": {
            "text/plain": [
              "{1: {'address': 0},\n",
              " 2: {'address': 65},\n",
              " 3: {'address': 111},\n",
              " 4: {'address': 170},\n",
              " 5: {'address': 291},\n",
              " 6: {'address': 375}}"
            ]
          },
          "metadata": {},
          "execution_count": 41
        }
      ]
    },
    {
      "cell_type": "markdown",
      "source": [
        "**Putting content from objects inside OBJECTS dictionary**"
      ],
      "metadata": {
        "id": "MzI7a4q6mbvj"
      }
    },
    {
      "cell_type": "code",
      "source": [
        "def update_contents(objects, body, body_size):\n",
        "    for obj_id, obj in objects.items():\n",
        "        address = obj['address']\n",
        "        i = address\n",
        "\n",
        "        while(i<body_size):\n",
        "            if body[i:i+6] == 'endobj':\n",
        "                break\n",
        "            i+=1\n",
        "\n",
        "        obj['content'] = body[address:i+6]"
      ],
      "metadata": {
        "id": "acEmIdFSkvd7"
      },
      "execution_count": 42,
      "outputs": []
    },
    {
      "cell_type": "code",
      "source": [
        "update_contents(OBJECTS, BODY, BODY_SIZE)\n",
        "OBJECTS"
      ],
      "metadata": {
        "colab": {
          "base_uri": "https://localhost:8080/"
        },
        "id": "4LDW1klIpVNY",
        "outputId": "3eca201e-32b3-458c-f74f-ec186443b5d6"
      },
      "execution_count": 43,
      "outputs": [
        {
          "output_type": "execute_result",
          "data": {
            "text/plain": [
              "{1: {'address': 0,\n",
              "  'content': '1 0 obj\\n<<\\n/Type /Catalog\\n/Pages 3 0 R\\n/Outlines 2 0 R\\n>>\\nendobj'},\n",
              " 2: {'address': 65,\n",
              "  'content': '2 0 obj\\n<<\\n/Type /Outlines\\n/Count 0\\n>>\\nendobj'},\n",
              " 3: {'address': 111,\n",
              "  'content': '3 0 obj\\n<<\\n/Type /Pages\\n/Count 1\\n/Kids [ 4 0 R ]\\n>>\\nendobj'},\n",
              " 4: {'address': 170,\n",
              "  'content': '4 0 obj\\n<<\\n/Type /Page\\n/Parent 3 0 R\\n/Resources << /ProcSet 6 0 R >>\\n/MediaBox [ 0 0 612 792 ]\\n/Contents 5 0 R\\n>>\\nendobj'},\n",
              " 5: {'address': 291,\n",
              "  'content': '5 0 obj\\n<<\\n/Length 35\\n>>\\nstream\\n%place page marking operators here\\nendstream\\nendobj'},\n",
              " 6: {'address': 375, 'content': '6 0 obj\\n[ /PDF ]\\nendobj'}}"
            ]
          },
          "metadata": {},
          "execution_count": 43
        }
      ]
    },
    {
      "cell_type": "code",
      "source": [
        "def remove_comments(objects):\n",
        "    for obj_id, obj in objects.items():\n",
        "        content = obj['content']\n",
        "        new_content = ''\n",
        "        start_comment = False\n",
        "\n",
        "        for i in range(len(content)):\n",
        "            if start_comment:\n",
        "                if content[i] == '\\n':\n",
        "                    new_content += '\\n'\n",
        "                    start_comment = None\n",
        "                    continue\n",
        "            elif content[i] == '%':\n",
        "                start_comment = True\n",
        "                continue\n",
        "            else:\n",
        "                new_content += content[i]\n",
        "\n",
        "        obj['content'] = new_content"
      ],
      "metadata": {
        "id": "tstgEqYYvcRC"
      },
      "execution_count": 44,
      "outputs": []
    },
    {
      "cell_type": "code",
      "source": [
        "remove_comments(OBJECTS)\n",
        "OBJECTS"
      ],
      "metadata": {
        "colab": {
          "base_uri": "https://localhost:8080/"
        },
        "id": "ImOM-EZHwYon",
        "outputId": "2ec4f735-1042-4696-99ce-b29977bd5573"
      },
      "execution_count": 45,
      "outputs": [
        {
          "output_type": "execute_result",
          "data": {
            "text/plain": [
              "{1: {'address': 0,\n",
              "  'content': '1 0 obj\\n<<\\n/Type /Catalog\\n/Pages 3 0 R\\n/Outlines 2 0 R\\n>>\\nendobj'},\n",
              " 2: {'address': 65,\n",
              "  'content': '2 0 obj\\n<<\\n/Type /Outlines\\n/Count 0\\n>>\\nendobj'},\n",
              " 3: {'address': 111,\n",
              "  'content': '3 0 obj\\n<<\\n/Type /Pages\\n/Count 1\\n/Kids [ 4 0 R ]\\n>>\\nendobj'},\n",
              " 4: {'address': 170,\n",
              "  'content': '4 0 obj\\n<<\\n/Type /Page\\n/Parent 3 0 R\\n/Resources << /ProcSet 6 0 R >>\\n/MediaBox [ 0 0 612 792 ]\\n/Contents 5 0 R\\n>>\\nendobj'},\n",
              " 5: {'address': 291,\n",
              "  'content': '5 0 obj\\n<<\\n/Length 35\\n>>\\nstream\\n\\nendstream\\nendobj'},\n",
              " 6: {'address': 375, 'content': '6 0 obj\\n[ /PDF ]\\nendobj'}}"
            ]
          },
          "metadata": {},
          "execution_count": 45
        }
      ]
    },
    {
      "cell_type": "code",
      "source": [
        "def check_references(objects):\n",
        "    for obj in objects.values():\n",
        "        content = obj['content']\n",
        "        tokens = content.split()\n",
        "\n",
        "        refs = get_reference_id(tokens)\n",
        "        for id in refs:\n",
        "            if id not in objects:\n",
        "                return False\n",
        "\n",
        "    return True\n"
      ],
      "metadata": {
        "id": "gCTYsH3br-rO"
      },
      "execution_count": 47,
      "outputs": []
    },
    {
      "cell_type": "code",
      "source": [
        "check_references(OBJECTS)"
      ],
      "metadata": {
        "colab": {
          "base_uri": "https://localhost:8080/"
        },
        "id": "1LFHqGM0tnN6",
        "outputId": "e6af04ae-e192-4017-8e0d-1a8bc8b4dab6"
      },
      "execution_count": 48,
      "outputs": [
        {
          "output_type": "execute_result",
          "data": {
            "text/plain": [
              "True"
            ]
          },
          "metadata": {},
          "execution_count": 48
        }
      ]
    },
    {
      "cell_type": "code",
      "source": [
        "def get_dictionaries(objects):\n",
        "    for obj in objects.values():\n",
        "        obj['dictionary'] = string_to_dict(obj['content'])"
      ],
      "metadata": {
        "id": "F29U7IcntpFF"
      },
      "execution_count": 49,
      "outputs": []
    },
    {
      "cell_type": "code",
      "source": [
        "get_dictionaries(OBJECTS)\n",
        "OBJECTS"
      ],
      "metadata": {
        "colab": {
          "base_uri": "https://localhost:8080/"
        },
        "id": "I2xAm0uO3YAA",
        "outputId": "c91325e5-b47d-44c5-c6a1-96efdea934a5"
      },
      "execution_count": 50,
      "outputs": [
        {
          "output_type": "execute_result",
          "data": {
            "text/plain": [
              "{1: {'address': 0,\n",
              "  'content': '1 0 obj\\n<<\\n/Type /Catalog\\n/Pages 3 0 R\\n/Outlines 2 0 R\\n>>\\nendobj',\n",
              "  'dictionary': {'/Type': '/Catalog',\n",
              "   '/Pages': ['3', '0', 'R'],\n",
              "   '/Outlines': ['2', '0', 'R']}},\n",
              " 2: {'address': 65,\n",
              "  'content': '2 0 obj\\n<<\\n/Type /Outlines\\n/Count 0\\n>>\\nendobj',\n",
              "  'dictionary': {'/Type': '/Outlines', '/Count': '0'}},\n",
              " 3: {'address': 111,\n",
              "  'content': '3 0 obj\\n<<\\n/Type /Pages\\n/Count 1\\n/Kids [ 4 0 R ]\\n>>\\nendobj',\n",
              "  'dictionary': {'/Type': '/Pages',\n",
              "   '/Count': '1',\n",
              "   '/Kids': ['[', '4', '0', 'R', ']']}},\n",
              " 4: {'address': 170,\n",
              "  'content': '4 0 obj\\n<<\\n/Type /Page\\n/Parent 3 0 R\\n/Resources << /ProcSet 6 0 R >>\\n/MediaBox [ 0 0 612 792 ]\\n/Contents 5 0 R\\n>>\\nendobj',\n",
              "  'dictionary': {'/Type': '/Page',\n",
              "   '/Parent': ['3', '0', 'R'],\n",
              "   '/Resources': {'/ProcSet': ['6', '0', 'R']},\n",
              "   '/MediaBox': ['[', '0', '0', '612', '792', ']'],\n",
              "   '/Contents': ['5', '0', 'R']}},\n",
              " 5: {'address': 291,\n",
              "  'content': '5 0 obj\\n<<\\n/Length 35\\n>>\\nstream\\n\\nendstream\\nendobj',\n",
              "  'dictionary': {'/Length': '35'}},\n",
              " 6: {'address': 375,\n",
              "  'content': '6 0 obj\\n[ /PDF ]\\nendobj',\n",
              "  'dictionary': {'/PDF': ']'}}}"
            ]
          },
          "metadata": {},
          "execution_count": 50
        }
      ]
    },
    {
      "cell_type": "code",
      "source": [
        "class Node:\n",
        "    def __init__(self, info=''):\n",
        "        self.info = info\n",
        "        self.children = []\n",
        "\n",
        "    def __str__(self):\n",
        "        return self.info\n",
        "\n",
        "    def add_child(self, child):\n",
        "        self.children.append(child)\n",
        "        return True\n",
        "\n",
        "    def height(self):\n",
        "        if not self.children:\n",
        "            return 1\n",
        "        return 1 + max([child.height() for child in self.children])\n",
        "\n",
        "    def find_node(self, target):\n",
        "        if self.info == target:\n",
        "            return self\n",
        "\n",
        "        for child in self.children:\n",
        "            if child.info == target:\n",
        "                return child\n",
        "            found = child.find_node(target)\n",
        "            if found:\n",
        "                return found\n",
        "\n",
        "    def print(self, level=0):\n",
        "        result = \"\\t\" * level + str(self) + \"\\n\"\n",
        "        for child in self.children:\n",
        "            result += child.print(level + 1)\n",
        "        return result\n",
        "\n",
        "\n",
        "class Tree:\n",
        "    def __init__(self, root=None):\n",
        "        if root and not isinstance(root, Node):\n",
        "            root = Node(root)\n",
        "        self.root = root\n",
        "\n",
        "    def __str__(self):\n",
        "        return self.print()\n",
        "\n",
        "    def is_empty(self):\n",
        "        return self.root is None\n",
        "\n",
        "    def height(self):\n",
        "        return self.root.height()\n",
        "\n",
        "    def find_node(self, target):\n",
        "        if self.is_empty():\n",
        "            return None\n",
        "        return self.root.find_node(target)\n",
        "\n",
        "    def add_child(self, target, node):\n",
        "        if self.is_empty():\n",
        "            return None\n",
        "\n",
        "        if not isinstance(target, Node):\n",
        "            target = self.find_node(target)\n",
        "\n",
        "        if not isinstance(node, Node):\n",
        "            node = Node(node)\n",
        "\n",
        "        return target.add_child(node)\n",
        "\n",
        "    def print(self):\n",
        "        if self.is_empty():\n",
        "            return ''\n",
        "        return self.root.print()\n"
      ],
      "metadata": {
        "id": "J_ZVW3V1pXzO"
      },
      "execution_count": 51,
      "outputs": []
    },
    {
      "cell_type": "code",
      "source": [
        "def get_reference_id(tokens):\n",
        "    ids = []\n",
        "    for i in range(len(tokens)):\n",
        "        token = tokens[i]\n",
        "        if token == 'R':\n",
        "            ref_id = tokens[i - 2]\n",
        "            ref_id = int(ref_id)\n",
        "            ids.append(ref_id)\n",
        "\n",
        "    return ids"
      ],
      "metadata": {
        "id": "K7v66uUYFKEG"
      },
      "execution_count": 52,
      "outputs": []
    },
    {
      "cell_type": "code",
      "source": [
        "def references_recursive(object):\n",
        "    references = []\n",
        "    if 'dictionary' in object:\n",
        "        object = object['dictionary']\n",
        "    for key, value in object.items():\n",
        "        if key == '/Parent':\n",
        "            continue\n",
        "        if isinstance(value, dict):\n",
        "            references += references_recursive(value)\n",
        "            continue\n",
        "        references += get_reference_id(value)\n",
        "\n",
        "    return references"
      ],
      "metadata": {
        "id": "55gw95Rl5VF7"
      },
      "execution_count": 82,
      "outputs": []
    },
    {
      "cell_type": "code",
      "source": [
        "def get_tree(objects, root):\n",
        "    root_object = objects[root]\n",
        "    root = f\"{root}: {root_object['dictionary'].get('/Type', 'obj')}\"\n",
        "    tree = Tree(root)\n",
        "\n",
        "    references = references_recursive(root_object)\n",
        "\n",
        "    for ref_id in references:\n",
        "        node = get_tree(objects, ref_id).root\n",
        "        tree.add_child(root, node)\n",
        "\n",
        "    return tree"
      ],
      "metadata": {
        "id": "4TixSPyFKgod"
      },
      "execution_count": 83,
      "outputs": []
    },
    {
      "cell_type": "code",
      "source": [
        "tree = get_tree(OBJECTS, get_reference_id(TRAILER_ROOT)[0])"
      ],
      "metadata": {
        "id": "CHr6xnLpxMof"
      },
      "execution_count": 84,
      "outputs": []
    },
    {
      "cell_type": "code",
      "source": [
        "print(tree)"
      ],
      "metadata": {
        "colab": {
          "base_uri": "https://localhost:8080/"
        },
        "id": "P82ypS5z3Fea",
        "outputId": "ac4f0a60-7755-4406-baed-a802886f89a3"
      },
      "execution_count": 85,
      "outputs": [
        {
          "output_type": "stream",
          "name": "stdout",
          "text": [
            "1: /Catalog\n",
            "\t3: /Pages\n",
            "\t\t4: /Page\n",
            "\t\t\t6: obj\n",
            "\t\t\t5: obj\n",
            "\t2: /Outlines\n",
            "\n"
          ]
        }
      ]
    },
    {
      "cell_type": "code",
      "source": [],
      "metadata": {
        "id": "PTkQaS5q3ize"
      },
      "execution_count": null,
      "outputs": []
    }
  ]
}